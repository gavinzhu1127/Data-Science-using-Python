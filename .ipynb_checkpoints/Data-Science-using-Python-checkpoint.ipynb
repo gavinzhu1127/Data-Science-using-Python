{
 "cells": [
  {
   "cell_type": "markdown",
   "metadata": {
    "toc-hr-collapsed": true
   },
   "source": [
    "# Data Structure: Strings, Lists, Dictionaries and Tuples"
   ]
  },
  {
   "cell_type": "code",
   "execution_count": 183,
   "metadata": {},
   "outputs": [],
   "source": [
    "# suppress warning\n",
    "import warnings\n",
    "warnings.filterwarnings('ignore')"
   ]
  },
  {
   "cell_type": "markdown",
   "metadata": {},
   "source": [
    "## String"
   ]
  },
  {
   "cell_type": "markdown",
   "metadata": {},
   "source": [
    "Define a string using either \"\" or '' to"
   ]
  },
  {
   "cell_type": "code",
   "execution_count": 1,
   "metadata": {},
   "outputs": [
    {
     "name": "stdout",
     "output_type": "stream",
     "text": [
      "San Francisco Population:    1837442\n",
      "String has 36 character\n"
     ]
    }
   ],
   "source": [
    "text = \"San Francisco Population:    1837442\";\n",
    "print(text)\n",
    "# print out the length of the string\n",
    "print('String has', len(text), 'character')"
   ]
  },
  {
   "cell_type": "markdown",
   "metadata": {},
   "source": [
    "There are many ways to manipulat string"
   ]
  },
  {
   "cell_type": "code",
   "execution_count": 2,
   "metadata": {},
   "outputs": [
    {
     "name": "stdout",
     "output_type": "stream",
     "text": [
      "string part: San Francisco Population\n"
     ]
    }
   ],
   "source": [
    "# find a string with string\n",
    "pos=text.find(':')\n",
    "print('string part:', text[:pos])"
   ]
  },
  {
   "cell_type": "code",
   "execution_count": 186,
   "metadata": {},
   "outputs": [
    {
     "name": "stdout",
     "output_type": "stream",
     "text": [
      "convert string to float: 1837442.0\n"
     ]
    }
   ],
   "source": [
    "# substring\n",
    "num = float(text[pos+1:])\n",
    "# f string is only avaiable in python 3.6+\n",
    "print(f'convert string to float: {num}')"
   ]
  },
  {
   "cell_type": "code",
   "execution_count": 187,
   "metadata": {},
   "outputs": [
    {
     "data": {
      "text/plain": [
       "'New York Population:    1837442'"
      ]
     },
     "execution_count": 187,
     "metadata": {},
     "output_type": "execute_result"
    }
   ],
   "source": [
    "# replace string with string\n",
    "text.replace('San Francisco', 'New York')"
   ]
  },
  {
   "cell_type": "code",
   "execution_count": 188,
   "metadata": {},
   "outputs": [
    {
     "data": {
      "text/plain": [
       "'SAN FRANCISCO POPULATION:    1837442'"
      ]
     },
     "execution_count": 188,
     "metadata": {},
     "output_type": "execute_result"
    }
   ],
   "source": [
    "# upper case of string\n",
    "text.upper()"
   ]
  },
  {
   "cell_type": "markdown",
   "metadata": {},
   "source": [
    "## List"
   ]
  },
  {
   "cell_type": "markdown",
   "metadata": {},
   "source": [
    "Define a list using []"
   ]
  },
  {
   "cell_type": "code",
   "execution_count": 3,
   "metadata": {},
   "outputs": [
    {
     "name": "stdout",
     "output_type": "stream",
     "text": [
      "['San Francisco', 'New York', 'Los Angeles', 'Tokyo']\n"
     ]
    }
   ],
   "source": [
    "cities = ['San Francisco','New York','Los Angeles','Tokyo']\n",
    "print(cities)"
   ]
  },
  {
   "cell_type": "markdown",
   "metadata": {},
   "source": [
    "Lists are mutable which means we can add, remove, sort the list"
   ]
  },
  {
   "cell_type": "code",
   "execution_count": 5,
   "metadata": {},
   "outputs": [
    {
     "name": "stdout",
     "output_type": "stream",
     "text": [
      "result after adding an item: ['Tokyo', 'San Francisco', 'New York', 'Los Angeles', 'Shanghai']\n",
      "result after removing an item: ['Tokyo', 'San Francisco', 'New York', 'Los Angeles']\n",
      "result after sorting an item: ['Tokyo', 'San Francisco', 'New York', 'Los Angeles']\n"
     ]
    }
   ],
   "source": [
    "# add\n",
    "cities.append('Shanghai')\n",
    "print(f\"result after adding an item: {cities}\")\n",
    "# remove\n",
    "cities.remove('Shanghai')\n",
    "print(f\"result after removing an item: {cities}\")\n",
    "# sort\n",
    "cities.sort(reverse=True)\n",
    "print(f\"result after sorting an item: {cities}\")"
   ]
  },
  {
   "cell_type": "markdown",
   "metadata": {},
   "source": [
    "Index in Python is start from 0 and end with length minus 1"
   ]
  },
  {
   "cell_type": "code",
   "execution_count": 6,
   "metadata": {},
   "outputs": [
    {
     "name": "stdout",
     "output_type": "stream",
     "text": [
      "the first item in the list is Tokyo and the last item in the list is Los Angeles\n",
      "['Tokyo', 'San Francisco']\n",
      "['New York', 'Los Angeles']\n",
      "['San Francisco', 'New York']\n",
      "['Tokyo', 'New York']\n",
      "['San Francisco', 'Los Angeles']\n"
     ]
    }
   ],
   "source": [
    "# the first and last values\n",
    "print(f\"the first item in the list is {cities[0]} and the last item in the list is {cities[len(cities)-1]}\")\n",
    "# take the first two values\n",
    "print(cities[:2])\n",
    "# take the last two values\n",
    "print(cities[-2:])\n",
    "# take the middle two values\n",
    "print(cities[1:3])\n",
    "# take every other values\n",
    "print(cities[::2])\n",
    "# take every other values\n",
    "print(cities[1::2])"
   ]
  },
  {
   "cell_type": "markdown",
   "metadata": {},
   "source": [
    "## Dictionary"
   ]
  },
  {
   "cell_type": "markdown",
   "metadata": {},
   "source": [
    "Dictionary is defined using {} and it has two components: key and value pair"
   ]
  },
  {
   "cell_type": "code",
   "execution_count": 8,
   "metadata": {},
   "outputs": [],
   "source": [
    "city_population = {'Tokyo': 13350000,\n",
    "                  'Los Angeles': 18550000,\n",
    "                  'New York City': 8400000,\n",
    "                  'San Francisco': 1837442,\n",
    "                  }"
   ]
  },
  {
   "cell_type": "code",
   "execution_count": 9,
   "metadata": {},
   "outputs": [
    {
     "name": "stdout",
     "output_type": "stream",
     "text": [
      "keys: dict_keys(['Tokyo', 'Los Angeles', 'New York City', 'San Francisco'])\n",
      "keys: dict_values([13350000, 18550000, 8400000, 1837442])\n"
     ]
    }
   ],
   "source": [
    "print('keys:', city_population.keys())\n",
    "print('keys:', city_population.values())"
   ]
  },
  {
   "cell_type": "markdown",
   "metadata": {},
   "source": [
    "Get the value by using its corresponding key"
   ]
  },
  {
   "cell_type": "code",
   "execution_count": 10,
   "metadata": {},
   "outputs": [
    {
     "name": "stdout",
     "output_type": "stream",
     "text": [
      "the population of Tokyo: 13350000\n",
      "the population of New York City: 8400000\n"
     ]
    }
   ],
   "source": [
    "# for f string: If you are going to use single quotation marks for the keys of the dictionary, \n",
    "# then make sure you’re using double quotation marks for the f-strings containing the keys, vice versa\n",
    "print(f\"the population of Tokyo: {city_population['Tokyo']}\")\n",
    "print(f'the population of New York City: {city_population[\"New York City\"]}') "
   ]
  },
  {
   "cell_type": "markdown",
   "metadata": {},
   "source": [
    "Dictionaries are mutable as well"
   ]
  },
  {
   "cell_type": "code",
   "execution_count": 11,
   "metadata": {},
   "outputs": [
    {
     "name": "stdout",
     "output_type": "stream",
     "text": [
      "dictionary after add an element: {'Tokyo': 13350000, 'Los Angeles': 18550000, 'New York City': 8400000, 'San Francisco': 1837442, 'Shanghai': 24000000}\n",
      "dictionary after remove an element: {'Tokyo': 13350000, 'Los Angeles': 18550000, 'New York City': 8400000, 'San Francisco': 1837442}\n"
     ]
    }
   ],
   "source": [
    "# add an element to dictionary\n",
    "city_population['Shanghai'] = 24000000\n",
    "print(f'dictionary after add an element: {city_population}')\n",
    "# remove an element from dictionary\n",
    "del city_population['Shanghai']\n",
    "print(f'dictionary after remove an element: {city_population}')"
   ]
  },
  {
   "cell_type": "markdown",
   "metadata": {},
   "source": [
    "We can use zip to create dictionary from list "
   ]
  },
  {
   "cell_type": "code",
   "execution_count": 12,
   "metadata": {},
   "outputs": [
    {
     "name": "stdout",
     "output_type": "stream",
     "text": [
      "{'Tokyo': 13350000, 'Los Angeles': 18550000, 'New York City': 8400000, 'San Francisco': 1837442}\n"
     ]
    }
   ],
   "source": [
    "# zip(key, value)\n",
    "city_population2 = dict(zip(['Tokyo', 'Los Angeles', 'New York City', 'San Francisco'], \n",
    "                            [13350000, 18550000, 8400000, 1837442]))\n",
    "print(city_population2)"
   ]
  },
  {
   "cell_type": "markdown",
   "metadata": {},
   "source": [
    "## Tuple"
   ]
  },
  {
   "cell_type": "markdown",
   "metadata": {},
   "source": [
    "Tuples are like lists but are immutable"
   ]
  },
  {
   "cell_type": "code",
   "execution_count": 13,
   "metadata": {},
   "outputs": [
    {
     "name": "stdout",
     "output_type": "stream",
     "text": [
      "length of the tuple is: 3\n"
     ]
    }
   ],
   "source": [
    "tup = (1, 2, 3)\n",
    "print(f'length of the tuple is: {len(tup)}')"
   ]
  },
  {
   "cell_type": "code",
   "execution_count": 14,
   "metadata": {},
   "outputs": [
    {
     "name": "stdout",
     "output_type": "stream",
     "text": [
      "the sum of new tuple: 21\n",
      "the sum of new tuple: 6\n"
     ]
    }
   ],
   "source": [
    "new_tup = tup + (4, 5, 6) \n",
    "print(f'the sum of new tuple: {sum(new_tup)}')\n",
    "print(f'the sum of new tuple: {sum(tup)}')"
   ]
  },
  {
   "cell_type": "markdown",
   "metadata": {
    "toc-hr-collapsed": true
   },
   "source": [
    "# Loops and Conditions"
   ]
  },
  {
   "cell_type": "markdown",
   "metadata": {},
   "source": [
    "## Loop Through List"
   ]
  },
  {
   "cell_type": "markdown",
   "metadata": {},
   "source": [
    "One of the most distinctive features of Python is its use of indentation to mark blocks of code"
   ]
  },
  {
   "cell_type": "code",
   "execution_count": 15,
   "metadata": {},
   "outputs": [
    {
     "name": "stdout",
     "output_type": "stream",
     "text": [
      "0 Tokyo\n",
      "1 San Francisco\n",
      "2 New York\n",
      "3 Los Angeles\n"
     ]
    }
   ],
   "source": [
    "for i in range(len(cities)):\n",
    "    print(i, cities[i])"
   ]
  },
  {
   "cell_type": "markdown",
   "metadata": {},
   "source": [
    "The most \"pythonic\" way is to use 4 spaces per indentation level. The Python interpreter will however recognize spaces or tabs. The only gottcha is you must never mix spaces and tabs, pick one or the other"
   ]
  },
  {
   "cell_type": "code",
   "execution_count": 16,
   "metadata": {},
   "outputs": [
    {
     "name": "stdout",
     "output_type": "stream",
     "text": [
      "0 Tokyo\n",
      "1 San Francisco\n",
      "2 New York\n",
      "3 Los Angeles\n"
     ]
    }
   ],
   "source": [
    "i = 0\n",
    "while (i < len(cities)):\n",
    "   print(i, cities[i])\n",
    "   i = i + 1"
   ]
  },
  {
   "cell_type": "markdown",
   "metadata": {},
   "source": [
    "## Loop Through Dictionary"
   ]
  },
  {
   "cell_type": "code",
   "execution_count": 17,
   "metadata": {},
   "outputs": [
    {
     "name": "stdout",
     "output_type": "stream",
     "text": [
      "Tokyo 13350000\n",
      "Los Angeles 18550000\n",
      "New York City 8400000\n",
      "San Francisco 1837442\n"
     ]
    }
   ],
   "source": [
    "for key, value in city_population.items():\n",
    "    print(key, value)"
   ]
  },
  {
   "cell_type": "code",
   "execution_count": 18,
   "metadata": {},
   "outputs": [
    {
     "name": "stdout",
     "output_type": "stream",
     "text": [
      "Tokyo 13350000\n",
      "Los Angeles 18550000\n",
      "New York City 8400000\n",
      "San Francisco 1837442\n"
     ]
    }
   ],
   "source": [
    "i = 0\n",
    "while (i < len(city_population)):\n",
    "   print(list(city_population.keys())[i], list(city_population.values())[i])\n",
    "   i = i + 1"
   ]
  },
  {
   "cell_type": "markdown",
   "metadata": {},
   "source": [
    "## Condition"
   ]
  },
  {
   "cell_type": "markdown",
   "metadata": {},
   "source": [
    "Use if...elif...else Statements to define conditions"
   ]
  },
  {
   "cell_type": "code",
   "execution_count": 19,
   "metadata": {},
   "outputs": [
    {
     "name": "stdin",
     "output_type": "stream",
     "text": [
      "Enter Hours: 60\n",
      "Enter Rate: 50\n"
     ]
    },
    {
     "name": "stdout",
     "output_type": "stream",
     "text": [
      "Wage: 3750.0\n"
     ]
    }
   ],
   "source": [
    "try:\n",
    "    hrs = input(\"Enter Hours:\")\n",
    "    h = float(hrs)\n",
    "    rate = input(\"Enter Rate:\")\n",
    "    r = float(rate)\n",
    "    # if within 40 hours per week\n",
    "    if h <= 40:\n",
    "        pay = h*r\n",
    "    elif h > 40 and h <= 50:\n",
    "        pay = 40 * r + (h - 40) * r * 1.5\n",
    "    # if beyond 40 hours\n",
    "    else:\n",
    "        pay = 40 * r + 10 * r * 1.5 + (h - 50) * r * 2\n",
    "    print (f\"Wage: {pay}\")\n",
    "except:\n",
    "    print ('Error. Please enter numeric input')\n",
    "    quit()"
   ]
  },
  {
   "cell_type": "markdown",
   "metadata": {
    "toc-hr-collapsed": true
   },
   "source": [
    "# Array (using Numpy)"
   ]
  },
  {
   "cell_type": "markdown",
   "metadata": {},
   "source": [
    "NumPy is a Python library for adding support for large, multi-dimensional arrays and matrices, along with a large collection of high-level mathematical functions to operate on these arrays"
   ]
  },
  {
   "cell_type": "code",
   "execution_count": 20,
   "metadata": {},
   "outputs": [],
   "source": [
    "import numpy as np"
   ]
  },
  {
   "cell_type": "markdown",
   "metadata": {},
   "source": [
    "## Create Numpy Array"
   ]
  },
  {
   "cell_type": "markdown",
   "metadata": {},
   "source": [
    "Generate numpy array using random number"
   ]
  },
  {
   "cell_type": "code",
   "execution_count": 22,
   "metadata": {},
   "outputs": [
    {
     "name": "stdout",
     "output_type": "stream",
     "text": [
      "[0.89286015 0.33197981 0.82122912 0.04169663 0.10765668 0.59505206\n",
      " 0.52981736 0.41880743 0.33540785 0.62251943]\n"
     ]
    }
   ],
   "source": [
    "np.random.seed(6)\n",
    "rand_list = np.random.random(10)\n",
    "print(rand_list)"
   ]
  },
  {
   "cell_type": "code",
   "execution_count": 23,
   "metadata": {},
   "outputs": [
    {
     "data": {
      "text/plain": [
       "numpy.ndarray"
      ]
     },
     "execution_count": 23,
     "metadata": {},
     "output_type": "execute_result"
    }
   ],
   "source": [
    "type(rand_list)"
   ]
  },
  {
   "cell_type": "markdown",
   "metadata": {},
   "source": [
    "## Universal Function"
   ]
  },
  {
   "cell_type": "markdown",
   "metadata": {},
   "source": [
    "There are many universal functions in numpy such as np.power, np.exp, np.log, np.mean, np.media, etc"
   ]
  },
  {
   "cell_type": "code",
   "execution_count": 24,
   "metadata": {},
   "outputs": [
    {
     "name": "stdout",
     "output_type": "stream",
     "text": [
      "[1.8568537  1.25873955 1.76691069 1.02932361 1.07747671 1.5105271\n",
      " 1.44374641 1.33682204 1.26173405 1.53956143]\n"
     ]
    }
   ],
   "source": [
    "print(np.power(2, rand_list))"
   ]
  },
  {
   "cell_type": "markdown",
   "metadata": {},
   "source": [
    "## Search Value in Array"
   ]
  },
  {
   "cell_type": "markdown",
   "metadata": {},
   "source": [
    "numpy support boolean selection"
   ]
  },
  {
   "cell_type": "code",
   "execution_count": 26,
   "metadata": {},
   "outputs": [
    {
     "name": "stdout",
     "output_type": "stream",
     "text": [
      "[0.33197981 0.04169663 0.10765668 0.41880743 0.33540785]\n"
     ]
    }
   ],
   "source": [
    "print(rand_list[rand_list < 0.5])"
   ]
  },
  {
   "cell_type": "markdown",
   "metadata": {},
   "source": [
    "np.where returns a index arrays where condition is True"
   ]
  },
  {
   "cell_type": "code",
   "execution_count": 209,
   "metadata": {},
   "outputs": [
    {
     "name": "stdout",
     "output_type": "stream",
     "text": [
      "(array([1, 3, 4, 7, 8], dtype=int64),)\n",
      "[0.33197981 0.04169663 0.10765668 0.41880743 0.33540785]\n"
     ]
    }
   ],
   "source": [
    "print(np.where(rand_list < 0.5))\n",
    "print(rand_list[np.where(rand_list < 0.5)])"
   ]
  },
  {
   "cell_type": "markdown",
   "metadata": {},
   "source": [
    "List comprehensions provide a concise way to create lists"
   ]
  },
  {
   "cell_type": "code",
   "execution_count": 27,
   "metadata": {},
   "outputs": [
    {
     "name": "stdout",
     "output_type": "stream",
     "text": [
      "[0.3319798053011772, 0.0416966257252499, 0.10765667993596795, 0.4188074285566543, 0.33540784927332923]\n"
     ]
    }
   ],
   "source": [
    "print([i for i in rand_list if i < 0.5])"
   ]
  },
  {
   "cell_type": "markdown",
   "metadata": {},
   "source": [
    "## Array Attributes"
   ]
  },
  {
   "cell_type": "code",
   "execution_count": 211,
   "metadata": {},
   "outputs": [
    {
     "name": "stdout",
     "output_type": "stream",
     "text": [
      "dtype: float64\n",
      "rand_list ndim:  1\n",
      "rand_list shape: (10,)\n",
      "rand_list size:  10\n",
      "itemsize: 8 bytes\n",
      "nbytes: 80 bytes\n"
     ]
    }
   ],
   "source": [
    "print(\"dtype:\", rand_list.dtype)\n",
    "print(\"rand_list ndim: \", rand_list.ndim) \n",
    "print(\"rand_list shape:\", rand_list.shape) \n",
    "print(\"rand_list size: \", rand_list.size) \n",
    "print(\"itemsize:\", rand_list.itemsize, \"bytes\") #Length of one array element in bytes\n",
    "print(\"nbytes:\", rand_list.nbytes, \"bytes\") #Total bytes consumed by the elements of the array"
   ]
  },
  {
   "cell_type": "markdown",
   "metadata": {},
   "source": [
    "## Multi Dimensional Arrays"
   ]
  },
  {
   "cell_type": "markdown",
   "metadata": {},
   "source": [
    "Reshape data to different dimension"
   ]
  },
  {
   "cell_type": "code",
   "execution_count": 28,
   "metadata": {},
   "outputs": [
    {
     "name": "stdout",
     "output_type": "stream",
     "text": [
      "[[0.89286015 0.33197981 0.82122912 0.04169663 0.10765668]\n",
      " [0.59505206 0.52981736 0.41880743 0.33540785 0.62251943]]\n"
     ]
    }
   ],
   "source": [
    "multi_rand = rand_list.reshape((2, 5))\n",
    "print(multi_rand)"
   ]
  },
  {
   "cell_type": "markdown",
   "metadata": {},
   "source": [
    "Transpose data (similar as matrix transpose)"
   ]
  },
  {
   "cell_type": "code",
   "execution_count": 29,
   "metadata": {},
   "outputs": [
    {
     "name": "stdout",
     "output_type": "stream",
     "text": [
      "[[0.89286015 0.59505206]\n",
      " [0.33197981 0.52981736]\n",
      " [0.82122912 0.41880743]\n",
      " [0.04169663 0.33540785]\n",
      " [0.10765668 0.62251943]]\n"
     ]
    }
   ],
   "source": [
    "print(np.transpose(multi_rand))"
   ]
  },
  {
   "cell_type": "markdown",
   "metadata": {},
   "source": [
    "## Sort Array"
   ]
  },
  {
   "cell_type": "markdown",
   "metadata": {},
   "source": [
    "Sort one dimension numpy array"
   ]
  },
  {
   "cell_type": "code",
   "execution_count": 30,
   "metadata": {},
   "outputs": [
    {
     "name": "stdout",
     "output_type": "stream",
     "text": [
      "ascending order: [0.04169663 0.10765668 0.33197981 0.33540785 0.41880743 0.52981736\n",
      " 0.59505206 0.62251943 0.82122912 0.89286015]\n",
      "ascending order: [0.89286015 0.82122912 0.62251943 0.59505206 0.52981736 0.41880743\n",
      " 0.33540785 0.33197981 0.10765668 0.04169663]\n"
     ]
    }
   ],
   "source": [
    "# ascending order\n",
    "print(f\"ascending order: {np.sort(rand_list)}\")\n",
    "# descending order\n",
    "print(f\"ascending order: {np.sort(rand_list)[::-1]}\")"
   ]
  },
  {
   "cell_type": "markdown",
   "metadata": {},
   "source": [
    "Sort multi-dimension numpy array (axis=0 along the rows by default and axis=1 along the columns)"
   ]
  },
  {
   "cell_type": "code",
   "execution_count": 31,
   "metadata": {},
   "outputs": [
    {
     "name": "stdout",
     "output_type": "stream",
     "text": [
      "[[0.59505206 0.33197981 0.41880743 0.04169663 0.10765668]\n",
      " [0.89286015 0.52981736 0.82122912 0.33540785 0.62251943]]\n"
     ]
    }
   ],
   "source": [
    "print(np.sort(multi_rand, axis=0))"
   ]
  },
  {
   "cell_type": "markdown",
   "metadata": {
    "toc-hr-collapsed": true
   },
   "source": [
    "# DataFrame (using Pandas)"
   ]
  },
  {
   "cell_type": "markdown",
   "metadata": {},
   "source": [
    "pandas is a Python library providing high-performance, easy-to-use data structures and data analysis"
   ]
  },
  {
   "cell_type": "code",
   "execution_count": 32,
   "metadata": {},
   "outputs": [],
   "source": [
    "import pandas as pd"
   ]
  },
  {
   "cell_type": "code",
   "execution_count": 33,
   "metadata": {},
   "outputs": [],
   "source": [
    "#Limiting floats output to 3 decimal points\n",
    "pd.set_option('display.float_format', lambda x: '{:.2f}'.format(x))"
   ]
  },
  {
   "cell_type": "markdown",
   "metadata": {},
   "source": [
    "## Import and Understand Data"
   ]
  },
  {
   "cell_type": "markdown",
   "metadata": {},
   "source": [
    "Pandas can import data from local machine, S3 or URL"
   ]
  },
  {
   "cell_type": "code",
   "execution_count": 34,
   "metadata": {},
   "outputs": [],
   "source": [
    "loc = 'http://web.stanford.edu/class/archive/cs/cs109/cs109.1166/stuff/titanic.csv'\n",
    "# loc = r'C:\\Users\\gzhu\\Documents\\GuangwenZhu\\Projects\\Python\\titanic.csv'\n",
    "titanic_df = pd.read_csv(loc)"
   ]
  },
  {
   "cell_type": "markdown",
   "metadata": {},
   "source": [
    "Dimension of the data set"
   ]
  },
  {
   "cell_type": "code",
   "execution_count": 35,
   "metadata": {},
   "outputs": [
    {
     "data": {
      "text/plain": [
       "(887, 8)"
      ]
     },
     "execution_count": 35,
     "metadata": {},
     "output_type": "execute_result"
    }
   ],
   "source": [
    "titanic_df.shape"
   ]
  },
  {
   "cell_type": "markdown",
   "metadata": {},
   "source": [
    "Column names, counts and data types"
   ]
  },
  {
   "cell_type": "code",
   "execution_count": 36,
   "metadata": {},
   "outputs": [
    {
     "name": "stdout",
     "output_type": "stream",
     "text": [
      "<class 'pandas.core.frame.DataFrame'>\n",
      "RangeIndex: 887 entries, 0 to 886\n",
      "Data columns (total 8 columns):\n",
      "Survived                   887 non-null int64\n",
      "Pclass                     887 non-null int64\n",
      "Name                       887 non-null object\n",
      "Sex                        887 non-null object\n",
      "Age                        887 non-null float64\n",
      "Siblings/Spouses Aboard    887 non-null int64\n",
      "Parents/Children Aboard    887 non-null int64\n",
      "Fare                       887 non-null float64\n",
      "dtypes: float64(2), int64(4), object(2)\n",
      "memory usage: 55.5+ KB\n"
     ]
    }
   ],
   "source": [
    "titanic_df.info()"
   ]
  },
  {
   "cell_type": "markdown",
   "metadata": {},
   "source": [
    "Basic statistic summary for all Numeric columns"
   ]
  },
  {
   "cell_type": "code",
   "execution_count": 37,
   "metadata": {},
   "outputs": [
    {
     "data": {
      "text/html": [
       "<div>\n",
       "<style scoped>\n",
       "    .dataframe tbody tr th:only-of-type {\n",
       "        vertical-align: middle;\n",
       "    }\n",
       "\n",
       "    .dataframe tbody tr th {\n",
       "        vertical-align: top;\n",
       "    }\n",
       "\n",
       "    .dataframe thead th {\n",
       "        text-align: right;\n",
       "    }\n",
       "</style>\n",
       "<table border=\"1\" class=\"dataframe\">\n",
       "  <thead>\n",
       "    <tr style=\"text-align: right;\">\n",
       "      <th></th>\n",
       "      <th>Survived</th>\n",
       "      <th>Pclass</th>\n",
       "      <th>Age</th>\n",
       "      <th>Siblings/Spouses Aboard</th>\n",
       "      <th>Parents/Children Aboard</th>\n",
       "      <th>Fare</th>\n",
       "    </tr>\n",
       "  </thead>\n",
       "  <tbody>\n",
       "    <tr>\n",
       "      <th>count</th>\n",
       "      <td>887.00</td>\n",
       "      <td>887.00</td>\n",
       "      <td>887.00</td>\n",
       "      <td>887.00</td>\n",
       "      <td>887.00</td>\n",
       "      <td>887.00</td>\n",
       "    </tr>\n",
       "    <tr>\n",
       "      <th>mean</th>\n",
       "      <td>0.39</td>\n",
       "      <td>2.31</td>\n",
       "      <td>29.47</td>\n",
       "      <td>0.53</td>\n",
       "      <td>0.38</td>\n",
       "      <td>32.31</td>\n",
       "    </tr>\n",
       "    <tr>\n",
       "      <th>std</th>\n",
       "      <td>0.49</td>\n",
       "      <td>0.84</td>\n",
       "      <td>14.12</td>\n",
       "      <td>1.10</td>\n",
       "      <td>0.81</td>\n",
       "      <td>49.78</td>\n",
       "    </tr>\n",
       "    <tr>\n",
       "      <th>min</th>\n",
       "      <td>0.00</td>\n",
       "      <td>1.00</td>\n",
       "      <td>0.42</td>\n",
       "      <td>0.00</td>\n",
       "      <td>0.00</td>\n",
       "      <td>0.00</td>\n",
       "    </tr>\n",
       "    <tr>\n",
       "      <th>25%</th>\n",
       "      <td>0.00</td>\n",
       "      <td>2.00</td>\n",
       "      <td>20.25</td>\n",
       "      <td>0.00</td>\n",
       "      <td>0.00</td>\n",
       "      <td>7.92</td>\n",
       "    </tr>\n",
       "    <tr>\n",
       "      <th>50%</th>\n",
       "      <td>0.00</td>\n",
       "      <td>3.00</td>\n",
       "      <td>28.00</td>\n",
       "      <td>0.00</td>\n",
       "      <td>0.00</td>\n",
       "      <td>14.45</td>\n",
       "    </tr>\n",
       "    <tr>\n",
       "      <th>75%</th>\n",
       "      <td>1.00</td>\n",
       "      <td>3.00</td>\n",
       "      <td>38.00</td>\n",
       "      <td>1.00</td>\n",
       "      <td>0.00</td>\n",
       "      <td>31.14</td>\n",
       "    </tr>\n",
       "    <tr>\n",
       "      <th>max</th>\n",
       "      <td>1.00</td>\n",
       "      <td>3.00</td>\n",
       "      <td>80.00</td>\n",
       "      <td>8.00</td>\n",
       "      <td>6.00</td>\n",
       "      <td>512.33</td>\n",
       "    </tr>\n",
       "  </tbody>\n",
       "</table>\n",
       "</div>"
      ],
      "text/plain": [
       "       Survived  Pclass    Age  Siblings/Spouses Aboard  \\\n",
       "count    887.00  887.00 887.00                   887.00   \n",
       "mean       0.39    2.31  29.47                     0.53   \n",
       "std        0.49    0.84  14.12                     1.10   \n",
       "min        0.00    1.00   0.42                     0.00   \n",
       "25%        0.00    2.00  20.25                     0.00   \n",
       "50%        0.00    3.00  28.00                     0.00   \n",
       "75%        1.00    3.00  38.00                     1.00   \n",
       "max        1.00    3.00  80.00                     8.00   \n",
       "\n",
       "       Parents/Children Aboard   Fare  \n",
       "count                   887.00 887.00  \n",
       "mean                      0.38  32.31  \n",
       "std                       0.81  49.78  \n",
       "min                       0.00   0.00  \n",
       "25%                       0.00   7.92  \n",
       "50%                       0.00  14.45  \n",
       "75%                       0.00  31.14  \n",
       "max                       6.00 512.33  "
      ]
     },
     "execution_count": 37,
     "metadata": {},
     "output_type": "execute_result"
    }
   ],
   "source": [
    "titanic_df.describe()"
   ]
  },
  {
   "cell_type": "markdown",
   "metadata": {},
   "source": [
    "Data preview"
   ]
  },
  {
   "cell_type": "code",
   "execution_count": 222,
   "metadata": {},
   "outputs": [
    {
     "data": {
      "text/html": [
       "<div>\n",
       "<style scoped>\n",
       "    .dataframe tbody tr th:only-of-type {\n",
       "        vertical-align: middle;\n",
       "    }\n",
       "\n",
       "    .dataframe tbody tr th {\n",
       "        vertical-align: top;\n",
       "    }\n",
       "\n",
       "    .dataframe thead th {\n",
       "        text-align: right;\n",
       "    }\n",
       "</style>\n",
       "<table border=\"1\" class=\"dataframe\">\n",
       "  <thead>\n",
       "    <tr style=\"text-align: right;\">\n",
       "      <th></th>\n",
       "      <th>Survived</th>\n",
       "      <th>Pclass</th>\n",
       "      <th>Name</th>\n",
       "      <th>Sex</th>\n",
       "      <th>Age</th>\n",
       "      <th>Siblings/Spouses Aboard</th>\n",
       "      <th>Parents/Children Aboard</th>\n",
       "      <th>Fare</th>\n",
       "    </tr>\n",
       "  </thead>\n",
       "  <tbody>\n",
       "    <tr>\n",
       "      <th>0</th>\n",
       "      <td>0</td>\n",
       "      <td>3</td>\n",
       "      <td>Mr. Owen Harris Braund</td>\n",
       "      <td>male</td>\n",
       "      <td>22.00</td>\n",
       "      <td>1</td>\n",
       "      <td>0</td>\n",
       "      <td>7.25</td>\n",
       "    </tr>\n",
       "    <tr>\n",
       "      <th>1</th>\n",
       "      <td>1</td>\n",
       "      <td>1</td>\n",
       "      <td>Mrs. John Bradley (Florence Briggs Thayer) Cum...</td>\n",
       "      <td>female</td>\n",
       "      <td>38.00</td>\n",
       "      <td>1</td>\n",
       "      <td>0</td>\n",
       "      <td>71.28</td>\n",
       "    </tr>\n",
       "    <tr>\n",
       "      <th>2</th>\n",
       "      <td>1</td>\n",
       "      <td>3</td>\n",
       "      <td>Miss. Laina Heikkinen</td>\n",
       "      <td>female</td>\n",
       "      <td>26.00</td>\n",
       "      <td>0</td>\n",
       "      <td>0</td>\n",
       "      <td>7.92</td>\n",
       "    </tr>\n",
       "    <tr>\n",
       "      <th>3</th>\n",
       "      <td>1</td>\n",
       "      <td>1</td>\n",
       "      <td>Mrs. Jacques Heath (Lily May Peel) Futrelle</td>\n",
       "      <td>female</td>\n",
       "      <td>35.00</td>\n",
       "      <td>1</td>\n",
       "      <td>0</td>\n",
       "      <td>53.10</td>\n",
       "    </tr>\n",
       "    <tr>\n",
       "      <th>4</th>\n",
       "      <td>0</td>\n",
       "      <td>3</td>\n",
       "      <td>Mr. William Henry Allen</td>\n",
       "      <td>male</td>\n",
       "      <td>35.00</td>\n",
       "      <td>0</td>\n",
       "      <td>0</td>\n",
       "      <td>8.05</td>\n",
       "    </tr>\n",
       "  </tbody>\n",
       "</table>\n",
       "</div>"
      ],
      "text/plain": [
       "   Survived  Pclass                                               Name  \\\n",
       "0         0       3                             Mr. Owen Harris Braund   \n",
       "1         1       1  Mrs. John Bradley (Florence Briggs Thayer) Cum...   \n",
       "2         1       3                              Miss. Laina Heikkinen   \n",
       "3         1       1        Mrs. Jacques Heath (Lily May Peel) Futrelle   \n",
       "4         0       3                            Mr. William Henry Allen   \n",
       "\n",
       "      Sex   Age  Siblings/Spouses Aboard  Parents/Children Aboard  Fare  \n",
       "0    male 22.00                        1                        0  7.25  \n",
       "1  female 38.00                        1                        0 71.28  \n",
       "2  female 26.00                        0                        0  7.92  \n",
       "3  female 35.00                        1                        0 53.10  \n",
       "4    male 35.00                        0                        0  8.05  "
      ]
     },
     "execution_count": 222,
     "metadata": {},
     "output_type": "execute_result"
    }
   ],
   "source": [
    "titanic_df.head(5)"
   ]
  },
  {
   "cell_type": "markdown",
   "metadata": {},
   "source": [
    "Sampling data"
   ]
  },
  {
   "cell_type": "code",
   "execution_count": 223,
   "metadata": {},
   "outputs": [
    {
     "data": {
      "text/html": [
       "<div>\n",
       "<style scoped>\n",
       "    .dataframe tbody tr th:only-of-type {\n",
       "        vertical-align: middle;\n",
       "    }\n",
       "\n",
       "    .dataframe tbody tr th {\n",
       "        vertical-align: top;\n",
       "    }\n",
       "\n",
       "    .dataframe thead th {\n",
       "        text-align: right;\n",
       "    }\n",
       "</style>\n",
       "<table border=\"1\" class=\"dataframe\">\n",
       "  <thead>\n",
       "    <tr style=\"text-align: right;\">\n",
       "      <th></th>\n",
       "      <th>Survived</th>\n",
       "      <th>Pclass</th>\n",
       "      <th>Name</th>\n",
       "      <th>Sex</th>\n",
       "      <th>Age</th>\n",
       "      <th>Siblings/Spouses Aboard</th>\n",
       "      <th>Parents/Children Aboard</th>\n",
       "      <th>Fare</th>\n",
       "    </tr>\n",
       "  </thead>\n",
       "  <tbody>\n",
       "    <tr>\n",
       "      <th>522</th>\n",
       "      <td>0</td>\n",
       "      <td>3</td>\n",
       "      <td>Mr. James Farrell</td>\n",
       "      <td>male</td>\n",
       "      <td>40.50</td>\n",
       "      <td>0</td>\n",
       "      <td>0</td>\n",
       "      <td>7.75</td>\n",
       "    </tr>\n",
       "    <tr>\n",
       "      <th>314</th>\n",
       "      <td>1</td>\n",
       "      <td>2</td>\n",
       "      <td>Mrs. Sinai (Miriam Sternin) Kantor</td>\n",
       "      <td>female</td>\n",
       "      <td>24.00</td>\n",
       "      <td>1</td>\n",
       "      <td>0</td>\n",
       "      <td>26.00</td>\n",
       "    </tr>\n",
       "    <tr>\n",
       "      <th>768</th>\n",
       "      <td>0</td>\n",
       "      <td>2</td>\n",
       "      <td>Mrs. (Mary) Mack</td>\n",
       "      <td>female</td>\n",
       "      <td>57.00</td>\n",
       "      <td>0</td>\n",
       "      <td>0</td>\n",
       "      <td>10.50</td>\n",
       "    </tr>\n",
       "    <tr>\n",
       "      <th>320</th>\n",
       "      <td>1</td>\n",
       "      <td>2</td>\n",
       "      <td>Miss. Hilda Mary Slayter</td>\n",
       "      <td>female</td>\n",
       "      <td>30.00</td>\n",
       "      <td>0</td>\n",
       "      <td>0</td>\n",
       "      <td>12.35</td>\n",
       "    </tr>\n",
       "    <tr>\n",
       "      <th>809</th>\n",
       "      <td>0</td>\n",
       "      <td>3</td>\n",
       "      <td>Miss. Ebba Iris Alfrida Andersson</td>\n",
       "      <td>female</td>\n",
       "      <td>6.00</td>\n",
       "      <td>4</td>\n",
       "      <td>2</td>\n",
       "      <td>31.27</td>\n",
       "    </tr>\n",
       "  </tbody>\n",
       "</table>\n",
       "</div>"
      ],
      "text/plain": [
       "     Survived  Pclass                                Name     Sex   Age  \\\n",
       "522         0       3                   Mr. James Farrell    male 40.50   \n",
       "314         1       2  Mrs. Sinai (Miriam Sternin) Kantor  female 24.00   \n",
       "768         0       2                    Mrs. (Mary) Mack  female 57.00   \n",
       "320         1       2            Miss. Hilda Mary Slayter  female 30.00   \n",
       "809         0       3   Miss. Ebba Iris Alfrida Andersson  female  6.00   \n",
       "\n",
       "     Siblings/Spouses Aboard  Parents/Children Aboard  Fare  \n",
       "522                        0                        0  7.75  \n",
       "314                        1                        0 26.00  \n",
       "768                        0                        0 10.50  \n",
       "320                        0                        0 12.35  \n",
       "809                        4                        2 31.27  "
      ]
     },
     "execution_count": 223,
     "metadata": {},
     "output_type": "execute_result"
    }
   ],
   "source": [
    "titanic_df.sample(n=5, random_state=1)"
   ]
  },
  {
   "cell_type": "markdown",
   "metadata": {},
   "source": [
    "Rename columns"
   ]
  },
  {
   "cell_type": "code",
   "execution_count": 38,
   "metadata": {},
   "outputs": [],
   "source": [
    "titanic_df.rename(columns={'Siblings/Spouses Aboard':'SibSp',\n",
    "                           'Parents/Children Aboard':'ParCh'}, inplace = True)"
   ]
  },
  {
   "cell_type": "markdown",
   "metadata": {},
   "source": [
    "Show column names"
   ]
  },
  {
   "cell_type": "code",
   "execution_count": 39,
   "metadata": {},
   "outputs": [
    {
     "data": {
      "text/plain": [
       "Index(['Survived', 'Pclass', 'Name', 'Sex', 'Age', 'SibSp', 'ParCh', 'Fare'], dtype='object')"
      ]
     },
     "execution_count": 39,
     "metadata": {},
     "output_type": "execute_result"
    }
   ],
   "source": [
    "titanic_df.columns"
   ]
  },
  {
   "cell_type": "markdown",
   "metadata": {},
   "source": [
    "## Different Choices for Indexing"
   ]
  },
  {
   "cell_type": "markdown",
   "metadata": {},
   "source": [
    "The iloc is used for select rows and columns by position"
   ]
  },
  {
   "cell_type": "code",
   "execution_count": 40,
   "metadata": {},
   "outputs": [
    {
     "data": {
      "text/html": [
       "<div>\n",
       "<style scoped>\n",
       "    .dataframe tbody tr th:only-of-type {\n",
       "        vertical-align: middle;\n",
       "    }\n",
       "\n",
       "    .dataframe tbody tr th {\n",
       "        vertical-align: top;\n",
       "    }\n",
       "\n",
       "    .dataframe thead th {\n",
       "        text-align: right;\n",
       "    }\n",
       "</style>\n",
       "<table border=\"1\" class=\"dataframe\">\n",
       "  <thead>\n",
       "    <tr style=\"text-align: right;\">\n",
       "      <th></th>\n",
       "      <th>Pclass</th>\n",
       "      <th>Name</th>\n",
       "      <th>Sex</th>\n",
       "      <th>Age</th>\n",
       "    </tr>\n",
       "  </thead>\n",
       "  <tbody>\n",
       "    <tr>\n",
       "      <th>2</th>\n",
       "      <td>3</td>\n",
       "      <td>Miss. Laina Heikkinen</td>\n",
       "      <td>female</td>\n",
       "      <td>26.00</td>\n",
       "    </tr>\n",
       "    <tr>\n",
       "      <th>3</th>\n",
       "      <td>1</td>\n",
       "      <td>Mrs. Jacques Heath (Lily May Peel) Futrelle</td>\n",
       "      <td>female</td>\n",
       "      <td>35.00</td>\n",
       "    </tr>\n",
       "    <tr>\n",
       "      <th>4</th>\n",
       "      <td>3</td>\n",
       "      <td>Mr. William Henry Allen</td>\n",
       "      <td>male</td>\n",
       "      <td>35.00</td>\n",
       "    </tr>\n",
       "  </tbody>\n",
       "</table>\n",
       "</div>"
      ],
      "text/plain": [
       "   Pclass                                         Name     Sex   Age\n",
       "2       3                        Miss. Laina Heikkinen  female 26.00\n",
       "3       1  Mrs. Jacques Heath (Lily May Peel) Futrelle  female 35.00\n",
       "4       3                      Mr. William Henry Allen    male 35.00"
      ]
     },
     "execution_count": 40,
     "metadata": {},
     "output_type": "execute_result"
    }
   ],
   "source": [
    "titanic_df.iloc[2:5, 1:5]"
   ]
  },
  {
   "cell_type": "markdown",
   "metadata": {},
   "source": [
    "The loc is used for select rows and columns by label"
   ]
  },
  {
   "cell_type": "code",
   "execution_count": 41,
   "metadata": {},
   "outputs": [
    {
     "data": {
      "text/html": [
       "<div>\n",
       "<style scoped>\n",
       "    .dataframe tbody tr th:only-of-type {\n",
       "        vertical-align: middle;\n",
       "    }\n",
       "\n",
       "    .dataframe tbody tr th {\n",
       "        vertical-align: top;\n",
       "    }\n",
       "\n",
       "    .dataframe thead th {\n",
       "        text-align: right;\n",
       "    }\n",
       "</style>\n",
       "<table border=\"1\" class=\"dataframe\">\n",
       "  <thead>\n",
       "    <tr style=\"text-align: right;\">\n",
       "      <th></th>\n",
       "      <th>Pclass</th>\n",
       "      <th>Name</th>\n",
       "      <th>Sex</th>\n",
       "      <th>Age</th>\n",
       "    </tr>\n",
       "  </thead>\n",
       "  <tbody>\n",
       "    <tr>\n",
       "      <th>2</th>\n",
       "      <td>3</td>\n",
       "      <td>Miss. Laina Heikkinen</td>\n",
       "      <td>female</td>\n",
       "      <td>26.00</td>\n",
       "    </tr>\n",
       "    <tr>\n",
       "      <th>3</th>\n",
       "      <td>1</td>\n",
       "      <td>Mrs. Jacques Heath (Lily May Peel) Futrelle</td>\n",
       "      <td>female</td>\n",
       "      <td>35.00</td>\n",
       "    </tr>\n",
       "    <tr>\n",
       "      <th>4</th>\n",
       "      <td>3</td>\n",
       "      <td>Mr. William Henry Allen</td>\n",
       "      <td>male</td>\n",
       "      <td>35.00</td>\n",
       "    </tr>\n",
       "    <tr>\n",
       "      <th>5</th>\n",
       "      <td>3</td>\n",
       "      <td>Mr. James Moran</td>\n",
       "      <td>male</td>\n",
       "      <td>27.00</td>\n",
       "    </tr>\n",
       "  </tbody>\n",
       "</table>\n",
       "</div>"
      ],
      "text/plain": [
       "   Pclass                                         Name     Sex   Age\n",
       "2       3                        Miss. Laina Heikkinen  female 26.00\n",
       "3       1  Mrs. Jacques Heath (Lily May Peel) Futrelle  female 35.00\n",
       "4       3                      Mr. William Henry Allen    male 35.00\n",
       "5       3                              Mr. James Moran    male 27.00"
      ]
     },
     "execution_count": 41,
     "metadata": {},
     "output_type": "execute_result"
    }
   ],
   "source": [
    "titanic_df.loc[2:5, 'Pclass':'Age']"
   ]
  },
  {
   "cell_type": "markdown",
   "metadata": {},
   "source": [
    "## Fill Missing"
   ]
  },
  {
   "cell_type": "markdown",
   "metadata": {},
   "source": [
    "Check number of missing for each column"
   ]
  },
  {
   "cell_type": "code",
   "execution_count": 42,
   "metadata": {},
   "outputs": [
    {
     "data": {
      "text/plain": [
       "Survived    0\n",
       "Pclass      0\n",
       "Name        0\n",
       "Sex         0\n",
       "Age         0\n",
       "SibSp       0\n",
       "ParCh       0\n",
       "Fare        0\n",
       "dtype: int64"
      ]
     },
     "execution_count": 42,
     "metadata": {},
     "output_type": "execute_result"
    }
   ],
   "source": [
    "titanic_df.isnull().sum()"
   ]
  },
  {
   "cell_type": "markdown",
   "metadata": {},
   "source": [
    "Conditional selections with boolean arrays to set 0 to NAN as missing value. We will replace missing to 0 as an example of missing imputation."
   ]
  },
  {
   "cell_type": "code",
   "execution_count": 43,
   "metadata": {},
   "outputs": [
    {
     "data": {
      "text/plain": [
       "Survived    545\n",
       "Pclass        0\n",
       "Name          0\n",
       "Sex           0\n",
       "Age           0\n",
       "SibSp         0\n",
       "ParCh         0\n",
       "Fare          0\n",
       "dtype: int64"
      ]
     },
     "execution_count": 43,
     "metadata": {},
     "output_type": "execute_result"
    }
   ],
   "source": [
    "# change 0 to NaN value\n",
    "titanic_df.loc[titanic_df['Survived']==0, 'Survived'] = np.nan\n",
    "# number of missing for each column\n",
    "pd.isnull(titanic_df).sum() "
   ]
  },
  {
   "cell_type": "markdown",
   "metadata": {},
   "source": [
    "view data after adding missing values"
   ]
  },
  {
   "cell_type": "code",
   "execution_count": 45,
   "metadata": {},
   "outputs": [
    {
     "data": {
      "text/html": [
       "<style  type=\"text/css\" >\n",
       "    #T_8352bd98_18fd_11e9_b4b1_645d864adbc9row0_col0 {\n",
       "            background-color:  red;\n",
       "        }    #T_8352bd98_18fd_11e9_b4b1_645d864adbc9row2_col0 {\n",
       "            background-color:  red;\n",
       "        }    #T_8352bd98_18fd_11e9_b4b1_645d864adbc9row4_col0 {\n",
       "            background-color:  red;\n",
       "        }</style>  \n",
       "<table id=\"T_8352bd98_18fd_11e9_b4b1_645d864adbc9\" > \n",
       "<thead>    <tr> \n",
       "        <th class=\"blank level0\" ></th> \n",
       "        <th class=\"col_heading level0 col0\" >Survived</th> \n",
       "        <th class=\"col_heading level0 col1\" >Pclass</th> \n",
       "        <th class=\"col_heading level0 col2\" >Name</th> \n",
       "        <th class=\"col_heading level0 col3\" >Sex</th> \n",
       "        <th class=\"col_heading level0 col4\" >Age</th> \n",
       "        <th class=\"col_heading level0 col5\" >SibSp</th> \n",
       "        <th class=\"col_heading level0 col6\" >ParCh</th> \n",
       "        <th class=\"col_heading level0 col7\" >Fare</th> \n",
       "    </tr></thead> \n",
       "<tbody>    <tr> \n",
       "        <th id=\"T_8352bd98_18fd_11e9_b4b1_645d864adbc9level0_row0\" class=\"row_heading level0 row0\" >882</th> \n",
       "        <td id=\"T_8352bd98_18fd_11e9_b4b1_645d864adbc9row0_col0\" class=\"data row0 col0\" >nan</td> \n",
       "        <td id=\"T_8352bd98_18fd_11e9_b4b1_645d864adbc9row0_col1\" class=\"data row0 col1\" >2</td> \n",
       "        <td id=\"T_8352bd98_18fd_11e9_b4b1_645d864adbc9row0_col2\" class=\"data row0 col2\" >Rev. Juozas Montvila</td> \n",
       "        <td id=\"T_8352bd98_18fd_11e9_b4b1_645d864adbc9row0_col3\" class=\"data row0 col3\" >male</td> \n",
       "        <td id=\"T_8352bd98_18fd_11e9_b4b1_645d864adbc9row0_col4\" class=\"data row0 col4\" >27</td> \n",
       "        <td id=\"T_8352bd98_18fd_11e9_b4b1_645d864adbc9row0_col5\" class=\"data row0 col5\" >0</td> \n",
       "        <td id=\"T_8352bd98_18fd_11e9_b4b1_645d864adbc9row0_col6\" class=\"data row0 col6\" >0</td> \n",
       "        <td id=\"T_8352bd98_18fd_11e9_b4b1_645d864adbc9row0_col7\" class=\"data row0 col7\" >13</td> \n",
       "    </tr>    <tr> \n",
       "        <th id=\"T_8352bd98_18fd_11e9_b4b1_645d864adbc9level0_row1\" class=\"row_heading level0 row1\" >883</th> \n",
       "        <td id=\"T_8352bd98_18fd_11e9_b4b1_645d864adbc9row1_col0\" class=\"data row1 col0\" >1</td> \n",
       "        <td id=\"T_8352bd98_18fd_11e9_b4b1_645d864adbc9row1_col1\" class=\"data row1 col1\" >1</td> \n",
       "        <td id=\"T_8352bd98_18fd_11e9_b4b1_645d864adbc9row1_col2\" class=\"data row1 col2\" >Miss. Margaret Edith Graham</td> \n",
       "        <td id=\"T_8352bd98_18fd_11e9_b4b1_645d864adbc9row1_col3\" class=\"data row1 col3\" >female</td> \n",
       "        <td id=\"T_8352bd98_18fd_11e9_b4b1_645d864adbc9row1_col4\" class=\"data row1 col4\" >19</td> \n",
       "        <td id=\"T_8352bd98_18fd_11e9_b4b1_645d864adbc9row1_col5\" class=\"data row1 col5\" >0</td> \n",
       "        <td id=\"T_8352bd98_18fd_11e9_b4b1_645d864adbc9row1_col6\" class=\"data row1 col6\" >0</td> \n",
       "        <td id=\"T_8352bd98_18fd_11e9_b4b1_645d864adbc9row1_col7\" class=\"data row1 col7\" >30</td> \n",
       "    </tr>    <tr> \n",
       "        <th id=\"T_8352bd98_18fd_11e9_b4b1_645d864adbc9level0_row2\" class=\"row_heading level0 row2\" >884</th> \n",
       "        <td id=\"T_8352bd98_18fd_11e9_b4b1_645d864adbc9row2_col0\" class=\"data row2 col0\" >nan</td> \n",
       "        <td id=\"T_8352bd98_18fd_11e9_b4b1_645d864adbc9row2_col1\" class=\"data row2 col1\" >3</td> \n",
       "        <td id=\"T_8352bd98_18fd_11e9_b4b1_645d864adbc9row2_col2\" class=\"data row2 col2\" >Miss. Catherine Helen Johnston</td> \n",
       "        <td id=\"T_8352bd98_18fd_11e9_b4b1_645d864adbc9row2_col3\" class=\"data row2 col3\" >female</td> \n",
       "        <td id=\"T_8352bd98_18fd_11e9_b4b1_645d864adbc9row2_col4\" class=\"data row2 col4\" >7</td> \n",
       "        <td id=\"T_8352bd98_18fd_11e9_b4b1_645d864adbc9row2_col5\" class=\"data row2 col5\" >1</td> \n",
       "        <td id=\"T_8352bd98_18fd_11e9_b4b1_645d864adbc9row2_col6\" class=\"data row2 col6\" >2</td> \n",
       "        <td id=\"T_8352bd98_18fd_11e9_b4b1_645d864adbc9row2_col7\" class=\"data row2 col7\" >23.45</td> \n",
       "    </tr>    <tr> \n",
       "        <th id=\"T_8352bd98_18fd_11e9_b4b1_645d864adbc9level0_row3\" class=\"row_heading level0 row3\" >885</th> \n",
       "        <td id=\"T_8352bd98_18fd_11e9_b4b1_645d864adbc9row3_col0\" class=\"data row3 col0\" >1</td> \n",
       "        <td id=\"T_8352bd98_18fd_11e9_b4b1_645d864adbc9row3_col1\" class=\"data row3 col1\" >1</td> \n",
       "        <td id=\"T_8352bd98_18fd_11e9_b4b1_645d864adbc9row3_col2\" class=\"data row3 col2\" >Mr. Karl Howell Behr</td> \n",
       "        <td id=\"T_8352bd98_18fd_11e9_b4b1_645d864adbc9row3_col3\" class=\"data row3 col3\" >male</td> \n",
       "        <td id=\"T_8352bd98_18fd_11e9_b4b1_645d864adbc9row3_col4\" class=\"data row3 col4\" >26</td> \n",
       "        <td id=\"T_8352bd98_18fd_11e9_b4b1_645d864adbc9row3_col5\" class=\"data row3 col5\" >0</td> \n",
       "        <td id=\"T_8352bd98_18fd_11e9_b4b1_645d864adbc9row3_col6\" class=\"data row3 col6\" >0</td> \n",
       "        <td id=\"T_8352bd98_18fd_11e9_b4b1_645d864adbc9row3_col7\" class=\"data row3 col7\" >30</td> \n",
       "    </tr>    <tr> \n",
       "        <th id=\"T_8352bd98_18fd_11e9_b4b1_645d864adbc9level0_row4\" class=\"row_heading level0 row4\" >886</th> \n",
       "        <td id=\"T_8352bd98_18fd_11e9_b4b1_645d864adbc9row4_col0\" class=\"data row4 col0\" >nan</td> \n",
       "        <td id=\"T_8352bd98_18fd_11e9_b4b1_645d864adbc9row4_col1\" class=\"data row4 col1\" >3</td> \n",
       "        <td id=\"T_8352bd98_18fd_11e9_b4b1_645d864adbc9row4_col2\" class=\"data row4 col2\" >Mr. Patrick Dooley</td> \n",
       "        <td id=\"T_8352bd98_18fd_11e9_b4b1_645d864adbc9row4_col3\" class=\"data row4 col3\" >male</td> \n",
       "        <td id=\"T_8352bd98_18fd_11e9_b4b1_645d864adbc9row4_col4\" class=\"data row4 col4\" >32</td> \n",
       "        <td id=\"T_8352bd98_18fd_11e9_b4b1_645d864adbc9row4_col5\" class=\"data row4 col5\" >0</td> \n",
       "        <td id=\"T_8352bd98_18fd_11e9_b4b1_645d864adbc9row4_col6\" class=\"data row4 col6\" >0</td> \n",
       "        <td id=\"T_8352bd98_18fd_11e9_b4b1_645d864adbc9row4_col7\" class=\"data row4 col7\" >7.75</td> \n",
       "    </tr></tbody> \n",
       "</table> "
      ],
      "text/plain": [
       "<pandas.io.formats.style.Styler at 0x2a1e1fc9cc0>"
      ]
     },
     "execution_count": 45,
     "metadata": {},
     "output_type": "execute_result"
    }
   ],
   "source": [
    "titanic_df.tail().style.highlight_null(null_color='red')"
   ]
  },
  {
   "cell_type": "markdown",
   "metadata": {},
   "source": [
    "Here we fill missing flag to 0. For missing imputation, there are other ways such as mean or median imputation"
   ]
  },
  {
   "cell_type": "code",
   "execution_count": 46,
   "metadata": {},
   "outputs": [],
   "source": [
    "# Filling missing data for multiple columns\n",
    "titanic_df['Survived'].fillna(value=0, inplace=True)"
   ]
  },
  {
   "cell_type": "markdown",
   "metadata": {},
   "source": [
    "In Python, lambda function is a function that is defined without a name"
   ]
  },
  {
   "cell_type": "code",
   "execution_count": 47,
   "metadata": {},
   "outputs": [
    {
     "data": {
      "text/plain": [
       "Survived    0\n",
       "Pclass      0\n",
       "Name        0\n",
       "Sex         0\n",
       "Age         0\n",
       "SibSp       0\n",
       "ParCh       0\n",
       "Fare        0\n",
       "dtype: int64"
      ]
     },
     "execution_count": 47,
     "metadata": {},
     "output_type": "execute_result"
    }
   ],
   "source": [
    "# number of missing for each column\n",
    "titanic_df.apply(lambda x: sum(x.isnull()), axis = 0) # apply user define function to data"
   ]
  },
  {
   "cell_type": "markdown",
   "metadata": {},
   "source": [
    "Number of non zeros for each column"
   ]
  },
  {
   "cell_type": "code",
   "execution_count": 48,
   "metadata": {},
   "outputs": [
    {
     "data": {
      "text/plain": [
       "Survived    342\n",
       "Pclass      887\n",
       "Name        887\n",
       "Sex         887\n",
       "Age         887\n",
       "SibSp       283\n",
       "ParCh       213\n",
       "Fare        872\n",
       "dtype: int64"
      ]
     },
     "execution_count": 48,
     "metadata": {},
     "output_type": "execute_result"
    }
   ],
   "source": [
    "(titanic_df!= 0).sum()"
   ]
  },
  {
   "cell_type": "markdown",
   "metadata": {
    "toc-hr-collapsed": false
   },
   "source": [
    "## Feature Engineering"
   ]
  },
  {
   "cell_type": "markdown",
   "metadata": {},
   "source": [
    "Feature engineering is the process of using domain knowledge of the data to create features that make machine learning algorithms work. \n",
    "<br>\n",
    "We can derive new features for modeling based on the original data set"
   ]
  },
  {
   "cell_type": "code",
   "execution_count": 49,
   "metadata": {},
   "outputs": [],
   "source": [
    "# define a family size by adding Sibling/Spouse and Parents/Childen\n",
    "titanic_df['FamilySize'] = titanic_df['SibSp'] + titanic_df['ParCh'] + 1\n",
    "# define alone flag\n",
    "titanic_df['Alone'] = np.where((titanic_df['SibSp'] == 0) & (titanic_df['ParCh'] == 0), 1, 0)\n",
    "# add title of based on name\n",
    "titanic_df['Title'] = titanic_df.Name.apply(lambda x: x.split('.')[0])"
   ]
  },
  {
   "cell_type": "markdown",
   "metadata": {},
   "source": [
    "Check value distribution"
   ]
  },
  {
   "cell_type": "code",
   "execution_count": 50,
   "metadata": {},
   "outputs": [
    {
     "data": {
      "text/plain": [
       "Mr              513\n",
       "Miss            182\n",
       "Mrs             125\n",
       "Master           40\n",
       "Dr                7\n",
       "Rev               6\n",
       "Col               2\n",
       "Mlle              2\n",
       "Major             2\n",
       "Lady              1\n",
       "Mme               1\n",
       "Jonkheer          1\n",
       "the Countess      1\n",
       "Sir               1\n",
       "Don               1\n",
       "Capt              1\n",
       "Ms                1\n",
       "Name: Title, dtype: int64"
      ]
     },
     "execution_count": 50,
     "metadata": {},
     "output_type": "execute_result"
    }
   ],
   "source": [
    "titanic_df['Title'].value_counts()"
   ]
  },
  {
   "cell_type": "code",
   "execution_count": 51,
   "metadata": {},
   "outputs": [],
   "source": [
    "# categorize rare values \n",
    "titanic_df['Title'] = titanic_df['Title'].replace(['Mlle', 'Ms', 'Mme', 'Lady'], 'Mrs')\\\n",
    ".replace(['Sir', 'Jonkheer', 'Capt', 'Don', 'Major','Col','the Countess'], 'Mr')"
   ]
  },
  {
   "cell_type": "code",
   "execution_count": 52,
   "metadata": {},
   "outputs": [
    {
     "data": {
      "text/plain": [
       "Mr        522\n",
       "Miss      182\n",
       "Mrs       130\n",
       "Master     40\n",
       "Dr          7\n",
       "Rev         6\n",
       "Name: Title, dtype: int64"
      ]
     },
     "execution_count": 52,
     "metadata": {},
     "output_type": "execute_result"
    }
   ],
   "source": [
    "titanic_df['Title'].value_counts()"
   ]
  },
  {
   "cell_type": "markdown",
   "metadata": {},
   "source": [
    "## Feature Encoding"
   ]
  },
  {
   "cell_type": "markdown",
   "metadata": {},
   "source": [
    "Sklearn package also provide different ways for feature encoding, such as [one hot encoder](https://scikit-learn.org/stable/modules/generated/sklearn.preprocessing.OneHotEncoder.html#sklearn.preprocessing.OneHotEncoder), [ordinal encoder](https://scikit-learn.org/stable/modules/generated/sklearn.preprocessing.OrdinalEncoder.html#sklearn.preprocessing.OrdinalEncoder) and [lable encoder](https://scikit-learn.org/stable/modules/generated/sklearn.preprocessing.LabelEncoder.html#sklearn.preprocessing.LabelEncoder)"
   ]
  },
  {
   "cell_type": "markdown",
   "metadata": {},
   "source": [
    "Map values of categorical feature to numeric value"
   ]
  },
  {
   "cell_type": "code",
   "execution_count": 53,
   "metadata": {},
   "outputs": [],
   "source": [
    "titanic_df['Sex'] = titanic_df['Sex'].map( {'female': 0, 'male': 1} ).astype(int)"
   ]
  },
  {
   "cell_type": "markdown",
   "metadata": {},
   "source": [
    "When the number of categories is low, we may consider using one-hot encoding. However, when the cardinality is high, we might consider using ordinal encoding, encoding by frequency count of each category."
   ]
  },
  {
   "cell_type": "code",
   "execution_count": 55,
   "metadata": {},
   "outputs": [
    {
     "data": {
      "text/html": [
       "<div>\n",
       "<style scoped>\n",
       "    .dataframe tbody tr th:only-of-type {\n",
       "        vertical-align: middle;\n",
       "    }\n",
       "\n",
       "    .dataframe tbody tr th {\n",
       "        vertical-align: top;\n",
       "    }\n",
       "\n",
       "    .dataframe thead th {\n",
       "        text-align: right;\n",
       "    }\n",
       "</style>\n",
       "<table border=\"1\" class=\"dataframe\">\n",
       "  <thead>\n",
       "    <tr style=\"text-align: right;\">\n",
       "      <th></th>\n",
       "      <th>Dr</th>\n",
       "      <th>Master</th>\n",
       "      <th>Miss</th>\n",
       "      <th>Mr</th>\n",
       "      <th>Mrs</th>\n",
       "      <th>Rev</th>\n",
       "    </tr>\n",
       "  </thead>\n",
       "  <tbody>\n",
       "    <tr>\n",
       "      <th>0</th>\n",
       "      <td>0</td>\n",
       "      <td>0</td>\n",
       "      <td>0</td>\n",
       "      <td>1</td>\n",
       "      <td>0</td>\n",
       "      <td>0</td>\n",
       "    </tr>\n",
       "    <tr>\n",
       "      <th>1</th>\n",
       "      <td>0</td>\n",
       "      <td>0</td>\n",
       "      <td>0</td>\n",
       "      <td>0</td>\n",
       "      <td>1</td>\n",
       "      <td>0</td>\n",
       "    </tr>\n",
       "    <tr>\n",
       "      <th>2</th>\n",
       "      <td>0</td>\n",
       "      <td>0</td>\n",
       "      <td>1</td>\n",
       "      <td>0</td>\n",
       "      <td>0</td>\n",
       "      <td>0</td>\n",
       "    </tr>\n",
       "    <tr>\n",
       "      <th>3</th>\n",
       "      <td>0</td>\n",
       "      <td>0</td>\n",
       "      <td>0</td>\n",
       "      <td>0</td>\n",
       "      <td>1</td>\n",
       "      <td>0</td>\n",
       "    </tr>\n",
       "    <tr>\n",
       "      <th>4</th>\n",
       "      <td>0</td>\n",
       "      <td>0</td>\n",
       "      <td>0</td>\n",
       "      <td>1</td>\n",
       "      <td>0</td>\n",
       "      <td>0</td>\n",
       "    </tr>\n",
       "  </tbody>\n",
       "</table>\n",
       "</div>"
      ],
      "text/plain": [
       "   Dr  Master  Miss  Mr  Mrs  Rev\n",
       "0   0       0     0   1    0    0\n",
       "1   0       0     0   0    1    0\n",
       "2   0       0     1   0    0    0\n",
       "3   0       0     0   0    1    0\n",
       "4   0       0     0   1    0    0"
      ]
     },
     "execution_count": 55,
     "metadata": {},
     "output_type": "execute_result"
    }
   ],
   "source": [
    "# Use get_dummies for one hot encodering. Sklearn can also do OneHotEncoder\n",
    "one_hot = pd.get_dummies(titanic_df['Title'])\n",
    "one_hot.head()"
   ]
  },
  {
   "cell_type": "markdown",
   "metadata": {},
   "source": [
    "Join encoded features back to original data"
   ]
  },
  {
   "cell_type": "code",
   "execution_count": 56,
   "metadata": {},
   "outputs": [],
   "source": [
    "titanic_df = titanic_df.join(one_hot)"
   ]
  },
  {
   "cell_type": "markdown",
   "metadata": {},
   "source": [
    "Drop columns that we don't need"
   ]
  },
  {
   "cell_type": "code",
   "execution_count": 57,
   "metadata": {},
   "outputs": [],
   "source": [
    "titanic_df = titanic_df.drop(['Title', 'Name'], axis = 1)"
   ]
  },
  {
   "cell_type": "markdown",
   "metadata": {},
   "source": [
    "## Feature Distribution"
   ]
  },
  {
   "cell_type": "markdown",
   "metadata": {},
   "source": [
    "Check numerical feature distribution"
   ]
  },
  {
   "cell_type": "code",
   "execution_count": 58,
   "metadata": {},
   "outputs": [
    {
     "data": {
      "text/plain": [
       "<matplotlib.axes._subplots.AxesSubplot at 0x2a1e2015978>"
      ]
     },
     "execution_count": 58,
     "metadata": {},
     "output_type": "execute_result"
    },
    {
     "data": {
      "image/png": "[encoded data removed]",
      "text/plain": [
       "<Figure size 432x288 with 1 Axes>"
      ]
     },
     "metadata": {
      "needs_background": "light"
     },
     "output_type": "display_data"
    }
   ],
   "source": [
    "titanic_df.Age.hist(bins=50)"
   ]
  },
  {
   "cell_type": "markdown",
   "metadata": {},
   "source": [
    "Check categorical feature value frequency function"
   ]
  },
  {
   "cell_type": "code",
   "execution_count": 60,
   "metadata": {},
   "outputs": [
    {
     "name": "stdout",
     "output_type": "stream",
     "text": [
      "1    573\n",
      "0    314\n",
      "Name: Sex, dtype: int64\n"
     ]
    },
    {
     "data": {
      "image/png": "[encoded data removed]",
      "text/plain": [
       "<Figure size 432x288 with 1 Axes>"
      ]
     },
     "metadata": {
      "needs_background": "light"
     },
     "output_type": "display_data"
    }
   ],
   "source": [
    "def freq_dist(var):\n",
    "    freq = titanic_df[var].value_counts()\n",
    "    print(freq)\n",
    "    freq.plot(kind='bar', title = var + ' distribution')\n",
    "    \n",
    "freq_dist('Survived')"
   ]
  },
  {
   "cell_type": "markdown",
   "metadata": {},
   "source": [
    "Check target mean based on different level of categorical feature"
   ]
  },
  {
   "cell_type": "code",
   "execution_count": 61,
   "metadata": {},
   "outputs": [
    {
     "data": {
      "image/png": "[encoded data removed]",
      "text/plain": [
       "<Figure size 432x288 with 1 Axes>"
      ]
     },
     "metadata": {
      "needs_background": "light"
     },
     "output_type": "display_data"
    }
   ],
   "source": [
    "# groupby data to understand the target mean and sort value from low to high\n",
    "def target_mean(var):\n",
    "    titanic_df.groupby([var]).agg({'Survived': np.mean}).sort_values(var, ascending=False).plot(kind='bar')\n",
    "    \n",
    "target_mean('Alone')"
   ]
  },
  {
   "cell_type": "markdown",
   "metadata": {
    "toc-hr-collapsed": true
   },
   "source": [
    "# Visulization (using Seaborn/Plotly)"
   ]
  },
  {
   "cell_type": "markdown",
   "metadata": {},
   "source": [
    "Anaconda already installed lots of useful packges but some packages we still need to install by ourselves:\n",
    "<br>\n",
    "*conda install -c anaconda seaborn* "
   ]
  },
  {
   "cell_type": "markdown",
   "metadata": {},
   "source": [
    "## Non Interactive Plot (Seaborn)"
   ]
  },
  {
   "cell_type": "markdown",
   "metadata": {},
   "source": [
    "Seaborn is a Python library for data visualization based on matplotlib. It provides a high-level interface for drawing attractive and informative statistical graphics"
   ]
  },
  {
   "cell_type": "code",
   "execution_count": 62,
   "metadata": {},
   "outputs": [],
   "source": [
    "import seaborn as sns"
   ]
  },
  {
   "cell_type": "markdown",
   "metadata": {},
   "source": [
    "View interaction of Age and Sex features by Survived Flag"
   ]
  },
  {
   "cell_type": "code",
   "execution_count": 63,
   "metadata": {},
   "outputs": [
    {
     "data": {
      "image/png": "[encoded data removed]",
      "text/plain": [
       "<Figure size 402.375x360 with 1 Axes>"
      ]
     },
     "metadata": {
      "needs_background": "light"
     },
     "output_type": "display_data"
    }
   ],
   "source": [
    "sns.catplot(x=\"Survived\", y=\"Age\", hue=\"Sex\",\n",
    "            kind=\"violin\", inner=\"stick\", split=True,\n",
    "            palette=\"pastel\", data=titanic_df);"
   ]
  },
  {
   "cell_type": "markdown",
   "metadata": {},
   "source": [
    "Use heatmap to understand target mean using cross tab of categorical features \n",
    "<br>\n",
    "We can use widgets to build interactive GUIs. Make sure you have installed the ipywidget package and jupyterlab extension:\n",
    "<br>\n",
    "*conda install -c conda-forge ipywidgets* \n",
    "<br>\n",
    "*jupyter labextension install @jupyter-widgets/jupyterlab-manager* "
   ]
  },
  {
   "cell_type": "code",
   "execution_count": 64,
   "metadata": {},
   "outputs": [
    {
     "data": {
      "application/vnd.jupyter.widget-view+json": {
       "model_id": "ac3c3f18287f45b5b550db77dd257677",
       "version_major": 2,
       "version_minor": 0
      },
      "text/plain": [
       "interactive(children=(Dropdown(description='var', options=('Sex', 'Alone'), value='Sex'), Output()), _dom_clas…"
      ]
     },
     "metadata": {},
     "output_type": "display_data"
    }
   ],
   "source": [
    "from ipywidgets import interact\n",
    "\n",
    "def heatmap_widget(var):\n",
    "    pv_df = titanic_df.pivot_table(index='Pclass', columns=var, values='Survived', aggfunc=np.mean)\n",
    "    hp = sns.heatmap(pv_df, cmap=\"YlGnBu\", annot=True, fmt=\".2f\")\n",
    "    \n",
    "interact(heatmap_widget, var=['Sex','Alone']);"
   ]
  },
  {
   "cell_type": "markdown",
   "metadata": {},
   "source": [
    "## Interactive Plot (Plotly)"
   ]
  },
  {
   "cell_type": "markdown",
   "metadata": {},
   "source": [
    "Plotly is an interactive, open-source, and browser-based graphing library for Python\n",
    "<br>\n",
    "Before we use plotly we need first install the packages:\n",
    "<br>\n",
    "*conda install -c plotly plotly*\n",
    "<br>\n",
    "*conda install -c conda-forge nodejs*\n",
    "<br>\n",
    "Besides intsall packages, we also need to install plotly jupyterlab extension\n",
    "<br>\n",
    "*jupyter labextension install @jupyterlab/plotly-extension*"
   ]
  },
  {
   "cell_type": "code",
   "execution_count": 65,
   "metadata": {},
   "outputs": [
    {
     "data": {
      "text/html": [
       "<script type=\"text/javascript\">window.PlotlyConfig = {MathJaxConfig: 'local'};</script><script type=\"text/javascript\">if (window.MathJax) {MathJax.Hub.Config({SVG: {font: \"STIX-Web\"}});}</script><script>requirejs.config({paths: { 'plotly': ['https://cdn.plot.ly/plotly-latest.min']},});if(!window._Plotly) {require(['plotly'],function(plotly) {window._Plotly=plotly;});}</script>"
      ],
      "text/vnd.plotly.v1+html": [
       "<script type=\"text/javascript\">window.PlotlyConfig = {MathJaxConfig: 'local'};</script><script type=\"text/javascript\">if (window.MathJax) {MathJax.Hub.Config({SVG: {font: \"STIX-Web\"}});}</script><script>requirejs.config({paths: { 'plotly': ['https://cdn.plot.ly/plotly-latest.min']},});if(!window._Plotly) {require(['plotly'],function(plotly) {window._Plotly=plotly;});}</script>"
      ]
     },
     "metadata": {},
     "output_type": "display_data"
    }
   ],
   "source": [
    "from plotly.offline import init_notebook_mode, iplot\n",
    "import plotly.graph_objs as go\n",
    "\n",
    "# initiate the Plotly Notebook mode\n",
    "init_notebook_mode(connected=True)"
   ]
  },
  {
   "cell_type": "markdown",
   "metadata": {},
   "source": [
    "Plot the FamilySize vs Age with Fare as the size of the bubble"
   ]
  },
  {
   "cell_type": "code",
   "execution_count": 66,
   "metadata": {},
   "outputs": [
    {
     "data": {
      "application/vnd.plotly.v1+json": {
       "config": {
        "linkText": "Export to plot.ly",
        "plotlyServerURL": "https://plot.ly",
        "showLink": true
       },
       "data": [
        {
         "marker": {
          "line": {
           "width": 2
          },
          "size": [
           71.2833,
           7.925,
           53.1,
           11.1333,
           30.0708,
           16.7,
           26.55,
           16,
           13,
           7.225,
           13,
           8.0292,
           35.5,
           31.3875,
           7.8792,
           146.5208,
           7.75,
           7.2292,
           11.2417,
           41.5792,
           7.8792,
           7.75,
           76.7292,
           26,
           35.5,
           10.5,
           27.75,
           80,
           15.2458,
           10.5,
           7.925,
           56.4958,
           29,
           12.475,
           9.5,
           7.7875,
           10.5,
           15.85,
           263,
           63.3583,
           23,
           7.65,
           7.775,
           24.15,
           13,
           11.2417,
           7.1417,
           22.3583,
           26,
           26.2833,
           7.75,
           15.85,
           7.7958,
           66.6,
           7.7333,
           15.75,
           20.525,
           55,
           11.1333,
           39,
           22.025,
           15.5,
           26.55,
           13,
           7.8542,
           26,
           27.7208,
           146.5208,
           7.75,
           8.05,
           18.7875,
           7.75,
           31,
           21,
           113.275,
           7.925,
           76.2917,
           8.05,
           90,
           10.5,
           83.475,
           31.3875,
           26.25,
           15.5,
           14.5,
           52.5542,
           15.2458,
           79.2,
           86.5,
           512.3292,
           26,
           31.3875,
           7.775,
           153.4625,
           135.6333,
           0,
           19.5,
           7.75,
           77.9583,
           20.25,
           8.05,
           9.5,
           13,
           7.75,
           78.85,
           91.0792,
           30.5,
           247.5208,
           7.75,
           23.25,
           12.35,
           151.55,
           110.8833,
           108.9,
           56.9292,
           83.1583,
           262.375,
           7.8542,
           26,
           164.8667,
           134.5,
           12.35,
           29,
           135.6333,
           13,
           20.525,
           57.9792,
           23.25,
           133.65,
           134.5,
           8.05,
           26,
           263,
           13,
           13,
           16.1,
           15.9,
           55,
           7.8792,
           7.8792,
           75.25,
           7.2292,
           7.75,
           69.3,
           55.4417,
           82.1708,
           7.25,
           227.525,
           15.7417,
           52,
           13,
           12,
           120,
           7.7958,
           113.275,
           16.7,
           12.65,
           7.925,
           18.75,
           90,
           7.925,
           32.5,
           13,
           26,
           26,
           8.05,
           26.55,
           16.1,
           26,
           120,
           18.75,
           26.25,
           13,
           8.1125,
           81.8583,
           19.5,
           26.55,
           19.2583,
           30.5,
           89.1042,
           7.8958,
           51.8625,
           10.5,
           26.55,
           19.2583,
           27.75,
           13.7917,
           12.2875,
           9.5875,
           91.0792,
           90,
           15.9,
           78.2667,
           86.5,
           26,
           26.55,
           56.4958,
           7.75,
           26.2875,
           59.4,
           10.5,
           26,
           93.5,
           57.9792,
           10.5,
           26,
           22.3583,
           26.25,
           106.425,
           49.5,
           71,
           26,
           26,
           13.8625,
           36.75,
           110.8833,
           7.225,
           7.775,
           39.6,
           79.65,
           17.4,
           7.8542,
           10.5,
           51.4792,
           26.3875,
           7.75,
           13,
           55.9,
           7.925,
           30,
           110.8833,
           79.65,
           79.2,
           78.2667,
           33,
           56.9292,
           27,
           26.55,
           30.5,
           41.5792,
           153.4625,
           15.5,
           65,
           39,
           52.5542,
           15.7417,
           77.9583,
           30,
           30.5,
           13,
           69.3,
           56.4958,
           19.2583,
           76.7292,
           35.5,
           7.55,
           23,
           7.8292,
           133.65,
           7.925,
           52,
           39,
           13,
           9.8417,
           512.3292,
           76.7292,
           211.3375,
           57,
           13.4167,
           56.4958,
           7.7333,
           227.525,
           26.2875,
           13.5,
           26.2875,
           151.55,
           15.2458,
           49.5042,
           52,
           227.525,
           10.5,
           33,
           53.1,
           21,
           7.7375,
           211.3375,
           512.3292,
           30,
           262.375,
           7.925,
           13,
           23,
           12.475,
           65,
           14.5,
           86.5,
           7.2292,
           120,
           77.9583,
           23,
           12.475,
           211.3375,
           7.2292,
           57,
           7.4958,
           20.575,
           25.9292,
           8.6833,
           26.25,
           120,
           8.5167,
           6.975,
           53.1,
           93.5,
           8.6625,
           12.475,
           37.0042,
           7.75,
           80,
           14.4542,
           18.75,
           83.1583,
           56.4958,
           29.7,
           31,
           89.1042,
           39.4,
           9.35,
           164.8667,
           26.55,
           19.2583,
           25.9292,
           13,
           13.8583,
           11.1333,
           52.5542,
           24,
           7.225,
           83.1583,
           26,
           30,
           30
          ],
          "sizemode": "area",
          "sizeref": 0.10246584,
          "symbol": "circle"
         },
         "mode": "markers",
         "name": "Survival",
         "type": "scatter",
         "uid": "88522797-d688-47e5-9e83-bcbe999d2f2f",
         "x": [
          2,
          1,
          2,
          3,
          2,
          3,
          1,
          1,
          1,
          1,
          1,
          1,
          1,
          7,
          1,
          2,
          1,
          1,
          2,
          4,
          1,
          1,
          2,
          2,
          1,
          1,
          4,
          1,
          3,
          1,
          7,
          1,
          3,
          1,
          1,
          1,
          1,
          4,
          6,
          2,
          2,
          1,
          1,
          2,
          1,
          2,
          1,
          3,
          2,
          3,
          1,
          2,
          1,
          2,
          1,
          1,
          3,
          2,
          3,
          4,
          3,
          2,
          1,
          1,
          2,
          3,
          1,
          1,
          1,
          1,
          1,
          1,
          1,
          1,
          2,
          1,
          1,
          1,
          2,
          1,
          2,
          7,
          3,
          2,
          3,
          3,
          3,
          1,
          1,
          1,
          2,
          7,
          2,
          2,
          1,
          1,
          2,
          1,
          2,
          3,
          1,
          1,
          1,
          1,
          1,
          2,
          1,
          2,
          1,
          3,
          1,
          4,
          1,
          2,
          1,
          1,
          5,
          1,
          2,
          3,
          3,
          1,
          3,
          1,
          1,
          3,
          2,
          3,
          2,
          1,
          1,
          3,
          6,
          1,
          1,
          2,
          3,
          2,
          1,
          1,
          2,
          1,
          1,
          1,
          2,
          2,
          1,
          1,
          3,
          2,
          1,
          1,
          4,
          1,
          2,
          3,
          1,
          1,
          3,
          2,
          1,
          3,
          3,
          2,
          1,
          1,
          1,
          2,
          2,
          4,
          6,
          3,
          1,
          1,
          3,
          2,
          1,
          4,
          1,
          2,
          1,
          2,
          1,
          1,
          4,
          4,
          1,
          2,
          1,
          2,
          2,
          3,
          2,
          1,
          3,
          1,
          1,
          1,
          1,
          2,
          1,
          2,
          1,
          2,
          1,
          3,
          3,
          3,
          1,
          3,
          3,
          2,
          2,
          1,
          3,
          3,
          1,
          1,
          2,
          3,
          2,
          1,
          1,
          3,
          1,
          1,
          1,
          2,
          1,
          3,
          3,
          3,
          3,
          2,
          1,
          2,
          4,
          1,
          1,
          4,
          1,
          2,
          4,
          4,
          2,
          3,
          1,
          1,
          1,
          1,
          1,
          1,
          4,
          2,
          1,
          1,
          2,
          1,
          3,
          2,
          2,
          3,
          1,
          1,
          2,
          1,
          2,
          2,
          2,
          1,
          1,
          2,
          1,
          1,
          1,
          1,
          3,
          1,
          2,
          1,
          1,
          2,
          2,
          4,
          1,
          1,
          1,
          1,
          5,
          1,
          1,
          3,
          2,
          4,
          3,
          1,
          1,
          4,
          2,
          5,
          1,
          2,
          1,
          2,
          1,
          4,
          1,
          1,
          3,
          4,
          2,
          1,
          2,
          3,
          1,
          2,
          3,
          1,
          1,
          2,
          3,
          3,
          1,
          1,
          1,
          2,
          2,
          2,
          3,
          1,
          4,
          1,
          1,
          2,
          3,
          3,
          2,
          1,
          2,
          2,
          1,
          1
         ],
         "y": [
          38,
          26,
          35,
          27,
          14,
          4,
          58,
          55,
          23,
          22,
          34,
          15,
          28,
          38,
          24,
          48,
          18,
          18,
          14,
          3,
          19,
          27,
          49,
          29,
          46,
          21,
          5,
          38,
          7,
          29,
          17,
          32,
          0.83,
          30,
          29,
          31,
          17,
          33,
          23,
          23,
          34,
          21,
          29,
          28,
          32.5,
          12,
          24,
          2,
          29,
          19,
          22,
          24,
          27,
          22,
          16,
          40,
          9,
          48,
          1,
          1,
          4,
          26,
          45,
          32,
          19,
          3,
          44,
          58,
          21,
          18,
          26,
          16,
          40,
          35,
          31,
          27,
          32,
          16,
          38,
          19,
          35,
          5,
          8,
          18,
          24,
          37,
          29,
          38,
          30,
          35,
          50,
          3,
          25,
          58,
          35,
          25,
          41,
          33,
          63,
          35,
          19,
          30,
          42,
          22,
          26,
          19,
          47,
          50,
          20,
          24,
          46,
          0.92,
          42,
          17,
          30,
          24,
          18,
          26,
          24,
          31,
          40,
          30,
          22,
          36,
          36,
          31,
          16,
          28,
          42,
          41,
          45,
          2,
          24,
          24,
          40,
          34,
          3,
          22,
          22,
          23,
          60,
          35,
          22,
          24,
          25,
          25,
          22,
          42,
          1,
          35,
          36,
          17,
          36,
          21,
          23,
          24,
          28,
          39,
          3,
          33,
          44,
          34,
          18,
          28,
          19,
          32,
          28,
          33,
          42,
          14,
          24,
          45,
          28,
          29,
          4,
          13,
          34,
          5,
          52,
          49,
          29,
          41,
          50,
          48,
          0.75,
          33,
          23,
          2,
          63,
          25,
          35,
          9,
          54,
          16,
          33,
          37,
          26,
          29,
          36,
          54,
          34,
          36,
          30,
          44,
          50,
          2,
          24,
          7,
          30,
          22,
          36,
          32,
          19,
          27,
          8,
          17,
          22,
          22,
          48,
          39,
          36,
          32,
          62,
          53,
          36,
          22,
          34,
          39,
          32,
          25,
          39,
          18,
          60,
          52,
          31,
          49,
          24,
          35,
          27,
          22,
          40,
          18,
          24,
          4,
          42,
          20,
          21,
          80,
          32,
          28,
          24,
          32,
          0.75,
          48,
          56,
          23,
          18,
          16,
          50,
          20,
          48,
          40,
          31,
          18,
          36,
          27,
          15,
          31,
          4,
          37,
          19,
          18,
          35,
          45,
          42,
          22,
          4,
          24,
          48,
          38,
          27,
          6,
          27,
          30,
          28,
          29,
          35,
          45,
          21,
          31,
          30,
          4,
          6,
          48,
          0.67,
          33,
          20,
          36,
          51,
          54,
          5,
          43,
          13,
          17,
          18,
          1,
          49,
          31,
          31,
          11,
          0.42,
          27,
          33,
          52,
          27,
          27,
          1,
          19,
          62,
          15,
          0.83,
          39,
          32,
          29,
          30,
          40,
          16,
          18,
          45,
          51,
          24,
          48,
          42,
          27,
          4,
          47,
          28,
          15,
          56,
          25,
          19,
          26
         ]
        },
        {
         "marker": {
          "line": {
           "width": 2
          },
          "size": [
           7.25,
           8.05,
           8.4583,
           51.8625,
           21.075,
           8.05,
           31.275,
           7.8542,
           29.125,
           18,
           26,
           21.075,
           7.225,
           263,
           7.8958,
           27.7208,
           10.5,
           82.1708,
           52,
           8.05,
           18,
           9.475,
           21,
           8.05,
           15.5,
           21.6792,
           17.8,
           39.6875,
           7.8,
           61.9792,
           7.2292,
           46.9,
           7.2292,
           83.475,
           27.9,
           27.7208,
           8.1583,
           8.6625,
           10.5,
           46.9,
           73.5,
           14.4542,
           7.65,
           7.8958,
           8.05,
           9,
           47.1,
           34.375,
           8.05,
           8.05,
           8.05,
           7.8542,
           61.175,
           20.575,
           7.25,
           8.05,
           34.6542,
           26,
           7.8958,
           7.8958,
           77.2875,
           8.6542,
           7.925,
           7.8958,
           7.8958,
           52,
           14.4542,
           8.05,
           9.825,
           14.4583,
           7.925,
           7.75,
           21,
           247.5208,
           31.275,
           73.5,
           8.05,
           30.0708,
           77.2875,
           7.75,
           6.975,
           7.8958,
           7.05,
           14.5,
           13,
           15.0458,
           53.1,
           9.2167,
           79.2,
           15.2458,
           6.75,
           11.5,
           36.75,
           34.375,
           26,
           13,
           12.525,
           8.05,
           14.5,
           7.3125,
           61.3792,
           8.05,
           8.6625,
           69.55,
           16.1,
           7.775,
           8.6625,
           39.6875,
           27.9,
           25.925,
           56.4958,
           33.5,
           29.125,
           7.925,
           30.6958,
           7.8542,
           25.4667,
           28.7125,
           13,
           0,
           69.55,
           15.05,
           31.3875,
           50,
           15.5,
           7.8958,
           13,
           7.75,
           8.4042,
           13,
           9.5,
           69.55,
           6.4958,
           7.225,
           10.4625,
           15.85,
           7.05,
           7.25,
           13,
           7.75,
           27,
           10.5,
           13,
           8.05,
           7.8958,
           9.35,
           7.25,
           13,
           25.4667,
           7.775,
           13.5,
           10.5,
           7.55,
           26,
           10.5,
           12.275,
           14.4542,
           10.5,
           7.125,
           7.225,
           90,
           7.775,
           26,
           7.25,
           10.4625,
           26.55,
           16.1,
           20.2125,
           79.65,
           0,
           7.75,
           10.5,
           39.6875,
           31,
           29.7,
           7.75,
           0,
           29.125,
           7.75,
           7.8542,
           9.5,
           26,
           8.6625,
           7.8958,
           12.875,
           8.85,
           7.8958,
           27.7208,
           7.2292,
           151.55,
           0,
           8.05,
           24,
           26,
           7.8958,
           26.25,
           14,
           7.25,
           7.8958,
           69.55,
           6.2375,
           28.5,
           153.4625,
           18,
           7.8958,
           66.6,
           35.5,
           13,
           13,
           13,
           8.6625,
           9.225,
           35,
           7.2292,
           17.8,
           7.225,
           9.5,
           13,
           27.9,
           27.7208,
           14.4542,
           7.05,
           15.5,
           7.25,
           6.4958,
           8.05,
           135.6333,
           21.075,
           211.5,
           4.0125,
           7.775,
           7.925,
           7.8958,
           73.5,
           46.9,
           7.7292,
           7.925,
           7.7958,
           7.8542,
           26,
           10.5,
           8.05,
           9.825,
           15.85,
           8.6625,
           21,
           7.75,
           7.775,
           25.4667,
           7.8958,
           6.8583,
           0,
           8.05,
           13,
           24.15,
           7.7333,
           7.875,
           14.4,
           20.2125,
           7.25,
           7.75,
           7.125,
           55.9,
           34.375,
           263,
           10.5,
           9.5,
           7.775,
           27.75,
           19.9667,
           27.75,
           8.05,
           26.55,
           7.75,
           8.05,
           38.5,
           13,
           8.05,
           7.05,
           0,
           26.55,
           7.725,
           7.25,
           8.6625,
           9.8375,
           52,
           21,
           7.0458,
           7.5208,
           46.9,
           0,
           8.05,
           25.4667,
           29.7,
           8.05,
           19.9667,
           7.25,
           30.5,
           49.5042,
           8.05,
           14.4583,
           15.1,
           151.55,
           7.7958,
           8.6625,
           7.75,
           7.6292,
           9.5875,
           108.9,
           22.525,
           8.05,
           7.4958,
           34.0208,
           24.15,
           7.8958,
           7.8958,
           7.225,
           7.2292,
           7.75,
           221.7792,
           7.925,
           11.5,
           7.2292,
           7.2292,
           8.6625,
           26.55,
           14.5,
           31.275,
           31.275,
           106.425,
           26,
           20.525,
           26,
           7.8292,
           26.55,
           227.525,
           7.75,
           7.8958,
           13.5,
           8.05,
           8.05,
           24.15,
           7.8958,
           21.075,
           7.2292,
           8.05,
           14.5,
           14.4583,
           26,
           40.125,
           8.7125,
           15,
           8.05,
           8.05,
           7.125,
           7.25,
           7.75,
           26,
           24.15,
           0,
           7.225,
           7.8958,
           42.4,
           8.05,
           15.55,
           7.8958,
           31.275,
           7.05,
           7.75,
           8.05,
           14.4,
           16.1,
           10.5,
           14.4542,
           7.8542,
           16.1,
           32.3208,
           12.35,
           7.8958,
           7.7333,
           7.0542,
           0,
           27.9,
           7.925,
           26.25,
           39.6875,
           16.1,
           7.8542,
           27.9,
           7.8958,
           7.55,
           7.8958,
           8.4333,
           6.75,
           73.5,
           7.8958,
           15.5,
           13,
           113.275,
           7.225,
           25.5875,
           7.4958,
           73.5,
           13,
           7.775,
           8.05,
           52,
           10.5,
           0,
           7.775,
           8.05,
           46.9,
           8.1375,
           9.225,
           46.9,
           39,
           41.5792,
           39.6875,
           10.1708,
           7.7958,
           7.225,
           26.55,
           13.5,
           8.05,
           110.8833,
           7.65,
           14.4542,
           7.7417,
           7.8542,
           26,
           26.55,
           9.4833,
           13,
           7.65,
           7.775,
           7.0542,
           13,
           13,
           8.6625,
           26,
           7.925,
           18.7875,
           0,
           13,
           13,
           16.1,
           34.375,
           7.8958,
           7.8958,
           78.85,
           16.1,
           71,
           20.25,
           53.1,
           7.75,
           9.5,
           7.8958,
           7.7958,
           11.5,
           8.05,
           14.5,
           7.125,
           7.775,
           39.6,
           7.75,
           24.15,
           8.3625,
           9.5,
           7.8542,
           10.5,
           7.225,
           7.75,
           7.75,
           7.7375,
           30,
           23.45,
           7.05,
           7.25,
           29.125,
           79.2,
           7.75,
           26,
           69.55,
           30.6958,
           7.8958,
           13,
           7.2292,
           24.15,
           13,
           7.775,
           0,
           7.775,
           13,
           7.8875,
           24.15,
           10.5,
           31.275,
           8.05,
           0,
           7.925,
           37.0042,
           6.45,
           27.9,
           0,
           39.6875,
           6.95,
           56.4958,
           7.2292,
           7.8542,
           8.3,
           8.6625,
           8.05,
           7.925,
           10.5,
           6.4375,
           8.6625,
           7.55,
           69.55,
           7.8958,
           33,
           31.275,
           7.775,
           15.2458,
           26,
           7.2292,
           14.1083,
           11.5,
           69.55,
           13,
           50.4958,
           9.5,
           7.8958,
           5,
           9,
           9.8458,
           7.8958,
           7.8958,
           7.8958,
           10.5167,
           10.5,
           7.05,
           29.125,
           13,
           23.45,
           7.75
          ],
          "sizemode": "area",
          "sizeref": 0.10246584
         },
         "mode": "markers",
         "name": "Not Survival",
         "type": "scatter",
         "uid": "e9963168-b759-41fc-9fa6-22f59b1d9e0d",
         "x": [
          2,
          1,
          1,
          1,
          5,
          1,
          7,
          1,
          6,
          2,
          1,
          5,
          1,
          6,
          1,
          1,
          1,
          2,
          2,
          1,
          3,
          2,
          2,
          1,
          2,
          3,
          2,
          6,
          1,
          2,
          1,
          8,
          1,
          2,
          6,
          1,
          1,
          3,
          1,
          8,
          1,
          2,
          1,
          1,
          1,
          1,
          1,
          5,
          1,
          1,
          1,
          1,
          2,
          4,
          1,
          1,
          1,
          2,
          1,
          1,
          2,
          1,
          3,
          1,
          1,
          1,
          2,
          1,
          2,
          1,
          1,
          1,
          2,
          2,
          7,
          3,
          1,
          2,
          2,
          1,
          1,
          1,
          1,
          2,
          1,
          1,
          2,
          1,
          1,
          3,
          1,
          1,
          3,
          5,
          3,
          1,
          1,
          1,
          3,
          1,
          2,
          1,
          1,
          11,
          2,
          1,
          1,
          6,
          6,
          1,
          1,
          1,
          6,
          1,
          1,
          3,
          5,
          1,
          1,
          1,
          11,
          1,
          7,
          1,
          3,
          1,
          1,
          1,
          2,
          1,
          1,
          11,
          1,
          1,
          2,
          2,
          1,
          1,
          1,
          2,
          2,
          1,
          1,
          1,
          1,
          1,
          1,
          1,
          5,
          1,
          1,
          1,
          1,
          2,
          1,
          1,
          2,
          1,
          1,
          1,
          3,
          1,
          2,
          1,
          3,
          1,
          2,
          3,
          3,
          1,
          1,
          1,
          6,
          1,
          2,
          1,
          1,
          6,
          1,
          1,
          1,
          1,
          1,
          1,
          1,
          1,
          1,
          1,
          1,
          4,
          1,
          1,
          2,
          3,
          1,
          3,
          1,
          1,
          1,
          11,
          1,
          1,
          2,
          3,
          1,
          2,
          1,
          1,
          1,
          1,
          1,
          1,
          1,
          3,
          2,
          1,
          1,
          1,
          6,
          2,
          2,
          1,
          2,
          1,
          2,
          1,
          1,
          5,
          3,
          1,
          1,
          1,
          1,
          1,
          8,
          1,
          3,
          1,
          1,
          1,
          1,
          1,
          2,
          2,
          1,
          2,
          1,
          1,
          5,
          1,
          1,
          1,
          1,
          1,
          3,
          1,
          1,
          3,
          3,
          1,
          1,
          1,
          2,
          5,
          6,
          1,
          1,
          2,
          4,
          2,
          1,
          1,
          1,
          1,
          1,
          1,
          1,
          1,
          1,
          1,
          1,
          1,
          1,
          1,
          1,
          1,
          2,
          2,
          1,
          8,
          1,
          1,
          5,
          1,
          1,
          2,
          1,
          1,
          1,
          1,
          1,
          1,
          4,
          1,
          1,
          1,
          1,
          1,
          2,
          1,
          1,
          1,
          1,
          1,
          1,
          1,
          1,
          1,
          1,
          1,
          1,
          4,
          1,
          3,
          1,
          1,
          1,
          7,
          7,
          2,
          1,
          3,
          1,
          1,
          1,
          1,
          1,
          1,
          1,
          1,
          1,
          3,
          1,
          5,
          1,
          1,
          1,
          2,
          1,
          1,
          1,
          1,
          1,
          1,
          1,
          1,
          3,
          2,
          3,
          1,
          1,
          1,
          1,
          1,
          2,
          1,
          7,
          1,
          1,
          1,
          3,
          2,
          1,
          2,
          1,
          1,
          1,
          1,
          1,
          1,
          1,
          1,
          6,
          1,
          3,
          6,
          2,
          1,
          6,
          1,
          1,
          1,
          1,
          1,
          3,
          1,
          3,
          1,
          3,
          1,
          1,
          1,
          3,
          1,
          1,
          1,
          2,
          1,
          1,
          1,
          1,
          8,
          1,
          1,
          8,
          3,
          4,
          6,
          1,
          1,
          1,
          1,
          1,
          1,
          3,
          1,
          2,
          1,
          2,
          1,
          1,
          1,
          1,
          1,
          1,
          2,
          1,
          1,
          1,
          2,
          2,
          1,
          1,
          1,
          1,
          1,
          5,
          1,
          1,
          2,
          2,
          3,
          3,
          2,
          1,
          1,
          1,
          1,
          1,
          1,
          1,
          1,
          1,
          1,
          1,
          2,
          1,
          1,
          1,
          1,
          1,
          1,
          1,
          1,
          1,
          4,
          1,
          1,
          6,
          1,
          1,
          1,
          11,
          1,
          1,
          1,
          1,
          3,
          1,
          1,
          1,
          1,
          1,
          1,
          1,
          1,
          7,
          1,
          1,
          1,
          3,
          1,
          6,
          1,
          6,
          1,
          1,
          1,
          1,
          1,
          1,
          1,
          1,
          1,
          1,
          1,
          1,
          11,
          1,
          2,
          7,
          1,
          3,
          2,
          1,
          3,
          2,
          11,
          1,
          1,
          1,
          1,
          1,
          1,
          1,
          1,
          1,
          1,
          1,
          1,
          1,
          6,
          1,
          4,
          1
         ],
         "y": [
          22,
          35,
          27,
          54,
          2,
          20,
          39,
          14,
          2,
          31,
          35,
          8,
          26,
          19,
          23,
          40,
          66,
          28,
          42,
          21,
          18,
          40,
          27,
          30,
          20,
          16,
          18,
          7,
          21,
          65,
          28.5,
          11,
          22,
          45,
          4,
          64,
          19,
          26,
          32,
          16,
          21,
          26,
          25,
          23,
          28,
          22,
          28,
          16,
          20,
          24,
          29,
          20,
          46,
          26,
          59,
          22,
          71,
          34,
          28,
          29,
          21,
          33,
          37,
          28,
          38,
          47,
          14.5,
          22,
          20,
          17,
          21,
          70.5,
          29,
          24,
          2,
          21,
          19,
          32.5,
          54,
          19,
          45,
          33,
          20,
          47,
          25,
          23,
          37,
          16,
          24,
          40,
          19,
          18,
          19,
          9,
          36.5,
          42,
          51,
          55.5,
          40.5,
          27,
          51,
          30,
          37,
          5,
          44,
          26,
          17,
          1,
          45,
          60,
          28,
          61,
          4,
          21,
          56,
          18,
          5,
          50,
          30,
          36,
          8,
          39,
          9,
          39,
          40,
          36,
          19,
          28,
          42,
          24,
          28,
          17,
          34,
          45.5,
          2,
          32,
          24,
          22,
          30,
          22,
          42,
          30,
          27,
          51,
          22,
          22,
          20.5,
          18,
          12,
          29,
          59,
          24,
          21,
          44,
          19,
          33,
          19,
          29,
          22,
          30,
          44,
          25,
          54,
          18,
          29,
          62,
          30,
          41,
          52,
          40,
          21,
          36,
          16,
          28,
          37,
          45,
          21,
          7,
          65,
          28,
          16,
          57,
          33,
          22,
          36,
          24,
          24,
          30,
          23.5,
          2,
          19,
          28,
          30,
          26,
          28,
          43,
          54,
          22,
          27,
          20,
          61,
          45.5,
          38,
          16,
          30,
          29,
          45,
          28,
          25,
          36,
          42,
          23,
          43,
          15,
          25,
          23,
          28,
          38,
          40,
          29,
          45,
          35,
          27,
          30,
          18,
          19,
          22,
          3,
          27,
          20,
          19,
          32,
          27,
          18,
          1,
          19,
          28,
          22,
          31,
          46,
          23,
          26,
          21,
          28,
          20,
          34,
          51,
          21,
          3,
          42,
          27,
          22,
          32,
          30,
          10,
          21,
          29,
          28,
          18,
          54,
          28,
          17,
          50,
          21,
          64,
          31,
          20,
          25,
          36,
          28,
          30,
          24,
          65,
          17,
          34,
          47,
          48,
          34,
          38,
          21,
          56,
          22,
          39,
          38,
          22,
          40,
          34,
          29,
          22,
          9,
          37,
          50,
          8,
          58,
          30,
          19,
          21,
          55,
          71,
          21,
          26,
          55,
          25,
          24,
          17,
          21,
          21,
          37,
          18,
          28,
          66,
          24,
          47,
          30,
          32,
          22,
          35,
          18,
          40.5,
          49,
          39,
          23,
          17,
          17,
          30,
          45,
          69,
          9,
          11,
          50,
          64,
          33,
          27,
          21,
          62,
          45,
          30,
          40,
          28,
          40,
          62,
          24,
          19,
          29,
          28,
          16,
          19,
          18,
          54,
          36,
          16,
          47,
          22,
          22,
          35,
          47,
          40,
          37,
          36,
          49,
          18,
          42,
          37,
          44,
          36,
          30,
          39,
          21,
          22,
          35,
          34,
          26,
          26,
          27,
          21,
          21,
          61,
          57,
          26,
          18,
          51,
          30,
          9,
          32,
          31,
          41,
          37,
          20,
          2,
          19,
          21,
          23,
          21,
          18,
          24,
          27,
          32,
          23,
          58,
          40,
          47,
          36,
          32,
          25,
          49,
          43,
          31,
          70,
          19,
          18,
          24.5,
          43,
          28,
          20,
          14,
          60,
          25,
          14,
          19,
          18,
          25,
          60,
          52,
          44,
          49,
          42,
          18,
          25,
          26,
          39,
          41,
          29,
          52,
          19,
          33,
          17,
          34,
          50,
          20,
          25,
          25,
          11,
          41,
          23,
          23,
          28.5,
          48,
          20,
          32,
          36,
          24,
          70,
          16,
          19,
          31,
          33,
          23,
          28,
          18,
          34,
          23,
          41,
          16,
          46,
          30.5,
          28,
          32,
          24,
          48,
          57,
          29,
          18,
          20,
          22,
          29,
          35,
          25,
          25,
          8,
          46,
          20,
          16,
          21,
          43,
          25,
          39,
          30,
          30,
          34,
          31,
          39,
          18,
          39,
          26,
          39,
          35,
          6,
          30.5,
          39,
          23,
          31,
          43,
          10,
          38,
          2,
          36,
          23,
          30,
          23,
          18,
          21,
          20,
          20,
          16,
          34.5,
          17,
          42,
          18,
          35,
          28,
          4,
          74,
          9,
          44,
          30,
          41,
          21,
          14,
          24,
          31,
          23,
          26,
          33,
          47,
          20,
          19,
          23,
          33,
          22,
          28,
          25,
          39,
          27,
          7,
          32
         ]
        }
       ],
       "layout": {
        "autosize": true,
        "dragmode": "pan",
        "paper_bgcolor": "rgb(243, 243, 243)",
        "plot_bgcolor": "rgb(243, 243, 243)",
        "title": {
         "text": "Survived v. Non Survived Bubble Chart"
        },
        "xaxis": {
         "autorange": false,
         "gridcolor": "rgb(255, 255, 255)",
         "gridwidth": 1,
         "range": [
          -2.369887858053314,
          21.193350974789816
         ],
         "ticklen": 5,
         "title": {
          "text": "FamilySize"
         },
         "type": "linear",
         "zerolinewidth": 1
        },
        "yaxis": {
         "autorange": false,
         "gridcolor": "rgb(255, 255, 255)",
         "gridwidth": 2,
         "range": [
          -1439.3780507460058,
          1586.638892708145
         ],
         "ticklen": 5,
         "title": {
          "text": "Age"
         },
         "type": "linear",
         "zerolinewidth": 1
        }
       }
      },
      "image/png": "[encoded data removed]",
      "text/html": [
       "<div id=\"c3acdc55-43b0-497d-9f4e-017b355fbaeb\" style=\"height: 525px; width: 100%;\" class=\"plotly-graph-div\"></div><script type=\"text/javascript\">require([\"plotly\"], function(Plotly) { window.PLOTLYENV=window.PLOTLYENV || {};window.PLOTLYENV.BASE_URL=\"https://plot.ly\";Plotly.newPlot(\"c3acdc55-43b0-497d-9f4e-017b355fbaeb\", [{\"marker\": {\"line\": {\"width\": 2}, \"size\": [71.2833, 7.925, 53.1, 11.1333, 30.0708, 16.7, 26.55, 16.0, 13.0, 7.225, 13.0, 8.0292, 35.5, 31.3875, 7.8792, 146.5208, 7.75, 7.2292, 11.2417, 41.5792, 7.8792, 7.75, 76.7292, 26.0, 35.5, 10.5, 27.75, 80.0, 15.2458, 10.5, 7.925, 56.4958, 29.0, 12.475, 9.5, 7.7875, 10.5, 15.85, 263.0, 63.3583, 23.0, 7.65, 7.775, 24.15, 13.0, 11.2417, 7.1417, 22.3583, 26.0, 26.2833, 7.75, 15.85, 7.7958, 66.6, 7.7333, 15.75, 20.525, 55.0, 11.1333, 39.0, 22.025, 15.5, 26.55, 13.0, 7.8542, 26.0, 27.7208, 146.5208, 7.75, 8.05, 18.7875, 7.75, 31.0, 21.0, 113.275, 7.925, 76.2917, 8.05, 90.0, 10.5, 83.475, 31.3875, 26.25, 15.5, 14.5, 52.5542, 15.2458, 79.2, 86.5, 512.3292, 26.0, 31.3875, 7.775, 153.4625, 135.6333, 0.0, 19.5, 7.75, 77.9583, 20.25, 8.05, 9.5, 13.0, 7.75, 78.85, 91.0792, 30.5, 247.5208, 7.75, 23.25, 12.35, 151.55, 110.8833, 108.9, 56.9292, 83.1583, 262.375, 7.8542, 26.0, 164.8667, 134.5, 12.35, 29.0, 135.6333, 13.0, 20.525, 57.9792, 23.25, 133.65, 134.5, 8.05, 26.0, 263.0, 13.0, 13.0, 16.1, 15.9, 55.0, 7.8792, 7.8792, 75.25, 7.2292, 7.75, 69.3, 55.4417, 82.1708, 7.25, 227.525, 15.7417, 52.0, 13.0, 12.0, 120.0, 7.7958, 113.275, 16.7, 12.65, 7.925, 18.75, 90.0, 7.925, 32.5, 13.0, 26.0, 26.0, 8.05, 26.55, 16.1, 26.0, 120.0, 18.75, 26.25, 13.0, 8.1125, 81.8583, 19.5, 26.55, 19.2583, 30.5, 89.1042, 7.8958, 51.8625, 10.5, 26.55, 19.2583, 27.75, 13.7917, 12.2875, 9.5875, 91.0792, 90.0, 15.9, 78.2667, 86.5, 26.0, 26.55, 56.4958, 7.75, 26.2875, 59.4, 10.5, 26.0, 93.5, 57.9792, 10.5, 26.0, 22.3583, 26.25, 106.425, 49.5, 71.0, 26.0, 26.0, 13.8625, 36.75, 110.8833, 7.225, 7.775, 39.6, 79.65, 17.4, 7.8542, 10.5, 51.4792, 26.3875, 7.75, 13.0, 55.9, 7.925, 30.0, 110.8833, 79.65, 79.2, 78.2667, 33.0, 56.9292, 27.0, 26.55, 30.5, 41.5792, 153.4625, 15.5, 65.0, 39.0, 52.5542, 15.7417, 77.9583, 30.0, 30.5, 13.0, 69.3, 56.4958, 19.2583, 76.7292, 35.5, 7.55, 23.0, 7.8292, 133.65, 7.925, 52.0, 39.0, 13.0, 9.8417, 512.3292, 76.7292, 211.3375, 57.0, 13.4167, 56.4958, 7.7333, 227.525, 26.2875, 13.5, 26.2875, 151.55, 15.2458, 49.5042, 52.0, 227.525, 10.5, 33.0, 53.1, 21.0, 7.7375, 211.3375, 512.3292, 30.0, 262.375, 7.925, 13.0, 23.0, 12.475, 65.0, 14.5, 86.5, 7.2292, 120.0, 77.9583, 23.0, 12.475, 211.3375, 7.2292, 57.0, 7.4958, 20.575, 25.9292, 8.6833, 26.25, 120.0, 8.5167, 6.975, 53.1, 93.5, 8.6625, 12.475, 37.0042, 7.75, 80.0, 14.4542, 18.75, 83.1583, 56.4958, 29.7, 31.0, 89.1042, 39.4, 9.35, 164.8667, 26.55, 19.2583, 25.9292, 13.0, 13.8583, 11.1333, 52.5542, 24.0, 7.225, 83.1583, 26.0, 30.0, 30.0], \"sizemode\": \"area\", \"sizeref\": 0.10246584, \"symbol\": \"circle\"}, \"mode\": \"markers\", \"name\": \"Survival\", \"x\": [2, 1, 2, 3, 2, 3, 1, 1, 1, 1, 1, 1, 1, 7, 1, 2, 1, 1, 2, 4, 1, 1, 2, 2, 1, 1, 4, 1, 3, 1, 7, 1, 3, 1, 1, 1, 1, 4, 6, 2, 2, 1, 1, 2, 1, 2, 1, 3, 2, 3, 1, 2, 1, 2, 1, 1, 3, 2, 3, 4, 3, 2, 1, 1, 2, 3, 1, 1, 1, 1, 1, 1, 1, 1, 2, 1, 1, 1, 2, 1, 2, 7, 3, 2, 3, 3, 3, 1, 1, 1, 2, 7, 2, 2, 1, 1, 2, 1, 2, 3, 1, 1, 1, 1, 1, 2, 1, 2, 1, 3, 1, 4, 1, 2, 1, 1, 5, 1, 2, 3, 3, 1, 3, 1, 1, 3, 2, 3, 2, 1, 1, 3, 6, 1, 1, 2, 3, 2, 1, 1, 2, 1, 1, 1, 2, 2, 1, 1, 3, 2, 1, 1, 4, 1, 2, 3, 1, 1, 3, 2, 1, 3, 3, 2, 1, 1, 1, 2, 2, 4, 6, 3, 1, 1, 3, 2, 1, 4, 1, 2, 1, 2, 1, 1, 4, 4, 1, 2, 1, 2, 2, 3, 2, 1, 3, 1, 1, 1, 1, 2, 1, 2, 1, 2, 1, 3, 3, 3, 1, 3, 3, 2, 2, 1, 3, 3, 1, 1, 2, 3, 2, 1, 1, 3, 1, 1, 1, 2, 1, 3, 3, 3, 3, 2, 1, 2, 4, 1, 1, 4, 1, 2, 4, 4, 2, 3, 1, 1, 1, 1, 1, 1, 4, 2, 1, 1, 2, 1, 3, 2, 2, 3, 1, 1, 2, 1, 2, 2, 2, 1, 1, 2, 1, 1, 1, 1, 3, 1, 2, 1, 1, 2, 2, 4, 1, 1, 1, 1, 5, 1, 1, 3, 2, 4, 3, 1, 1, 4, 2, 5, 1, 2, 1, 2, 1, 4, 1, 1, 3, 4, 2, 1, 2, 3, 1, 2, 3, 1, 1, 2, 3, 3, 1, 1, 1, 2, 2, 2, 3, 1, 4, 1, 1, 2, 3, 3, 2, 1, 2, 2, 1, 1], \"y\": [38.0, 26.0, 35.0, 27.0, 14.0, 4.0, 58.0, 55.0, 23.0, 22.0, 34.0, 15.0, 28.0, 38.0, 24.0, 48.0, 18.0, 18.0, 14.0, 3.0, 19.0, 27.0, 49.0, 29.0, 46.0, 21.0, 5.0, 38.0, 7.0, 29.0, 17.0, 32.0, 0.83, 30.0, 29.0, 31.0, 17.0, 33.0, 23.0, 23.0, 34.0, 21.0, 29.0, 28.0, 32.5, 12.0, 24.0, 2.0, 29.0, 19.0, 22.0, 24.0, 27.0, 22.0, 16.0, 40.0, 9.0, 48.0, 1.0, 1.0, 4.0, 26.0, 45.0, 32.0, 19.0, 3.0, 44.0, 58.0, 21.0, 18.0, 26.0, 16.0, 40.0, 35.0, 31.0, 27.0, 32.0, 16.0, 38.0, 19.0, 35.0, 5.0, 8.0, 18.0, 24.0, 37.0, 29.0, 38.0, 30.0, 35.0, 50.0, 3.0, 25.0, 58.0, 35.0, 25.0, 41.0, 33.0, 63.0, 35.0, 19.0, 30.0, 42.0, 22.0, 26.0, 19.0, 47.0, 50.0, 20.0, 24.0, 46.0, 0.92, 42.0, 17.0, 30.0, 24.0, 18.0, 26.0, 24.0, 31.0, 40.0, 30.0, 22.0, 36.0, 36.0, 31.0, 16.0, 28.0, 42.0, 41.0, 45.0, 2.0, 24.0, 24.0, 40.0, 34.0, 3.0, 22.0, 22.0, 23.0, 60.0, 35.0, 22.0, 24.0, 25.0, 25.0, 22.0, 42.0, 1.0, 35.0, 36.0, 17.0, 36.0, 21.0, 23.0, 24.0, 28.0, 39.0, 3.0, 33.0, 44.0, 34.0, 18.0, 28.0, 19.0, 32.0, 28.0, 33.0, 42.0, 14.0, 24.0, 45.0, 28.0, 29.0, 4.0, 13.0, 34.0, 5.0, 52.0, 49.0, 29.0, 41.0, 50.0, 48.0, 0.75, 33.0, 23.0, 2.0, 63.0, 25.0, 35.0, 9.0, 54.0, 16.0, 33.0, 37.0, 26.0, 29.0, 36.0, 54.0, 34.0, 36.0, 30.0, 44.0, 50.0, 2.0, 24.0, 7.0, 30.0, 22.0, 36.0, 32.0, 19.0, 27.0, 8.0, 17.0, 22.0, 22.0, 48.0, 39.0, 36.0, 32.0, 62.0, 53.0, 36.0, 22.0, 34.0, 39.0, 32.0, 25.0, 39.0, 18.0, 60.0, 52.0, 31.0, 49.0, 24.0, 35.0, 27.0, 22.0, 40.0, 18.0, 24.0, 4.0, 42.0, 20.0, 21.0, 80.0, 32.0, 28.0, 24.0, 32.0, 0.75, 48.0, 56.0, 23.0, 18.0, 16.0, 50.0, 20.0, 48.0, 40.0, 31.0, 18.0, 36.0, 27.0, 15.0, 31.0, 4.0, 37.0, 19.0, 18.0, 35.0, 45.0, 42.0, 22.0, 4.0, 24.0, 48.0, 38.0, 27.0, 6.0, 27.0, 30.0, 28.0, 29.0, 35.0, 45.0, 21.0, 31.0, 30.0, 4.0, 6.0, 48.0, 0.67, 33.0, 20.0, 36.0, 51.0, 54.0, 5.0, 43.0, 13.0, 17.0, 18.0, 1.0, 49.0, 31.0, 31.0, 11.0, 0.42, 27.0, 33.0, 52.0, 27.0, 27.0, 1.0, 19.0, 62.0, 15.0, 0.83, 39.0, 32.0, 29.0, 30.0, 40.0, 16.0, 18.0, 45.0, 51.0, 24.0, 48.0, 42.0, 27.0, 4.0, 47.0, 28.0, 15.0, 56.0, 25.0, 19.0, 26.0], \"type\": \"scatter\", \"uid\": \"88522797-d688-47e5-9e83-bcbe999d2f2f\"}, {\"marker\": {\"line\": {\"width\": 2}, \"size\": [7.25, 8.05, 8.4583, 51.8625, 21.075, 8.05, 31.275, 7.8542, 29.125, 18.0, 26.0, 21.075, 7.225, 263.0, 7.8958, 27.7208, 10.5, 82.1708, 52.0, 8.05, 18.0, 9.475, 21.0, 8.05, 15.5, 21.6792, 17.8, 39.6875, 7.8, 61.9792, 7.2292, 46.9, 7.2292, 83.475, 27.9, 27.7208, 8.1583, 8.6625, 10.5, 46.9, 73.5, 14.4542, 7.65, 7.8958, 8.05, 9.0, 47.1, 34.375, 8.05, 8.05, 8.05, 7.8542, 61.175, 20.575, 7.25, 8.05, 34.6542, 26.0, 7.8958, 7.8958, 77.2875, 8.6542, 7.925, 7.8958, 7.8958, 52.0, 14.4542, 8.05, 9.825, 14.4583, 7.925, 7.75, 21.0, 247.5208, 31.275, 73.5, 8.05, 30.0708, 77.2875, 7.75, 6.975, 7.8958, 7.05, 14.5, 13.0, 15.0458, 53.1, 9.2167, 79.2, 15.2458, 6.75, 11.5, 36.75, 34.375, 26.0, 13.0, 12.525, 8.05, 14.5, 7.3125, 61.3792, 8.05, 8.6625, 69.55, 16.1, 7.775, 8.6625, 39.6875, 27.9, 25.925, 56.4958, 33.5, 29.125, 7.925, 30.6958, 7.8542, 25.4667, 28.7125, 13.0, 0.0, 69.55, 15.05, 31.3875, 50.0, 15.5, 7.8958, 13.0, 7.75, 8.4042, 13.0, 9.5, 69.55, 6.4958, 7.225, 10.4625, 15.85, 7.05, 7.25, 13.0, 7.75, 27.0, 10.5, 13.0, 8.05, 7.8958, 9.35, 7.25, 13.0, 25.4667, 7.775, 13.5, 10.5, 7.55, 26.0, 10.5, 12.275, 14.4542, 10.5, 7.125, 7.225, 90.0, 7.775, 26.0, 7.25, 10.4625, 26.55, 16.1, 20.2125, 79.65, 0.0, 7.75, 10.5, 39.6875, 31.0, 29.7, 7.75, 0.0, 29.125, 7.75, 7.8542, 9.5, 26.0, 8.6625, 7.8958, 12.875, 8.85, 7.8958, 27.7208, 7.2292, 151.55, 0.0, 8.05, 24.0, 26.0, 7.8958, 26.25, 14.0, 7.25, 7.8958, 69.55, 6.2375, 28.5, 153.4625, 18.0, 7.8958, 66.6, 35.5, 13.0, 13.0, 13.0, 8.6625, 9.225, 35.0, 7.2292, 17.8, 7.225, 9.5, 13.0, 27.9, 27.7208, 14.4542, 7.05, 15.5, 7.25, 6.4958, 8.05, 135.6333, 21.075, 211.5, 4.0125, 7.775, 7.925, 7.8958, 73.5, 46.9, 7.7292, 7.925, 7.7958, 7.8542, 26.0, 10.5, 8.05, 9.825, 15.85, 8.6625, 21.0, 7.75, 7.775, 25.4667, 7.8958, 6.8583, 0.0, 8.05, 13.0, 24.15, 7.7333, 7.875, 14.4, 20.2125, 7.25, 7.75, 7.125, 55.9, 34.375, 263.0, 10.5, 9.5, 7.775, 27.75, 19.9667, 27.75, 8.05, 26.55, 7.75, 8.05, 38.5, 13.0, 8.05, 7.05, 0.0, 26.55, 7.725, 7.25, 8.6625, 9.8375, 52.0, 21.0, 7.0458, 7.5208, 46.9, 0.0, 8.05, 25.4667, 29.7, 8.05, 19.9667, 7.25, 30.5, 49.5042, 8.05, 14.4583, 15.1, 151.55, 7.7958, 8.6625, 7.75, 7.6292, 9.5875, 108.9, 22.525, 8.05, 7.4958, 34.0208, 24.15, 7.8958, 7.8958, 7.225, 7.2292, 7.75, 221.7792, 7.925, 11.5, 7.2292, 7.2292, 8.6625, 26.55, 14.5, 31.275, 31.275, 106.425, 26.0, 20.525, 26.0, 7.8292, 26.55, 227.525, 7.75, 7.8958, 13.5, 8.05, 8.05, 24.15, 7.8958, 21.075, 7.2292, 8.05, 14.5, 14.4583, 26.0, 40.125, 8.7125, 15.0, 8.05, 8.05, 7.125, 7.25, 7.75, 26.0, 24.15, 0.0, 7.225, 7.8958, 42.4, 8.05, 15.55, 7.8958, 31.275, 7.05, 7.75, 8.05, 14.4, 16.1, 10.5, 14.4542, 7.8542, 16.1, 32.3208, 12.35, 7.8958, 7.7333, 7.0542, 0.0, 27.9, 7.925, 26.25, 39.6875, 16.1, 7.8542, 27.9, 7.8958, 7.55, 7.8958, 8.4333, 6.75, 73.5, 7.8958, 15.5, 13.0, 113.275, 7.225, 25.5875, 7.4958, 73.5, 13.0, 7.775, 8.05, 52.0, 10.5, 0.0, 7.775, 8.05, 46.9, 8.1375, 9.225, 46.9, 39.0, 41.5792, 39.6875, 10.1708, 7.7958, 7.225, 26.55, 13.5, 8.05, 110.8833, 7.65, 14.4542, 7.7417, 7.8542, 26.0, 26.55, 9.4833, 13.0, 7.65, 7.775, 7.0542, 13.0, 13.0, 8.6625, 26.0, 7.925, 18.7875, 0.0, 13.0, 13.0, 16.1, 34.375, 7.8958, 7.8958, 78.85, 16.1, 71.0, 20.25, 53.1, 7.75, 9.5, 7.8958, 7.7958, 11.5, 8.05, 14.5, 7.125, 7.775, 39.6, 7.75, 24.15, 8.3625, 9.5, 7.8542, 10.5, 7.225, 7.75, 7.75, 7.7375, 30.0, 23.45, 7.05, 7.25, 29.125, 79.2, 7.75, 26.0, 69.55, 30.6958, 7.8958, 13.0, 7.2292, 24.15, 13.0, 7.775, 0.0, 7.775, 13.0, 7.8875, 24.15, 10.5, 31.275, 8.05, 0.0, 7.925, 37.0042, 6.45, 27.9, 0.0, 39.6875, 6.95, 56.4958, 7.2292, 7.8542, 8.3, 8.6625, 8.05, 7.925, 10.5, 6.4375, 8.6625, 7.55, 69.55, 7.8958, 33.0, 31.275, 7.775, 15.2458, 26.0, 7.2292, 14.1083, 11.5, 69.55, 13.0, 50.4958, 9.5, 7.8958, 5.0, 9.0, 9.8458, 7.8958, 7.8958, 7.8958, 10.5167, 10.5, 7.05, 29.125, 13.0, 23.45, 7.75], \"sizemode\": \"area\", \"sizeref\": 0.10246584}, \"mode\": \"markers\", \"name\": \"Not Survival\", \"x\": [2, 1, 1, 1, 5, 1, 7, 1, 6, 2, 1, 5, 1, 6, 1, 1, 1, 2, 2, 1, 3, 2, 2, 1, 2, 3, 2, 6, 1, 2, 1, 8, 1, 2, 6, 1, 1, 3, 1, 8, 1, 2, 1, 1, 1, 1, 1, 5, 1, 1, 1, 1, 2, 4, 1, 1, 1, 2, 1, 1, 2, 1, 3, 1, 1, 1, 2, 1, 2, 1, 1, 1, 2, 2, 7, 3, 1, 2, 2, 1, 1, 1, 1, 2, 1, 1, 2, 1, 1, 3, 1, 1, 3, 5, 3, 1, 1, 1, 3, 1, 2, 1, 1, 11, 2, 1, 1, 6, 6, 1, 1, 1, 6, 1, 1, 3, 5, 1, 1, 1, 11, 1, 7, 1, 3, 1, 1, 1, 2, 1, 1, 11, 1, 1, 2, 2, 1, 1, 1, 2, 2, 1, 1, 1, 1, 1, 1, 1, 5, 1, 1, 1, 1, 2, 1, 1, 2, 1, 1, 1, 3, 1, 2, 1, 3, 1, 2, 3, 3, 1, 1, 1, 6, 1, 2, 1, 1, 6, 1, 1, 1, 1, 1, 1, 1, 1, 1, 1, 1, 4, 1, 1, 2, 3, 1, 3, 1, 1, 1, 11, 1, 1, 2, 3, 1, 2, 1, 1, 1, 1, 1, 1, 1, 3, 2, 1, 1, 1, 6, 2, 2, 1, 2, 1, 2, 1, 1, 5, 3, 1, 1, 1, 1, 1, 8, 1, 3, 1, 1, 1, 1, 1, 2, 2, 1, 2, 1, 1, 5, 1, 1, 1, 1, 1, 3, 1, 1, 3, 3, 1, 1, 1, 2, 5, 6, 1, 1, 2, 4, 2, 1, 1, 1, 1, 1, 1, 1, 1, 1, 1, 1, 1, 1, 1, 1, 1, 2, 2, 1, 8, 1, 1, 5, 1, 1, 2, 1, 1, 1, 1, 1, 1, 4, 1, 1, 1, 1, 1, 2, 1, 1, 1, 1, 1, 1, 1, 1, 1, 1, 1, 1, 4, 1, 3, 1, 1, 1, 7, 7, 2, 1, 3, 1, 1, 1, 1, 1, 1, 1, 1, 1, 3, 1, 5, 1, 1, 1, 2, 1, 1, 1, 1, 1, 1, 1, 1, 3, 2, 3, 1, 1, 1, 1, 1, 2, 1, 7, 1, 1, 1, 3, 2, 1, 2, 1, 1, 1, 1, 1, 1, 1, 1, 6, 1, 3, 6, 2, 1, 6, 1, 1, 1, 1, 1, 3, 1, 3, 1, 3, 1, 1, 1, 3, 1, 1, 1, 2, 1, 1, 1, 1, 8, 1, 1, 8, 3, 4, 6, 1, 1, 1, 1, 1, 1, 3, 1, 2, 1, 2, 1, 1, 1, 1, 1, 1, 2, 1, 1, 1, 2, 2, 1, 1, 1, 1, 1, 5, 1, 1, 2, 2, 3, 3, 2, 1, 1, 1, 1, 1, 1, 1, 1, 1, 1, 1, 2, 1, 1, 1, 1, 1, 1, 1, 1, 1, 4, 1, 1, 6, 1, 1, 1, 11, 1, 1, 1, 1, 3, 1, 1, 1, 1, 1, 1, 1, 1, 7, 1, 1, 1, 3, 1, 6, 1, 6, 1, 1, 1, 1, 1, 1, 1, 1, 1, 1, 1, 1, 11, 1, 2, 7, 1, 3, 2, 1, 3, 2, 11, 1, 1, 1, 1, 1, 1, 1, 1, 1, 1, 1, 1, 1, 6, 1, 4, 1], \"y\": [22.0, 35.0, 27.0, 54.0, 2.0, 20.0, 39.0, 14.0, 2.0, 31.0, 35.0, 8.0, 26.0, 19.0, 23.0, 40.0, 66.0, 28.0, 42.0, 21.0, 18.0, 40.0, 27.0, 30.0, 20.0, 16.0, 18.0, 7.0, 21.0, 65.0, 28.5, 11.0, 22.0, 45.0, 4.0, 64.0, 19.0, 26.0, 32.0, 16.0, 21.0, 26.0, 25.0, 23.0, 28.0, 22.0, 28.0, 16.0, 20.0, 24.0, 29.0, 20.0, 46.0, 26.0, 59.0, 22.0, 71.0, 34.0, 28.0, 29.0, 21.0, 33.0, 37.0, 28.0, 38.0, 47.0, 14.5, 22.0, 20.0, 17.0, 21.0, 70.5, 29.0, 24.0, 2.0, 21.0, 19.0, 32.5, 54.0, 19.0, 45.0, 33.0, 20.0, 47.0, 25.0, 23.0, 37.0, 16.0, 24.0, 40.0, 19.0, 18.0, 19.0, 9.0, 36.5, 42.0, 51.0, 55.5, 40.5, 27.0, 51.0, 30.0, 37.0, 5.0, 44.0, 26.0, 17.0, 1.0, 45.0, 60.0, 28.0, 61.0, 4.0, 21.0, 56.0, 18.0, 5.0, 50.0, 30.0, 36.0, 8.0, 39.0, 9.0, 39.0, 40.0, 36.0, 19.0, 28.0, 42.0, 24.0, 28.0, 17.0, 34.0, 45.5, 2.0, 32.0, 24.0, 22.0, 30.0, 22.0, 42.0, 30.0, 27.0, 51.0, 22.0, 22.0, 20.5, 18.0, 12.0, 29.0, 59.0, 24.0, 21.0, 44.0, 19.0, 33.0, 19.0, 29.0, 22.0, 30.0, 44.0, 25.0, 54.0, 18.0, 29.0, 62.0, 30.0, 41.0, 52.0, 40.0, 21.0, 36.0, 16.0, 28.0, 37.0, 45.0, 21.0, 7.0, 65.0, 28.0, 16.0, 57.0, 33.0, 22.0, 36.0, 24.0, 24.0, 30.0, 23.5, 2.0, 19.0, 28.0, 30.0, 26.0, 28.0, 43.0, 54.0, 22.0, 27.0, 20.0, 61.0, 45.5, 38.0, 16.0, 30.0, 29.0, 45.0, 28.0, 25.0, 36.0, 42.0, 23.0, 43.0, 15.0, 25.0, 23.0, 28.0, 38.0, 40.0, 29.0, 45.0, 35.0, 27.0, 30.0, 18.0, 19.0, 22.0, 3.0, 27.0, 20.0, 19.0, 32.0, 27.0, 18.0, 1.0, 19.0, 28.0, 22.0, 31.0, 46.0, 23.0, 26.0, 21.0, 28.0, 20.0, 34.0, 51.0, 21.0, 3.0, 42.0, 27.0, 22.0, 32.0, 30.0, 10.0, 21.0, 29.0, 28.0, 18.0, 54.0, 28.0, 17.0, 50.0, 21.0, 64.0, 31.0, 20.0, 25.0, 36.0, 28.0, 30.0, 24.0, 65.0, 17.0, 34.0, 47.0, 48.0, 34.0, 38.0, 21.0, 56.0, 22.0, 39.0, 38.0, 22.0, 40.0, 34.0, 29.0, 22.0, 9.0, 37.0, 50.0, 8.0, 58.0, 30.0, 19.0, 21.0, 55.0, 71.0, 21.0, 26.0, 55.0, 25.0, 24.0, 17.0, 21.0, 21.0, 37.0, 18.0, 28.0, 66.0, 24.0, 47.0, 30.0, 32.0, 22.0, 35.0, 18.0, 40.5, 49.0, 39.0, 23.0, 17.0, 17.0, 30.0, 45.0, 69.0, 9.0, 11.0, 50.0, 64.0, 33.0, 27.0, 21.0, 62.0, 45.0, 30.0, 40.0, 28.0, 40.0, 62.0, 24.0, 19.0, 29.0, 28.0, 16.0, 19.0, 18.0, 54.0, 36.0, 16.0, 47.0, 22.0, 22.0, 35.0, 47.0, 40.0, 37.0, 36.0, 49.0, 18.0, 42.0, 37.0, 44.0, 36.0, 30.0, 39.0, 21.0, 22.0, 35.0, 34.0, 26.0, 26.0, 27.0, 21.0, 21.0, 61.0, 57.0, 26.0, 18.0, 51.0, 30.0, 9.0, 32.0, 31.0, 41.0, 37.0, 20.0, 2.0, 19.0, 21.0, 23.0, 21.0, 18.0, 24.0, 27.0, 32.0, 23.0, 58.0, 40.0, 47.0, 36.0, 32.0, 25.0, 49.0, 43.0, 31.0, 70.0, 19.0, 18.0, 24.5, 43.0, 28.0, 20.0, 14.0, 60.0, 25.0, 14.0, 19.0, 18.0, 25.0, 60.0, 52.0, 44.0, 49.0, 42.0, 18.0, 25.0, 26.0, 39.0, 41.0, 29.0, 52.0, 19.0, 33.0, 17.0, 34.0, 50.0, 20.0, 25.0, 25.0, 11.0, 41.0, 23.0, 23.0, 28.5, 48.0, 20.0, 32.0, 36.0, 24.0, 70.0, 16.0, 19.0, 31.0, 33.0, 23.0, 28.0, 18.0, 34.0, 23.0, 41.0, 16.0, 46.0, 30.5, 28.0, 32.0, 24.0, 48.0, 57.0, 29.0, 18.0, 20.0, 22.0, 29.0, 35.0, 25.0, 25.0, 8.0, 46.0, 20.0, 16.0, 21.0, 43.0, 25.0, 39.0, 30.0, 30.0, 34.0, 31.0, 39.0, 18.0, 39.0, 26.0, 39.0, 35.0, 6.0, 30.5, 39.0, 23.0, 31.0, 43.0, 10.0, 38.0, 2.0, 36.0, 23.0, 30.0, 23.0, 18.0, 21.0, 20.0, 20.0, 16.0, 34.5, 17.0, 42.0, 18.0, 35.0, 28.0, 4.0, 74.0, 9.0, 44.0, 30.0, 41.0, 21.0, 14.0, 24.0, 31.0, 23.0, 26.0, 33.0, 47.0, 20.0, 19.0, 23.0, 33.0, 22.0, 28.0, 25.0, 39.0, 27.0, 7.0, 32.0], \"type\": \"scatter\", \"uid\": \"e9963168-b759-41fc-9fa6-22f59b1d9e0d\"}], {\"paper_bgcolor\": \"rgb(243, 243, 243)\", \"plot_bgcolor\": \"rgb(243, 243, 243)\", \"title\": \"Survived v. Non Survived Bubble Chart\", \"xaxis\": {\"gridcolor\": \"rgb(255, 255, 255)\", \"gridwidth\": 1, \"ticklen\": 5, \"title\": \"FamilySize\", \"zerolinewidth\": 1}, \"yaxis\": {\"gridcolor\": \"rgb(255, 255, 255)\", \"gridwidth\": 2, \"ticklen\": 5, \"title\": \"Age\", \"zerolinewidth\": 1}}, {\"showLink\": true, \"linkText\": \"Export to plot.ly\", \"plotlyServerURL\": \"https://plot.ly\"})});</script><script type=\"text/javascript\">window.addEventListener(\"resize\", function(){window._Plotly.Plots.resize(document.getElementById(\"c3acdc55-43b0-497d-9f4e-017b355fbaeb\"));});</script>"
      ],
      "text/vnd.plotly.v1+html": [
       "<div id=\"c3acdc55-43b0-497d-9f4e-017b355fbaeb\" style=\"height: 525px; width: 100%;\" class=\"plotly-graph-div\"></div><script type=\"text/javascript\">require([\"plotly\"], function(Plotly) { window.PLOTLYENV=window.PLOTLYENV || {};window.PLOTLYENV.BASE_URL=\"https://plot.ly\";Plotly.newPlot(\"c3acdc55-43b0-497d-9f4e-017b355fbaeb\", [{\"marker\": {\"line\": {\"width\": 2}, \"size\": [71.2833, 7.925, 53.1, 11.1333, 30.0708, 16.7, 26.55, 16.0, 13.0, 7.225, 13.0, 8.0292, 35.5, 31.3875, 7.8792, 146.5208, 7.75, 7.2292, 11.2417, 41.5792, 7.8792, 7.75, 76.7292, 26.0, 35.5, 10.5, 27.75, 80.0, 15.2458, 10.5, 7.925, 56.4958, 29.0, 12.475, 9.5, 7.7875, 10.5, 15.85, 263.0, 63.3583, 23.0, 7.65, 7.775, 24.15, 13.0, 11.2417, 7.1417, 22.3583, 26.0, 26.2833, 7.75, 15.85, 7.7958, 66.6, 7.7333, 15.75, 20.525, 55.0, 11.1333, 39.0, 22.025, 15.5, 26.55, 13.0, 7.8542, 26.0, 27.7208, 146.5208, 7.75, 8.05, 18.7875, 7.75, 31.0, 21.0, 113.275, 7.925, 76.2917, 8.05, 90.0, 10.5, 83.475, 31.3875, 26.25, 15.5, 14.5, 52.5542, 15.2458, 79.2, 86.5, 512.3292, 26.0, 31.3875, 7.775, 153.4625, 135.6333, 0.0, 19.5, 7.75, 77.9583, 20.25, 8.05, 9.5, 13.0, 7.75, 78.85, 91.0792, 30.5, 247.5208, 7.75, 23.25, 12.35, 151.55, 110.8833, 108.9, 56.9292, 83.1583, 262.375, 7.8542, 26.0, 164.8667, 134.5, 12.35, 29.0, 135.6333, 13.0, 20.525, 57.9792, 23.25, 133.65, 134.5, 8.05, 26.0, 263.0, 13.0, 13.0, 16.1, 15.9, 55.0, 7.8792, 7.8792, 75.25, 7.2292, 7.75, 69.3, 55.4417, 82.1708, 7.25, 227.525, 15.7417, 52.0, 13.0, 12.0, 120.0, 7.7958, 113.275, 16.7, 12.65, 7.925, 18.75, 90.0, 7.925, 32.5, 13.0, 26.0, 26.0, 8.05, 26.55, 16.1, 26.0, 120.0, 18.75, 26.25, 13.0, 8.1125, 81.8583, 19.5, 26.55, 19.2583, 30.5, 89.1042, 7.8958, 51.8625, 10.5, 26.55, 19.2583, 27.75, 13.7917, 12.2875, 9.5875, 91.0792, 90.0, 15.9, 78.2667, 86.5, 26.0, 26.55, 56.4958, 7.75, 26.2875, 59.4, 10.5, 26.0, 93.5, 57.9792, 10.5, 26.0, 22.3583, 26.25, 106.425, 49.5, 71.0, 26.0, 26.0, 13.8625, 36.75, 110.8833, 7.225, 7.775, 39.6, 79.65, 17.4, 7.8542, 10.5, 51.4792, 26.3875, 7.75, 13.0, 55.9, 7.925, 30.0, 110.8833, 79.65, 79.2, 78.2667, 33.0, 56.9292, 27.0, 26.55, 30.5, 41.5792, 153.4625, 15.5, 65.0, 39.0, 52.5542, 15.7417, 77.9583, 30.0, 30.5, 13.0, 69.3, 56.4958, 19.2583, 76.7292, 35.5, 7.55, 23.0, 7.8292, 133.65, 7.925, 52.0, 39.0, 13.0, 9.8417, 512.3292, 76.7292, 211.3375, 57.0, 13.4167, 56.4958, 7.7333, 227.525, 26.2875, 13.5, 26.2875, 151.55, 15.2458, 49.5042, 52.0, 227.525, 10.5, 33.0, 53.1, 21.0, 7.7375, 211.3375, 512.3292, 30.0, 262.375, 7.925, 13.0, 23.0, 12.475, 65.0, 14.5, 86.5, 7.2292, 120.0, 77.9583, 23.0, 12.475, 211.3375, 7.2292, 57.0, 7.4958, 20.575, 25.9292, 8.6833, 26.25, 120.0, 8.5167, 6.975, 53.1, 93.5, 8.6625, 12.475, 37.0042, 7.75, 80.0, 14.4542, 18.75, 83.1583, 56.4958, 29.7, 31.0, 89.1042, 39.4, 9.35, 164.8667, 26.55, 19.2583, 25.9292, 13.0, 13.8583, 11.1333, 52.5542, 24.0, 7.225, 83.1583, 26.0, 30.0, 30.0], \"sizemode\": \"area\", \"sizeref\": 0.10246584, \"symbol\": \"circle\"}, \"mode\": \"markers\", \"name\": \"Survival\", \"x\": [2, 1, 2, 3, 2, 3, 1, 1, 1, 1, 1, 1, 1, 7, 1, 2, 1, 1, 2, 4, 1, 1, 2, 2, 1, 1, 4, 1, 3, 1, 7, 1, 3, 1, 1, 1, 1, 4, 6, 2, 2, 1, 1, 2, 1, 2, 1, 3, 2, 3, 1, 2, 1, 2, 1, 1, 3, 2, 3, 4, 3, 2, 1, 1, 2, 3, 1, 1, 1, 1, 1, 1, 1, 1, 2, 1, 1, 1, 2, 1, 2, 7, 3, 2, 3, 3, 3, 1, 1, 1, 2, 7, 2, 2, 1, 1, 2, 1, 2, 3, 1, 1, 1, 1, 1, 2, 1, 2, 1, 3, 1, 4, 1, 2, 1, 1, 5, 1, 2, 3, 3, 1, 3, 1, 1, 3, 2, 3, 2, 1, 1, 3, 6, 1, 1, 2, 3, 2, 1, 1, 2, 1, 1, 1, 2, 2, 1, 1, 3, 2, 1, 1, 4, 1, 2, 3, 1, 1, 3, 2, 1, 3, 3, 2, 1, 1, 1, 2, 2, 4, 6, 3, 1, 1, 3, 2, 1, 4, 1, 2, 1, 2, 1, 1, 4, 4, 1, 2, 1, 2, 2, 3, 2, 1, 3, 1, 1, 1, 1, 2, 1, 2, 1, 2, 1, 3, 3, 3, 1, 3, 3, 2, 2, 1, 3, 3, 1, 1, 2, 3, 2, 1, 1, 3, 1, 1, 1, 2, 1, 3, 3, 3, 3, 2, 1, 2, 4, 1, 1, 4, 1, 2, 4, 4, 2, 3, 1, 1, 1, 1, 1, 1, 4, 2, 1, 1, 2, 1, 3, 2, 2, 3, 1, 1, 2, 1, 2, 2, 2, 1, 1, 2, 1, 1, 1, 1, 3, 1, 2, 1, 1, 2, 2, 4, 1, 1, 1, 1, 5, 1, 1, 3, 2, 4, 3, 1, 1, 4, 2, 5, 1, 2, 1, 2, 1, 4, 1, 1, 3, 4, 2, 1, 2, 3, 1, 2, 3, 1, 1, 2, 3, 3, 1, 1, 1, 2, 2, 2, 3, 1, 4, 1, 1, 2, 3, 3, 2, 1, 2, 2, 1, 1], \"y\": [38.0, 26.0, 35.0, 27.0, 14.0, 4.0, 58.0, 55.0, 23.0, 22.0, 34.0, 15.0, 28.0, 38.0, 24.0, 48.0, 18.0, 18.0, 14.0, 3.0, 19.0, 27.0, 49.0, 29.0, 46.0, 21.0, 5.0, 38.0, 7.0, 29.0, 17.0, 32.0, 0.83, 30.0, 29.0, 31.0, 17.0, 33.0, 23.0, 23.0, 34.0, 21.0, 29.0, 28.0, 32.5, 12.0, 24.0, 2.0, 29.0, 19.0, 22.0, 24.0, 27.0, 22.0, 16.0, 40.0, 9.0, 48.0, 1.0, 1.0, 4.0, 26.0, 45.0, 32.0, 19.0, 3.0, 44.0, 58.0, 21.0, 18.0, 26.0, 16.0, 40.0, 35.0, 31.0, 27.0, 32.0, 16.0, 38.0, 19.0, 35.0, 5.0, 8.0, 18.0, 24.0, 37.0, 29.0, 38.0, 30.0, 35.0, 50.0, 3.0, 25.0, 58.0, 35.0, 25.0, 41.0, 33.0, 63.0, 35.0, 19.0, 30.0, 42.0, 22.0, 26.0, 19.0, 47.0, 50.0, 20.0, 24.0, 46.0, 0.92, 42.0, 17.0, 30.0, 24.0, 18.0, 26.0, 24.0, 31.0, 40.0, 30.0, 22.0, 36.0, 36.0, 31.0, 16.0, 28.0, 42.0, 41.0, 45.0, 2.0, 24.0, 24.0, 40.0, 34.0, 3.0, 22.0, 22.0, 23.0, 60.0, 35.0, 22.0, 24.0, 25.0, 25.0, 22.0, 42.0, 1.0, 35.0, 36.0, 17.0, 36.0, 21.0, 23.0, 24.0, 28.0, 39.0, 3.0, 33.0, 44.0, 34.0, 18.0, 28.0, 19.0, 32.0, 28.0, 33.0, 42.0, 14.0, 24.0, 45.0, 28.0, 29.0, 4.0, 13.0, 34.0, 5.0, 52.0, 49.0, 29.0, 41.0, 50.0, 48.0, 0.75, 33.0, 23.0, 2.0, 63.0, 25.0, 35.0, 9.0, 54.0, 16.0, 33.0, 37.0, 26.0, 29.0, 36.0, 54.0, 34.0, 36.0, 30.0, 44.0, 50.0, 2.0, 24.0, 7.0, 30.0, 22.0, 36.0, 32.0, 19.0, 27.0, 8.0, 17.0, 22.0, 22.0, 48.0, 39.0, 36.0, 32.0, 62.0, 53.0, 36.0, 22.0, 34.0, 39.0, 32.0, 25.0, 39.0, 18.0, 60.0, 52.0, 31.0, 49.0, 24.0, 35.0, 27.0, 22.0, 40.0, 18.0, 24.0, 4.0, 42.0, 20.0, 21.0, 80.0, 32.0, 28.0, 24.0, 32.0, 0.75, 48.0, 56.0, 23.0, 18.0, 16.0, 50.0, 20.0, 48.0, 40.0, 31.0, 18.0, 36.0, 27.0, 15.0, 31.0, 4.0, 37.0, 19.0, 18.0, 35.0, 45.0, 42.0, 22.0, 4.0, 24.0, 48.0, 38.0, 27.0, 6.0, 27.0, 30.0, 28.0, 29.0, 35.0, 45.0, 21.0, 31.0, 30.0, 4.0, 6.0, 48.0, 0.67, 33.0, 20.0, 36.0, 51.0, 54.0, 5.0, 43.0, 13.0, 17.0, 18.0, 1.0, 49.0, 31.0, 31.0, 11.0, 0.42, 27.0, 33.0, 52.0, 27.0, 27.0, 1.0, 19.0, 62.0, 15.0, 0.83, 39.0, 32.0, 29.0, 30.0, 40.0, 16.0, 18.0, 45.0, 51.0, 24.0, 48.0, 42.0, 27.0, 4.0, 47.0, 28.0, 15.0, 56.0, 25.0, 19.0, 26.0], \"type\": \"scatter\", \"uid\": \"88522797-d688-47e5-9e83-bcbe999d2f2f\"}, {\"marker\": {\"line\": {\"width\": 2}, \"size\": [7.25, 8.05, 8.4583, 51.8625, 21.075, 8.05, 31.275, 7.8542, 29.125, 18.0, 26.0, 21.075, 7.225, 263.0, 7.8958, 27.7208, 10.5, 82.1708, 52.0, 8.05, 18.0, 9.475, 21.0, 8.05, 15.5, 21.6792, 17.8, 39.6875, 7.8, 61.9792, 7.2292, 46.9, 7.2292, 83.475, 27.9, 27.7208, 8.1583, 8.6625, 10.5, 46.9, 73.5, 14.4542, 7.65, 7.8958, 8.05, 9.0, 47.1, 34.375, 8.05, 8.05, 8.05, 7.8542, 61.175, 20.575, 7.25, 8.05, 34.6542, 26.0, 7.8958, 7.8958, 77.2875, 8.6542, 7.925, 7.8958, 7.8958, 52.0, 14.4542, 8.05, 9.825, 14.4583, 7.925, 7.75, 21.0, 247.5208, 31.275, 73.5, 8.05, 30.0708, 77.2875, 7.75, 6.975, 7.8958, 7.05, 14.5, 13.0, 15.0458, 53.1, 9.2167, 79.2, 15.2458, 6.75, 11.5, 36.75, 34.375, 26.0, 13.0, 12.525, 8.05, 14.5, 7.3125, 61.3792, 8.05, 8.6625, 69.55, 16.1, 7.775, 8.6625, 39.6875, 27.9, 25.925, 56.4958, 33.5, 29.125, 7.925, 30.6958, 7.8542, 25.4667, 28.7125, 13.0, 0.0, 69.55, 15.05, 31.3875, 50.0, 15.5, 7.8958, 13.0, 7.75, 8.4042, 13.0, 9.5, 69.55, 6.4958, 7.225, 10.4625, 15.85, 7.05, 7.25, 13.0, 7.75, 27.0, 10.5, 13.0, 8.05, 7.8958, 9.35, 7.25, 13.0, 25.4667, 7.775, 13.5, 10.5, 7.55, 26.0, 10.5, 12.275, 14.4542, 10.5, 7.125, 7.225, 90.0, 7.775, 26.0, 7.25, 10.4625, 26.55, 16.1, 20.2125, 79.65, 0.0, 7.75, 10.5, 39.6875, 31.0, 29.7, 7.75, 0.0, 29.125, 7.75, 7.8542, 9.5, 26.0, 8.6625, 7.8958, 12.875, 8.85, 7.8958, 27.7208, 7.2292, 151.55, 0.0, 8.05, 24.0, 26.0, 7.8958, 26.25, 14.0, 7.25, 7.8958, 69.55, 6.2375, 28.5, 153.4625, 18.0, 7.8958, 66.6, 35.5, 13.0, 13.0, 13.0, 8.6625, 9.225, 35.0, 7.2292, 17.8, 7.225, 9.5, 13.0, 27.9, 27.7208, 14.4542, 7.05, 15.5, 7.25, 6.4958, 8.05, 135.6333, 21.075, 211.5, 4.0125, 7.775, 7.925, 7.8958, 73.5, 46.9, 7.7292, 7.925, 7.7958, 7.8542, 26.0, 10.5, 8.05, 9.825, 15.85, 8.6625, 21.0, 7.75, 7.775, 25.4667, 7.8958, 6.8583, 0.0, 8.05, 13.0, 24.15, 7.7333, 7.875, 14.4, 20.2125, 7.25, 7.75, 7.125, 55.9, 34.375, 263.0, 10.5, 9.5, 7.775, 27.75, 19.9667, 27.75, 8.05, 26.55, 7.75, 8.05, 38.5, 13.0, 8.05, 7.05, 0.0, 26.55, 7.725, 7.25, 8.6625, 9.8375, 52.0, 21.0, 7.0458, 7.5208, 46.9, 0.0, 8.05, 25.4667, 29.7, 8.05, 19.9667, 7.25, 30.5, 49.5042, 8.05, 14.4583, 15.1, 151.55, 7.7958, 8.6625, 7.75, 7.6292, 9.5875, 108.9, 22.525, 8.05, 7.4958, 34.0208, 24.15, 7.8958, 7.8958, 7.225, 7.2292, 7.75, 221.7792, 7.925, 11.5, 7.2292, 7.2292, 8.6625, 26.55, 14.5, 31.275, 31.275, 106.425, 26.0, 20.525, 26.0, 7.8292, 26.55, 227.525, 7.75, 7.8958, 13.5, 8.05, 8.05, 24.15, 7.8958, 21.075, 7.2292, 8.05, 14.5, 14.4583, 26.0, 40.125, 8.7125, 15.0, 8.05, 8.05, 7.125, 7.25, 7.75, 26.0, 24.15, 0.0, 7.225, 7.8958, 42.4, 8.05, 15.55, 7.8958, 31.275, 7.05, 7.75, 8.05, 14.4, 16.1, 10.5, 14.4542, 7.8542, 16.1, 32.3208, 12.35, 7.8958, 7.7333, 7.0542, 0.0, 27.9, 7.925, 26.25, 39.6875, 16.1, 7.8542, 27.9, 7.8958, 7.55, 7.8958, 8.4333, 6.75, 73.5, 7.8958, 15.5, 13.0, 113.275, 7.225, 25.5875, 7.4958, 73.5, 13.0, 7.775, 8.05, 52.0, 10.5, 0.0, 7.775, 8.05, 46.9, 8.1375, 9.225, 46.9, 39.0, 41.5792, 39.6875, 10.1708, 7.7958, 7.225, 26.55, 13.5, 8.05, 110.8833, 7.65, 14.4542, 7.7417, 7.8542, 26.0, 26.55, 9.4833, 13.0, 7.65, 7.775, 7.0542, 13.0, 13.0, 8.6625, 26.0, 7.925, 18.7875, 0.0, 13.0, 13.0, 16.1, 34.375, 7.8958, 7.8958, 78.85, 16.1, 71.0, 20.25, 53.1, 7.75, 9.5, 7.8958, 7.7958, 11.5, 8.05, 14.5, 7.125, 7.775, 39.6, 7.75, 24.15, 8.3625, 9.5, 7.8542, 10.5, 7.225, 7.75, 7.75, 7.7375, 30.0, 23.45, 7.05, 7.25, 29.125, 79.2, 7.75, 26.0, 69.55, 30.6958, 7.8958, 13.0, 7.2292, 24.15, 13.0, 7.775, 0.0, 7.775, 13.0, 7.8875, 24.15, 10.5, 31.275, 8.05, 0.0, 7.925, 37.0042, 6.45, 27.9, 0.0, 39.6875, 6.95, 56.4958, 7.2292, 7.8542, 8.3, 8.6625, 8.05, 7.925, 10.5, 6.4375, 8.6625, 7.55, 69.55, 7.8958, 33.0, 31.275, 7.775, 15.2458, 26.0, 7.2292, 14.1083, 11.5, 69.55, 13.0, 50.4958, 9.5, 7.8958, 5.0, 9.0, 9.8458, 7.8958, 7.8958, 7.8958, 10.5167, 10.5, 7.05, 29.125, 13.0, 23.45, 7.75], \"sizemode\": \"area\", \"sizeref\": 0.10246584}, \"mode\": \"markers\", \"name\": \"Not Survival\", \"x\": [2, 1, 1, 1, 5, 1, 7, 1, 6, 2, 1, 5, 1, 6, 1, 1, 1, 2, 2, 1, 3, 2, 2, 1, 2, 3, 2, 6, 1, 2, 1, 8, 1, 2, 6, 1, 1, 3, 1, 8, 1, 2, 1, 1, 1, 1, 1, 5, 1, 1, 1, 1, 2, 4, 1, 1, 1, 2, 1, 1, 2, 1, 3, 1, 1, 1, 2, 1, 2, 1, 1, 1, 2, 2, 7, 3, 1, 2, 2, 1, 1, 1, 1, 2, 1, 1, 2, 1, 1, 3, 1, 1, 3, 5, 3, 1, 1, 1, 3, 1, 2, 1, 1, 11, 2, 1, 1, 6, 6, 1, 1, 1, 6, 1, 1, 3, 5, 1, 1, 1, 11, 1, 7, 1, 3, 1, 1, 1, 2, 1, 1, 11, 1, 1, 2, 2, 1, 1, 1, 2, 2, 1, 1, 1, 1, 1, 1, 1, 5, 1, 1, 1, 1, 2, 1, 1, 2, 1, 1, 1, 3, 1, 2, 1, 3, 1, 2, 3, 3, 1, 1, 1, 6, 1, 2, 1, 1, 6, 1, 1, 1, 1, 1, 1, 1, 1, 1, 1, 1, 4, 1, 1, 2, 3, 1, 3, 1, 1, 1, 11, 1, 1, 2, 3, 1, 2, 1, 1, 1, 1, 1, 1, 1, 3, 2, 1, 1, 1, 6, 2, 2, 1, 2, 1, 2, 1, 1, 5, 3, 1, 1, 1, 1, 1, 8, 1, 3, 1, 1, 1, 1, 1, 2, 2, 1, 2, 1, 1, 5, 1, 1, 1, 1, 1, 3, 1, 1, 3, 3, 1, 1, 1, 2, 5, 6, 1, 1, 2, 4, 2, 1, 1, 1, 1, 1, 1, 1, 1, 1, 1, 1, 1, 1, 1, 1, 1, 2, 2, 1, 8, 1, 1, 5, 1, 1, 2, 1, 1, 1, 1, 1, 1, 4, 1, 1, 1, 1, 1, 2, 1, 1, 1, 1, 1, 1, 1, 1, 1, 1, 1, 1, 4, 1, 3, 1, 1, 1, 7, 7, 2, 1, 3, 1, 1, 1, 1, 1, 1, 1, 1, 1, 3, 1, 5, 1, 1, 1, 2, 1, 1, 1, 1, 1, 1, 1, 1, 3, 2, 3, 1, 1, 1, 1, 1, 2, 1, 7, 1, 1, 1, 3, 2, 1, 2, 1, 1, 1, 1, 1, 1, 1, 1, 6, 1, 3, 6, 2, 1, 6, 1, 1, 1, 1, 1, 3, 1, 3, 1, 3, 1, 1, 1, 3, 1, 1, 1, 2, 1, 1, 1, 1, 8, 1, 1, 8, 3, 4, 6, 1, 1, 1, 1, 1, 1, 3, 1, 2, 1, 2, 1, 1, 1, 1, 1, 1, 2, 1, 1, 1, 2, 2, 1, 1, 1, 1, 1, 5, 1, 1, 2, 2, 3, 3, 2, 1, 1, 1, 1, 1, 1, 1, 1, 1, 1, 1, 2, 1, 1, 1, 1, 1, 1, 1, 1, 1, 4, 1, 1, 6, 1, 1, 1, 11, 1, 1, 1, 1, 3, 1, 1, 1, 1, 1, 1, 1, 1, 7, 1, 1, 1, 3, 1, 6, 1, 6, 1, 1, 1, 1, 1, 1, 1, 1, 1, 1, 1, 1, 11, 1, 2, 7, 1, 3, 2, 1, 3, 2, 11, 1, 1, 1, 1, 1, 1, 1, 1, 1, 1, 1, 1, 1, 6, 1, 4, 1], \"y\": [22.0, 35.0, 27.0, 54.0, 2.0, 20.0, 39.0, 14.0, 2.0, 31.0, 35.0, 8.0, 26.0, 19.0, 23.0, 40.0, 66.0, 28.0, 42.0, 21.0, 18.0, 40.0, 27.0, 30.0, 20.0, 16.0, 18.0, 7.0, 21.0, 65.0, 28.5, 11.0, 22.0, 45.0, 4.0, 64.0, 19.0, 26.0, 32.0, 16.0, 21.0, 26.0, 25.0, 23.0, 28.0, 22.0, 28.0, 16.0, 20.0, 24.0, 29.0, 20.0, 46.0, 26.0, 59.0, 22.0, 71.0, 34.0, 28.0, 29.0, 21.0, 33.0, 37.0, 28.0, 38.0, 47.0, 14.5, 22.0, 20.0, 17.0, 21.0, 70.5, 29.0, 24.0, 2.0, 21.0, 19.0, 32.5, 54.0, 19.0, 45.0, 33.0, 20.0, 47.0, 25.0, 23.0, 37.0, 16.0, 24.0, 40.0, 19.0, 18.0, 19.0, 9.0, 36.5, 42.0, 51.0, 55.5, 40.5, 27.0, 51.0, 30.0, 37.0, 5.0, 44.0, 26.0, 17.0, 1.0, 45.0, 60.0, 28.0, 61.0, 4.0, 21.0, 56.0, 18.0, 5.0, 50.0, 30.0, 36.0, 8.0, 39.0, 9.0, 39.0, 40.0, 36.0, 19.0, 28.0, 42.0, 24.0, 28.0, 17.0, 34.0, 45.5, 2.0, 32.0, 24.0, 22.0, 30.0, 22.0, 42.0, 30.0, 27.0, 51.0, 22.0, 22.0, 20.5, 18.0, 12.0, 29.0, 59.0, 24.0, 21.0, 44.0, 19.0, 33.0, 19.0, 29.0, 22.0, 30.0, 44.0, 25.0, 54.0, 18.0, 29.0, 62.0, 30.0, 41.0, 52.0, 40.0, 21.0, 36.0, 16.0, 28.0, 37.0, 45.0, 21.0, 7.0, 65.0, 28.0, 16.0, 57.0, 33.0, 22.0, 36.0, 24.0, 24.0, 30.0, 23.5, 2.0, 19.0, 28.0, 30.0, 26.0, 28.0, 43.0, 54.0, 22.0, 27.0, 20.0, 61.0, 45.5, 38.0, 16.0, 30.0, 29.0, 45.0, 28.0, 25.0, 36.0, 42.0, 23.0, 43.0, 15.0, 25.0, 23.0, 28.0, 38.0, 40.0, 29.0, 45.0, 35.0, 27.0, 30.0, 18.0, 19.0, 22.0, 3.0, 27.0, 20.0, 19.0, 32.0, 27.0, 18.0, 1.0, 19.0, 28.0, 22.0, 31.0, 46.0, 23.0, 26.0, 21.0, 28.0, 20.0, 34.0, 51.0, 21.0, 3.0, 42.0, 27.0, 22.0, 32.0, 30.0, 10.0, 21.0, 29.0, 28.0, 18.0, 54.0, 28.0, 17.0, 50.0, 21.0, 64.0, 31.0, 20.0, 25.0, 36.0, 28.0, 30.0, 24.0, 65.0, 17.0, 34.0, 47.0, 48.0, 34.0, 38.0, 21.0, 56.0, 22.0, 39.0, 38.0, 22.0, 40.0, 34.0, 29.0, 22.0, 9.0, 37.0, 50.0, 8.0, 58.0, 30.0, 19.0, 21.0, 55.0, 71.0, 21.0, 26.0, 55.0, 25.0, 24.0, 17.0, 21.0, 21.0, 37.0, 18.0, 28.0, 66.0, 24.0, 47.0, 30.0, 32.0, 22.0, 35.0, 18.0, 40.5, 49.0, 39.0, 23.0, 17.0, 17.0, 30.0, 45.0, 69.0, 9.0, 11.0, 50.0, 64.0, 33.0, 27.0, 21.0, 62.0, 45.0, 30.0, 40.0, 28.0, 40.0, 62.0, 24.0, 19.0, 29.0, 28.0, 16.0, 19.0, 18.0, 54.0, 36.0, 16.0, 47.0, 22.0, 22.0, 35.0, 47.0, 40.0, 37.0, 36.0, 49.0, 18.0, 42.0, 37.0, 44.0, 36.0, 30.0, 39.0, 21.0, 22.0, 35.0, 34.0, 26.0, 26.0, 27.0, 21.0, 21.0, 61.0, 57.0, 26.0, 18.0, 51.0, 30.0, 9.0, 32.0, 31.0, 41.0, 37.0, 20.0, 2.0, 19.0, 21.0, 23.0, 21.0, 18.0, 24.0, 27.0, 32.0, 23.0, 58.0, 40.0, 47.0, 36.0, 32.0, 25.0, 49.0, 43.0, 31.0, 70.0, 19.0, 18.0, 24.5, 43.0, 28.0, 20.0, 14.0, 60.0, 25.0, 14.0, 19.0, 18.0, 25.0, 60.0, 52.0, 44.0, 49.0, 42.0, 18.0, 25.0, 26.0, 39.0, 41.0, 29.0, 52.0, 19.0, 33.0, 17.0, 34.0, 50.0, 20.0, 25.0, 25.0, 11.0, 41.0, 23.0, 23.0, 28.5, 48.0, 20.0, 32.0, 36.0, 24.0, 70.0, 16.0, 19.0, 31.0, 33.0, 23.0, 28.0, 18.0, 34.0, 23.0, 41.0, 16.0, 46.0, 30.5, 28.0, 32.0, 24.0, 48.0, 57.0, 29.0, 18.0, 20.0, 22.0, 29.0, 35.0, 25.0, 25.0, 8.0, 46.0, 20.0, 16.0, 21.0, 43.0, 25.0, 39.0, 30.0, 30.0, 34.0, 31.0, 39.0, 18.0, 39.0, 26.0, 39.0, 35.0, 6.0, 30.5, 39.0, 23.0, 31.0, 43.0, 10.0, 38.0, 2.0, 36.0, 23.0, 30.0, 23.0, 18.0, 21.0, 20.0, 20.0, 16.0, 34.5, 17.0, 42.0, 18.0, 35.0, 28.0, 4.0, 74.0, 9.0, 44.0, 30.0, 41.0, 21.0, 14.0, 24.0, 31.0, 23.0, 26.0, 33.0, 47.0, 20.0, 19.0, 23.0, 33.0, 22.0, 28.0, 25.0, 39.0, 27.0, 7.0, 32.0], \"type\": \"scatter\", \"uid\": \"e9963168-b759-41fc-9fa6-22f59b1d9e0d\"}], {\"paper_bgcolor\": \"rgb(243, 243, 243)\", \"plot_bgcolor\": \"rgb(243, 243, 243)\", \"title\": \"Survived v. Non Survived Bubble Chart\", \"xaxis\": {\"gridcolor\": \"rgb(255, 255, 255)\", \"gridwidth\": 1, \"ticklen\": 5, \"title\": \"FamilySize\", \"zerolinewidth\": 1}, \"yaxis\": {\"gridcolor\": \"rgb(255, 255, 255)\", \"gridwidth\": 2, \"ticklen\": 5, \"title\": \"Age\", \"zerolinewidth\": 1}}, {\"showLink\": true, \"linkText\": \"Export to plot.ly\", \"plotlyServerURL\": \"https://plot.ly\"})});</script><script type=\"text/javascript\">window.addEventListener(\"resize\", function(){window._Plotly.Plots.resize(document.getElementById(\"c3acdc55-43b0-497d-9f4e-017b355fbaeb\"));});</script>"
      ]
     },
     "metadata": {},
     "output_type": "display_data"
    }
   ],
   "source": [
    "sizeref = 2.*max(titanic_df['Fare'])/(100**2)\n",
    "\n",
    "# Survived\n",
    "trace0 = go.Scatter(\n",
    "    x=titanic_df['FamilySize'][titanic_df['Survived'] == 1],\n",
    "    y=titanic_df['Age'][titanic_df['Survived'] == 1],\n",
    "    mode='markers',\n",
    "    name='Survival',\n",
    "    marker=dict(\n",
    "        symbol='circle',\n",
    "        sizemode='area',\n",
    "        sizeref=sizeref,\n",
    "        size=titanic_df['Fare'][titanic_df['Survived'] == 1],\n",
    "        line=dict(\n",
    "            width=2\n",
    "        ),\n",
    "    )\n",
    ")\n",
    "# Non Survived\n",
    "trace1 = go.Scatter(\n",
    "    x=titanic_df['FamilySize'][titanic_df['Survived'] == 0],\n",
    "    y=titanic_df['Age'][titanic_df['Survived'] == 0],\n",
    "    mode='markers',\n",
    "    name='Not Survival',\n",
    "    marker=dict(\n",
    "        sizemode='area',\n",
    "        sizeref=sizeref,\n",
    "        size=titanic_df['Fare'][titanic_df['Survived'] == 0],\n",
    "        line=dict(\n",
    "            width=2\n",
    "        ),\n",
    "    )\n",
    ")\n",
    "\n",
    "# define data\n",
    "data = [trace0, trace1]\n",
    "# define layout\n",
    "layout = go.Layout(\n",
    "    title='Survived v. Non Survived Bubble Chart',\n",
    "    xaxis=dict(\n",
    "        title='FamilySize',\n",
    "        gridcolor='rgb(255, 255, 255)',\n",
    "        zerolinewidth=1,\n",
    "        ticklen=5,\n",
    "        gridwidth=1,\n",
    "    ),\n",
    "    yaxis=dict(\n",
    "        title='Age',\n",
    "        gridcolor='rgb(255, 255, 255)',\n",
    "        zerolinewidth=1,\n",
    "        ticklen=5,\n",
    "        gridwidth=2,\n",
    "    ),\n",
    "    paper_bgcolor='rgb(243, 243, 243)',\n",
    "    plot_bgcolor='rgb(243, 243, 243)',\n",
    ")\n",
    "\n",
    "# define figure\n",
    "fig = go.Figure(data=data, layout=layout)\n",
    "iplot(fig, filename='Survival v. Non Survival Bubble Chart')"
   ]
  },
  {
   "cell_type": "markdown",
   "metadata": {
    "toc-hr-collapsed": false
   },
   "source": [
    "# Machine Learning (using Sklearn)"
   ]
  },
  {
   "cell_type": "markdown",
   "metadata": {},
   "source": [
    "Sklearn is a Python library for machine learning. It features various classification, regression and clustering algorithms"
   ]
  },
  {
   "cell_type": "code",
   "execution_count": 67,
   "metadata": {},
   "outputs": [],
   "source": [
    "import sklearn"
   ]
  },
  {
   "cell_type": "markdown",
   "metadata": {},
   "source": [
    "## Split Data For Machine Learning"
   ]
  },
  {
   "cell_type": "markdown",
   "metadata": {},
   "source": [
    "Split data set into train and test"
   ]
  },
  {
   "cell_type": "code",
   "execution_count": 70,
   "metadata": {},
   "outputs": [],
   "source": [
    "from sklearn.model_selection import train_test_split\n",
    "X = titanic_df.drop(['Survived'], axis=1)\n",
    "y = titanic_df['Survived']\n",
    "\n",
    "X_train, X_test, y_train, y_test = train_test_split(X, y, test_size=0.33, random_state=42, shuffle=True)"
   ]
  },
  {
   "cell_type": "markdown",
   "metadata": {},
   "source": [
    "## Feature Selection"
   ]
  },
  {
   "cell_type": "markdown",
   "metadata": {},
   "source": [
    "Feature selection can help reduce the space to store the data, save time to train/score model, and improve model performance\n",
    "<br>\n",
    "Sklearn has many ways for feature selection, such as [Variance Threshold](https://scikit-learn.org/stable/modules/generated/sklearn.feature_selection.VarianceThreshold.html#sklearn.feature_selection.VarianceThreshold), [Select KBest](https://scikit-learn.org/stable/modules/generated/sklearn.feature_selection.SelectKBest.html#sklearn.feature_selection.SelectKBest), [Recursive Feature Elimination](https://scikit-learn.org/stable/modules/generated/sklearn.feature_selection.RFE.html#sklearn.feature_selection.RFE), \n",
    "[Forward Feature Selection](https://scikit-learn.org/stable/modules/generated/sklearn.feature_selection.f_regression.html),\n",
    "[SelectFromModel](https://scikit-learn.org/stable/modules/generated/sklearn.feature_selection.SelectFromModel.html), etc \n",
    "<br>\n",
    "Here we use feature selection from [Lasso Regression](https://scikit-learn.org/stable/modules/linear_model.html#lasso) as an example"
   ]
  },
  {
   "cell_type": "code",
   "execution_count": 71,
   "metadata": {},
   "outputs": [
    {
     "name": "stdout",
     "output_type": "stream",
     "text": [
      "there are 14 features before feature selection\n",
      "there are 8 features after feature selection\n",
      "the selected feature are: Index(['Pclass', 'Sex', 'Age', 'SibSp', 'Fare', 'FamilySize', 'Mr', 'Mrs'], dtype='object')\n"
     ]
    }
   ],
   "source": [
    "from sklearn.feature_selection import SelectFromModel\n",
    "from sklearn.linear_model import LassoCV\n",
    "\n",
    "# use the base estimator LassoCV (default: 3 folders)\n",
    "lasso_model = LassoCV(random_state=0)\n",
    "sfm = SelectFromModel(lasso_model)\n",
    "sfm.fit(X_train, y_train)\n",
    "\n",
    "# selected feature names\n",
    "feature_selected = X_train.columns[sfm.get_support()]\n",
    "\n",
    "# Reduced DataFrame\n",
    "X_train_selected = pd.DataFrame(sfm.transform(X_train), columns=feature_selected)\n",
    "X_test_selected = pd.DataFrame(sfm.transform(X_test), columns=feature_selected)\n",
    "\n",
    "print(f\"there are {X_train.shape[1]} features before feature selection\")\n",
    "print(f\"there are {X_train_selected.shape[1]} features after feature selection\")\n",
    "print(f\"the selected feature are: {feature_selected}\")"
   ]
  },
  {
   "cell_type": "markdown",
   "metadata": {},
   "source": [
    "## Decision Tree"
   ]
  },
  {
   "cell_type": "markdown",
   "metadata": {},
   "source": [
    "Decision tree is a decision support tool that uses a tree-like model of decisions and their possible consequences"
   ]
  },
  {
   "cell_type": "code",
   "execution_count": 72,
   "metadata": {},
   "outputs": [
    {
     "data": {
      "text/plain": [
       "DecisionTreeClassifier(class_weight=None, criterion='gini', max_depth=3,\n",
       "            max_features=None, max_leaf_nodes=None,\n",
       "            min_impurity_decrease=0.0, min_impurity_split=None,\n",
       "            min_samples_leaf=0.02, min_samples_split=2,\n",
       "            min_weight_fraction_leaf=0.0, presort=False, random_state=0,\n",
       "            splitter='best')"
      ]
     },
     "execution_count": 72,
     "metadata": {},
     "output_type": "execute_result"
    }
   ],
   "source": [
    "from sklearn.tree import DecisionTreeClassifier\n",
    "from sklearn.metrics import roc_auc_score\n",
    "from sklearn.model_selection import cross_val_score\n",
    "\n",
    "# train model\n",
    "dtc = DecisionTreeClassifier(max_depth=3, min_samples_split=2, random_state=0, min_samples_leaf= 0.02)\n",
    "dtc.fit(X_train_selected, y_train)"
   ]
  },
  {
   "cell_type": "markdown",
   "metadata": {},
   "source": [
    "Model evaluation"
   ]
  },
  {
   "cell_type": "code",
   "execution_count": 74,
   "metadata": {},
   "outputs": [
    {
     "name": "stdout",
     "output_type": "stream",
     "text": [
      "cross validation AUC mean: 0.858\n",
      "test data AUC: 0.838\n"
     ]
    },
    {
     "name": "stderr",
     "output_type": "stream",
     "text": [
      "[Parallel(n_jobs=1)]: Done   3 out of   3 | elapsed:    0.0s finished\n"
     ]
    }
   ],
   "source": [
    "# cross validation performance\n",
    "scores = cross_val_score(dtc, X_train_selected, y_train, cv=3, scoring=\"roc_auc\", verbose=True)\n",
    "print(f\"cross validation AUC mean: {scores.mean():.3f}\")  \n",
    "\n",
    "# test data performance\n",
    "y_test_prob = dtc.predict_proba(X_test_selected)[:,1]\n",
    "print(f\"test data AUC: {roc_auc_score(y_test, y_test_prob):.3f}\")"
   ]
  },
  {
   "cell_type": "markdown",
   "metadata": {},
   "source": [
    "In order to visulize decision tree model, we need to install the following package:\n",
    "<br>\n",
    "*conda install python-graphviz*"
   ]
  },
  {
   "cell_type": "code",
   "execution_count": 75,
   "metadata": {},
   "outputs": [
    {
     "data": {
      "image/svg+xml": [
       "<svg height=\"373pt\" viewBox=\"0.00 0.00 942.00 373.00\" width=\"942pt\" xmlns=\"http://www.w3.org/2000/svg\" xmlns:xlink=\"http://www.w3.org/1999/xlink\">\n",
       "<g class=\"graph\" id=\"graph0\" transform=\"scale(1 1) rotate(0) translate(4 369)\">\n",
       "<title>Tree</title>\n",
       "<polygon fill=\"white\" points=\"-4,4 -4,-369 938,-369 938,4 -4,4\" stroke=\"none\"/>\n",
       "<!-- 0 -->\n",
       "<g class=\"node\" id=\"node1\"><title>0</title>\n",
       "<path d=\"M527.5,-365C527.5,-365 397.5,-365 397.5,-365 391.5,-365 385.5,-359 385.5,-353 385.5,-353 385.5,-309 385.5,-309 385.5,-303 391.5,-297 397.5,-297 397.5,-297 527.5,-297 527.5,-297 533.5,-297 539.5,-303 539.5,-309 539.5,-309 539.5,-353 539.5,-353 539.5,-359 533.5,-365 527.5,-365\" fill=\"#e58139\" fill-opacity=\"0.376471\" stroke=\"black\"/>\n",
       "<text font-family=\"Helvetica,sans-Serif\" font-size=\"14.00\" text-anchor=\"start\" x=\"432\" y=\"-349.8\">Sex ≤ 0.5</text>\n",
       "<text font-family=\"Helvetica,sans-Serif\" font-size=\"14.00\" text-anchor=\"start\" x=\"402.5\" y=\"-334.8\">samples = 100.0%</text>\n",
       "<text font-family=\"Helvetica,sans-Serif\" font-size=\"14.00\" text-anchor=\"start\" x=\"393.5\" y=\"-319.8\">value = [0.616, 0.384]</text>\n",
       "<text font-family=\"Helvetica,sans-Serif\" font-size=\"14.00\" text-anchor=\"start\" x=\"401\" y=\"-304.8\">class = Not Survied</text>\n",
       "</g>\n",
       "<!-- 1 -->\n",
       "<g class=\"node\" id=\"node2\"><title>1</title>\n",
       "<path d=\"M419,-261C419,-261 338,-261 338,-261 332,-261 326,-255 326,-249 326,-249 326,-205 326,-205 326,-199 332,-193 338,-193 338,-193 419,-193 419,-193 425,-193 431,-199 431,-205 431,-205 431,-249 431,-249 431,-255 425,-261 419,-261\" fill=\"#399de5\" fill-opacity=\"0.670588\" stroke=\"black\"/>\n",
       "<text font-family=\"Helvetica,sans-Serif\" font-size=\"14.00\" text-anchor=\"start\" x=\"339\" y=\"-245.8\">Pclass ≤ 2.5</text>\n",
       "<text font-family=\"Helvetica,sans-Serif\" font-size=\"14.00\" text-anchor=\"start\" x=\"357.5\" y=\"-230.8\">37.4%</text>\n",
       "<text font-family=\"Helvetica,sans-Serif\" font-size=\"14.00\" text-anchor=\"start\" x=\"334\" y=\"-215.8\">[0.248, 0.752]</text>\n",
       "<text font-family=\"Helvetica,sans-Serif\" font-size=\"14.00\" text-anchor=\"start\" x=\"354\" y=\"-200.8\">Survied</text>\n",
       "</g>\n",
       "<!-- 0&#45;&gt;1 -->\n",
       "<g class=\"edge\" id=\"edge1\"><title>0-&gt;1</title>\n",
       "<path d=\"M435.228,-296.884C427.965,-288.065 420.031,-278.43 412.458,-269.235\" fill=\"none\" stroke=\"black\"/>\n",
       "<polygon fill=\"black\" points=\"414.982,-266.794 405.923,-261.299 409.578,-271.244 414.982,-266.794\" stroke=\"black\"/>\n",
       "<text font-family=\"Helvetica,sans-Serif\" font-size=\"14.00\" text-anchor=\"middle\" x=\"403.515\" y=\"-282.483\">True</text>\n",
       "</g>\n",
       "<!-- 8 -->\n",
       "<g class=\"node\" id=\"node9\"><title>8</title>\n",
       "<path d=\"M588,-261C588,-261 507,-261 507,-261 501,-261 495,-255 495,-249 495,-249 495,-205 495,-205 495,-199 501,-193 507,-193 507,-193 588,-193 588,-193 594,-193 600,-199 600,-205 600,-205 600,-249 600,-249 600,-255 594,-261 588,-261\" fill=\"#e58139\" fill-opacity=\"0.803922\" stroke=\"black\"/>\n",
       "<text font-family=\"Helvetica,sans-Serif\" font-size=\"14.00\" text-anchor=\"start\" x=\"521.5\" y=\"-245.8\">Mr ≤ 0.5</text>\n",
       "<text font-family=\"Helvetica,sans-Serif\" font-size=\"14.00\" text-anchor=\"start\" x=\"526.5\" y=\"-230.8\">62.6%</text>\n",
       "<text font-family=\"Helvetica,sans-Serif\" font-size=\"14.00\" text-anchor=\"start\" x=\"503\" y=\"-215.8\">[0.836, 0.164]</text>\n",
       "<text font-family=\"Helvetica,sans-Serif\" font-size=\"14.00\" text-anchor=\"start\" x=\"510.5\" y=\"-200.8\">Not Survied</text>\n",
       "</g>\n",
       "<!-- 0&#45;&gt;8 -->\n",
       "<g class=\"edge\" id=\"edge8\"><title>0-&gt;8</title>\n",
       "<path d=\"M490.097,-296.884C497.446,-288.065 505.475,-278.43 513.137,-269.235\" fill=\"none\" stroke=\"black\"/>\n",
       "<polygon fill=\"black\" points=\"516.037,-271.222 519.751,-261.299 510.66,-266.741 516.037,-271.222\" stroke=\"black\"/>\n",
       "<text font-family=\"Helvetica,sans-Serif\" font-size=\"14.00\" text-anchor=\"middle\" x=\"522.014\" y=\"-282.497\">False</text>\n",
       "</g>\n",
       "<!-- 2 -->\n",
       "<g class=\"node\" id=\"node3\"><title>2</title>\n",
       "<path d=\"M216,-157C216,-157 135,-157 135,-157 129,-157 123,-151 123,-145 123,-145 123,-101 123,-101 123,-95 129,-89 135,-89 135,-89 216,-89 216,-89 222,-89 228,-95 228,-101 228,-101 228,-145 228,-145 228,-151 222,-157 216,-157\" fill=\"#399de5\" fill-opacity=\"0.968627\" stroke=\"black\"/>\n",
       "<text font-family=\"Helvetica,sans-Serif\" font-size=\"14.00\" text-anchor=\"start\" x=\"140.5\" y=\"-141.8\">Age ≤ 27.5</text>\n",
       "<text font-family=\"Helvetica,sans-Serif\" font-size=\"14.00\" text-anchor=\"start\" x=\"154.5\" y=\"-126.8\">21.0%</text>\n",
       "<text font-family=\"Helvetica,sans-Serif\" font-size=\"14.00\" text-anchor=\"start\" x=\"131\" y=\"-111.8\">[0.032, 0.968]</text>\n",
       "<text font-family=\"Helvetica,sans-Serif\" font-size=\"14.00\" text-anchor=\"start\" x=\"151\" y=\"-96.8\">Survied</text>\n",
       "</g>\n",
       "<!-- 1&#45;&gt;2 -->\n",
       "<g class=\"edge\" id=\"edge2\"><title>1-&gt;2</title>\n",
       "<path d=\"M325.958,-199.6C298.821,-185.964 265.544,-169.244 237.192,-154.998\" fill=\"none\" stroke=\"black\"/>\n",
       "<polygon fill=\"black\" points=\"238.681,-151.829 228.174,-150.467 235.538,-158.084 238.681,-151.829\" stroke=\"black\"/>\n",
       "</g>\n",
       "<!-- 5 -->\n",
       "<g class=\"node\" id=\"node6\"><title>5</title>\n",
       "<path d=\"M427,-157C427,-157 330,-157 330,-157 324,-157 318,-151 318,-145 318,-145 318,-101 318,-101 318,-95 324,-89 330,-89 330,-89 427,-89 427,-89 433,-89 439,-95 439,-101 439,-101 439,-145 439,-145 439,-151 433,-157 427,-157\" fill=\"#e58139\" fill-opacity=\"0.098039\" stroke=\"black\"/>\n",
       "<text font-family=\"Helvetica,sans-Serif\" font-size=\"14.00\" text-anchor=\"start\" x=\"326\" y=\"-141.8\">FamilySize ≤ 4.5</text>\n",
       "<text font-family=\"Helvetica,sans-Serif\" font-size=\"14.00\" text-anchor=\"start\" x=\"357.5\" y=\"-126.8\">16.3%</text>\n",
       "<text font-family=\"Helvetica,sans-Serif\" font-size=\"14.00\" text-anchor=\"start\" x=\"334\" y=\"-111.8\">[0.526, 0.474]</text>\n",
       "<text font-family=\"Helvetica,sans-Serif\" font-size=\"14.00\" text-anchor=\"start\" x=\"341.5\" y=\"-96.8\">Not Survied</text>\n",
       "</g>\n",
       "<!-- 1&#45;&gt;5 -->\n",
       "<g class=\"edge\" id=\"edge5\"><title>1-&gt;5</title>\n",
       "<path d=\"M378.5,-192.884C378.5,-184.778 378.5,-175.982 378.5,-167.472\" fill=\"none\" stroke=\"black\"/>\n",
       "<polygon fill=\"black\" points=\"382,-167.299 378.5,-157.299 375,-167.299 382,-167.299\" stroke=\"black\"/>\n",
       "</g>\n",
       "<!-- 3 -->\n",
       "<g class=\"node\" id=\"node4\"><title>3</title>\n",
       "<path d=\"M93,-53C93,-53 12,-53 12,-53 6,-53 0,-47 0,-41 0,-41 0,-12 0,-12 0,-6 6,-0 12,-0 12,-0 93,-0 93,-0 99,-0 105,-6 105,-12 105,-12 105,-41 105,-41 105,-47 99,-53 93,-53\" fill=\"#399de5\" fill-opacity=\"0.929412\" stroke=\"black\"/>\n",
       "<text font-family=\"Helvetica,sans-Serif\" font-size=\"14.00\" text-anchor=\"start\" x=\"35.5\" y=\"-37.8\">7.7%</text>\n",
       "<text font-family=\"Helvetica,sans-Serif\" font-size=\"14.00\" text-anchor=\"start\" x=\"8\" y=\"-22.8\">[0.065, 0.935]</text>\n",
       "<text font-family=\"Helvetica,sans-Serif\" font-size=\"14.00\" text-anchor=\"start\" x=\"28\" y=\"-7.8\">Survied</text>\n",
       "</g>\n",
       "<!-- 2&#45;&gt;3 -->\n",
       "<g class=\"edge\" id=\"edge3\"><title>2-&gt;3</title>\n",
       "<path d=\"M132.481,-88.9485C119.978,-79.3431 106.353,-68.8747 93.949,-59.345\" fill=\"none\" stroke=\"black\"/>\n",
       "<polygon fill=\"black\" points=\"96.0608,-56.5537 85.9986,-53.2367 91.7961,-62.1046 96.0608,-56.5537\" stroke=\"black\"/>\n",
       "</g>\n",
       "<!-- 4 -->\n",
       "<g class=\"node\" id=\"node5\"><title>4</title>\n",
       "<path d=\"M216,-53C216,-53 135,-53 135,-53 129,-53 123,-47 123,-41 123,-41 123,-12 123,-12 123,-6 129,-0 135,-0 135,-0 216,-0 216,-0 222,-0 228,-6 228,-12 228,-12 228,-41 228,-41 228,-47 222,-53 216,-53\" fill=\"#399de5\" fill-opacity=\"0.988235\" stroke=\"black\"/>\n",
       "<text font-family=\"Helvetica,sans-Serif\" font-size=\"14.00\" text-anchor=\"start\" x=\"154.5\" y=\"-37.8\">13.3%</text>\n",
       "<text font-family=\"Helvetica,sans-Serif\" font-size=\"14.00\" text-anchor=\"start\" x=\"131\" y=\"-22.8\">[0.013, 0.987]</text>\n",
       "<text font-family=\"Helvetica,sans-Serif\" font-size=\"14.00\" text-anchor=\"start\" x=\"151\" y=\"-7.8\">Survied</text>\n",
       "</g>\n",
       "<!-- 2&#45;&gt;4 -->\n",
       "<g class=\"edge\" id=\"edge4\"><title>2-&gt;4</title>\n",
       "<path d=\"M175.5,-88.9485C175.5,-80.7153 175.5,-71.848 175.5,-63.4814\" fill=\"none\" stroke=\"black\"/>\n",
       "<polygon fill=\"black\" points=\"179,-63.2367 175.5,-53.2367 172,-63.2367 179,-63.2367\" stroke=\"black\"/>\n",
       "</g>\n",
       "<!-- 6 -->\n",
       "<g class=\"node\" id=\"node7\"><title>6</title>\n",
       "<path d=\"M323,-53C323,-53 258,-53 258,-53 252,-53 246,-47 246,-41 246,-41 246,-12 246,-12 246,-6 252,-0 258,-0 258,-0 323,-0 323,-0 329,-0 335,-6 335,-12 335,-12 335,-41 335,-41 335,-47 329,-53 323,-53\" fill=\"#399de5\" fill-opacity=\"0.243137\" stroke=\"black\"/>\n",
       "<text font-family=\"Helvetica,sans-Serif\" font-size=\"14.00\" text-anchor=\"start\" x=\"269.5\" y=\"-37.8\">13.3%</text>\n",
       "<text font-family=\"Helvetica,sans-Serif\" font-size=\"14.00\" text-anchor=\"start\" x=\"254\" y=\"-22.8\">[0.43, 0.57]</text>\n",
       "<text font-family=\"Helvetica,sans-Serif\" font-size=\"14.00\" text-anchor=\"start\" x=\"266\" y=\"-7.8\">Survied</text>\n",
       "</g>\n",
       "<!-- 5&#45;&gt;6 -->\n",
       "<g class=\"edge\" id=\"edge6\"><title>5-&gt;6</title>\n",
       "<path d=\"M347.722,-88.9485C339.203,-79.8005 329.955,-69.8697 321.428,-60.7126\" fill=\"none\" stroke=\"black\"/>\n",
       "<polygon fill=\"black\" points=\"323.843,-58.1698 314.466,-53.2367 318.72,-62.9402 323.843,-58.1698\" stroke=\"black\"/>\n",
       "</g>\n",
       "<!-- 7 -->\n",
       "<g class=\"node\" id=\"node8\"><title>7</title>\n",
       "<path d=\"M446,-53C446,-53 365,-53 365,-53 359,-53 353,-47 353,-41 353,-41 353,-12 353,-12 353,-6 359,-0 365,-0 365,-0 446,-0 446,-0 452,-0 458,-6 458,-12 458,-12 458,-41 458,-41 458,-47 452,-53 446,-53\" fill=\"#e58139\" fill-opacity=\"0.941176\" stroke=\"black\"/>\n",
       "<text font-family=\"Helvetica,sans-Serif\" font-size=\"14.00\" text-anchor=\"start\" x=\"388.5\" y=\"-37.8\">3.0%</text>\n",
       "<text font-family=\"Helvetica,sans-Serif\" font-size=\"14.00\" text-anchor=\"start\" x=\"361\" y=\"-22.8\">[0.944, 0.056]</text>\n",
       "<text font-family=\"Helvetica,sans-Serif\" font-size=\"14.00\" text-anchor=\"start\" x=\"368.5\" y=\"-7.8\">Not Survied</text>\n",
       "</g>\n",
       "<!-- 5&#45;&gt;7 -->\n",
       "<g class=\"edge\" id=\"edge7\"><title>5-&gt;7</title>\n",
       "<path d=\"M387.943,-88.9485C390.348,-80.5323 392.942,-71.4536 395.379,-62.9243\" fill=\"none\" stroke=\"black\"/>\n",
       "<polygon fill=\"black\" points=\"398.765,-63.8135 398.147,-53.2367 392.034,-61.8904 398.765,-63.8135\" stroke=\"black\"/>\n",
       "</g>\n",
       "<!-- 9 -->\n",
       "<g class=\"node\" id=\"node10\"><title>9</title>\n",
       "<path d=\"M581,-157C581,-157 514,-157 514,-157 508,-157 502,-151 502,-145 502,-145 502,-101 502,-101 502,-95 508,-89 514,-89 514,-89 581,-89 581,-89 587,-89 593,-95 593,-101 593,-101 593,-145 593,-145 593,-151 587,-157 581,-157\" fill=\"#e58139\" fill-opacity=\"0.215686\" stroke=\"black\"/>\n",
       "<text font-family=\"Helvetica,sans-Serif\" font-size=\"14.00\" text-anchor=\"start\" x=\"510\" y=\"-141.8\">SibSp ≤ 1.5</text>\n",
       "<text font-family=\"Helvetica,sans-Serif\" font-size=\"14.00\" text-anchor=\"start\" x=\"530.5\" y=\"-126.8\">4.2%</text>\n",
       "<text font-family=\"Helvetica,sans-Serif\" font-size=\"14.00\" text-anchor=\"start\" x=\"511\" y=\"-111.8\">[0.56, 0.44]</text>\n",
       "<text font-family=\"Helvetica,sans-Serif\" font-size=\"14.00\" text-anchor=\"start\" x=\"510.5\" y=\"-96.8\">Not Survied</text>\n",
       "</g>\n",
       "<!-- 8&#45;&gt;9 -->\n",
       "<g class=\"edge\" id=\"edge9\"><title>8-&gt;9</title>\n",
       "<path d=\"M547.5,-192.884C547.5,-184.778 547.5,-175.982 547.5,-167.472\" fill=\"none\" stroke=\"black\"/>\n",
       "<polygon fill=\"black\" points=\"551,-167.299 547.5,-157.299 544,-167.299 551,-167.299\" stroke=\"black\"/>\n",
       "</g>\n",
       "<!-- 12 -->\n",
       "<g class=\"node\" id=\"node13\"><title>12</title>\n",
       "<path d=\"M799,-157C799,-157 718,-157 718,-157 712,-157 706,-151 706,-145 706,-145 706,-101 706,-101 706,-95 712,-89 718,-89 718,-89 799,-89 799,-89 805,-89 811,-95 811,-101 811,-101 811,-145 811,-145 811,-151 805,-157 799,-157\" fill=\"#e58139\" fill-opacity=\"0.831373\" stroke=\"black\"/>\n",
       "<text font-family=\"Helvetica,sans-Serif\" font-size=\"14.00\" text-anchor=\"start\" x=\"719\" y=\"-141.8\">Pclass ≤ 1.5</text>\n",
       "<text font-family=\"Helvetica,sans-Serif\" font-size=\"14.00\" text-anchor=\"start\" x=\"737.5\" y=\"-126.8\">58.4%</text>\n",
       "<text font-family=\"Helvetica,sans-Serif\" font-size=\"14.00\" text-anchor=\"start\" x=\"714\" y=\"-111.8\">[0.856, 0.144]</text>\n",
       "<text font-family=\"Helvetica,sans-Serif\" font-size=\"14.00\" text-anchor=\"start\" x=\"721.5\" y=\"-96.8\">Not Survied</text>\n",
       "</g>\n",
       "<!-- 8&#45;&gt;12 -->\n",
       "<g class=\"edge\" id=\"edge12\"><title>8-&gt;12</title>\n",
       "<path d=\"M600.2,-200.524C629.404,-186.407 665.88,-168.774 696.456,-153.993\" fill=\"none\" stroke=\"black\"/>\n",
       "<polygon fill=\"black\" points=\"698.261,-157.008 705.741,-149.505 695.214,-150.706 698.261,-157.008\" stroke=\"black\"/>\n",
       "</g>\n",
       "<!-- 10 -->\n",
       "<g class=\"node\" id=\"node11\"><title>10</title>\n",
       "<path d=\"M553,-53C553,-53 488,-53 488,-53 482,-53 476,-47 476,-41 476,-41 476,-12 476,-12 476,-6 482,-0 488,-0 488,-0 553,-0 553,-0 559,-0 565,-6 565,-12 565,-12 565,-41 565,-41 565,-47 559,-53 553,-53\" fill=\"#399de5\" fill-opacity=\"0.666667\" stroke=\"black\"/>\n",
       "<text font-family=\"Helvetica,sans-Serif\" font-size=\"14.00\" text-anchor=\"start\" x=\"503.5\" y=\"-37.8\">2.0%</text>\n",
       "<text font-family=\"Helvetica,sans-Serif\" font-size=\"14.00\" text-anchor=\"start\" x=\"484\" y=\"-22.8\">[0.25, 0.75]</text>\n",
       "<text font-family=\"Helvetica,sans-Serif\" font-size=\"14.00\" text-anchor=\"start\" x=\"496\" y=\"-7.8\">Survied</text>\n",
       "</g>\n",
       "<!-- 9&#45;&gt;10 -->\n",
       "<g class=\"edge\" id=\"edge10\"><title>9-&gt;10</title>\n",
       "<path d=\"M538.057,-88.9485C535.652,-80.5323 533.058,-71.4536 530.621,-62.9243\" fill=\"none\" stroke=\"black\"/>\n",
       "<polygon fill=\"black\" points=\"533.966,-61.8904 527.853,-53.2367 527.235,-63.8135 533.966,-61.8904\" stroke=\"black\"/>\n",
       "</g>\n",
       "<!-- 11 -->\n",
       "<g class=\"node\" id=\"node12\"><title>11</title>\n",
       "<path d=\"M676,-53C676,-53 595,-53 595,-53 589,-53 583,-47 583,-41 583,-41 583,-12 583,-12 583,-6 589,-0 595,-0 595,-0 676,-0 676,-0 682,-0 688,-6 688,-12 688,-12 688,-41 688,-41 688,-47 682,-53 676,-53\" fill=\"#e58139\" fill-opacity=\"0.819608\" stroke=\"black\"/>\n",
       "<text font-family=\"Helvetica,sans-Serif\" font-size=\"14.00\" text-anchor=\"start\" x=\"618.5\" y=\"-37.8\">2.2%</text>\n",
       "<text font-family=\"Helvetica,sans-Serif\" font-size=\"14.00\" text-anchor=\"start\" x=\"591\" y=\"-22.8\">[0.846, 0.154]</text>\n",
       "<text font-family=\"Helvetica,sans-Serif\" font-size=\"14.00\" text-anchor=\"start\" x=\"598.5\" y=\"-7.8\">Not Survied</text>\n",
       "</g>\n",
       "<!-- 9&#45;&gt;11 -->\n",
       "<g class=\"edge\" id=\"edge11\"><title>9-&gt;11</title>\n",
       "<path d=\"M578.278,-88.9485C586.797,-79.8005 596.045,-69.8697 604.572,-60.7126\" fill=\"none\" stroke=\"black\"/>\n",
       "<polygon fill=\"black\" points=\"607.28,-62.9402 611.534,-53.2367 602.157,-58.1698 607.28,-62.9402\" stroke=\"black\"/>\n",
       "</g>\n",
       "<!-- 13 -->\n",
       "<g class=\"node\" id=\"node14\"><title>13</title>\n",
       "<path d=\"M799,-53C799,-53 718,-53 718,-53 712,-53 706,-47 706,-41 706,-41 706,-12 706,-12 706,-6 712,-0 718,-0 718,-0 799,-0 799,-0 805,-0 811,-6 811,-12 811,-12 811,-41 811,-41 811,-47 805,-53 799,-53\" fill=\"#e58139\" fill-opacity=\"0.627451\" stroke=\"black\"/>\n",
       "<text font-family=\"Helvetica,sans-Serif\" font-size=\"14.00\" text-anchor=\"start\" x=\"737.5\" y=\"-37.8\">11.8%</text>\n",
       "<text font-family=\"Helvetica,sans-Serif\" font-size=\"14.00\" text-anchor=\"start\" x=\"714\" y=\"-22.8\">[0.729, 0.271]</text>\n",
       "<text font-family=\"Helvetica,sans-Serif\" font-size=\"14.00\" text-anchor=\"start\" x=\"721.5\" y=\"-7.8\">Not Survied</text>\n",
       "</g>\n",
       "<!-- 12&#45;&gt;13 -->\n",
       "<g class=\"edge\" id=\"edge13\"><title>12-&gt;13</title>\n",
       "<path d=\"M758.5,-88.9485C758.5,-80.7153 758.5,-71.848 758.5,-63.4814\" fill=\"none\" stroke=\"black\"/>\n",
       "<polygon fill=\"black\" points=\"762,-63.2367 758.5,-53.2367 755,-63.2367 762,-63.2367\" stroke=\"black\"/>\n",
       "</g>\n",
       "<!-- 14 -->\n",
       "<g class=\"node\" id=\"node15\"><title>14</title>\n",
       "<path d=\"M922,-53C922,-53 841,-53 841,-53 835,-53 829,-47 829,-41 829,-41 829,-12 829,-12 829,-6 835,-0 841,-0 841,-0 922,-0 922,-0 928,-0 934,-6 934,-12 934,-12 934,-41 934,-41 934,-47 928,-53 922,-53\" fill=\"#e58139\" fill-opacity=\"0.874510\" stroke=\"black\"/>\n",
       "<text font-family=\"Helvetica,sans-Serif\" font-size=\"14.00\" text-anchor=\"start\" x=\"860.5\" y=\"-37.8\">46.6%</text>\n",
       "<text font-family=\"Helvetica,sans-Serif\" font-size=\"14.00\" text-anchor=\"start\" x=\"837\" y=\"-22.8\">[0.888, 0.112]</text>\n",
       "<text font-family=\"Helvetica,sans-Serif\" font-size=\"14.00\" text-anchor=\"start\" x=\"844.5\" y=\"-7.8\">Not Survied</text>\n",
       "</g>\n",
       "<!-- 12&#45;&gt;14 -->\n",
       "<g class=\"edge\" id=\"edge14\"><title>12-&gt;14</title>\n",
       "<path d=\"M801.519,-88.9485C814.022,-79.3431 827.647,-68.8747 840.051,-59.345\" fill=\"none\" stroke=\"black\"/>\n",
       "<polygon fill=\"black\" points=\"842.204,-62.1046 848.001,-53.2367 837.939,-56.5537 842.204,-62.1046\" stroke=\"black\"/>\n",
       "</g>\n",
       "</g>\n",
       "</svg>"
      ],
      "text/plain": [
       "<IPython.core.display.SVG object>"
      ]
     },
     "metadata": {},
     "output_type": "display_data"
    }
   ],
   "source": [
    "from sklearn import tree\n",
    "from graphviz import Source\n",
    "from IPython.display import SVG\n",
    "\n",
    "dot_data = tree.export_graphviz(dtc, \n",
    "                                label = 'root',\n",
    "                                proportion = True,\n",
    "                                impurity=False,\n",
    "                                out_file=None,\n",
    "                                feature_names=feature_selected, \n",
    "                                class_names=['Not Survied', 'Survied'], \n",
    "                                filled=True, # color node according to the majority class\n",
    "                                rounded=True, \n",
    "                                special_characters=True) \n",
    "\n",
    "graph = Source(dot_data)\n",
    "display(SVG(graph.pipe(format='svg')))"
   ]
  },
  {
   "cell_type": "markdown",
   "metadata": {},
   "source": [
    "## Random Forest with Standard Grid Search"
   ]
  },
  {
   "cell_type": "markdown",
   "metadata": {},
   "source": [
    "Random forest is a type of ensemble model which build a series of decision trees in parallel with replacement sampling for both observations and features"
   ]
  },
  {
   "cell_type": "code",
   "execution_count": 77,
   "metadata": {},
   "outputs": [],
   "source": [
    "from sklearn.ensemble import RandomForestClassifier\n",
    "\n",
    "# Choose the type of classifier. \n",
    "rfc = RandomForestClassifier(random_state=0)"
   ]
  },
  {
   "cell_type": "markdown",
   "metadata": {},
   "source": [
    "Standard Grid Search is an exhaustive search over specified parameter values for an estimator"
   ]
  },
  {
   "cell_type": "code",
   "execution_count": 78,
   "metadata": {},
   "outputs": [
    {
     "name": "stdout",
     "output_type": "stream",
     "text": [
      "Wall time: 54.2 s\n"
     ]
    }
   ],
   "source": [
    "%%time\n",
    "\n",
    "from sklearn.model_selection import GridSearchCV\n",
    "\n",
    "# Choose some parameter combinations to try\n",
    "parameters = {'n_estimators': [4, 6, 9], \n",
    "              'max_features': ['log2', 'sqrt','auto'], \n",
    "              'criterion': ['entropy', 'gini'],\n",
    "              'max_depth': [2, 3, 5, 10], \n",
    "              'min_samples_split': [2, 3, 5],\n",
    "              'min_samples_leaf': [1,5,8]\n",
    "             }\n",
    "\n",
    "# Run the grid search\n",
    "grid_obj = GridSearchCV(rfc, parameters, scoring='roc_auc', cv = 5)\n",
    "grid_obj = grid_obj.fit(X_train_selected, y_train)"
   ]
  },
  {
   "cell_type": "code",
   "execution_count": 79,
   "metadata": {},
   "outputs": [
    {
     "name": "stdout",
     "output_type": "stream",
     "text": [
      "{'criterion': 'entropy', 'max_depth': 5, 'max_features': 'log2', 'min_samples_leaf': 1, 'min_samples_split': 3, 'n_estimators': 4}\n"
     ]
    }
   ],
   "source": [
    "# check the best hyper parameters\n",
    "print(grid_obj.best_params_)"
   ]
  },
  {
   "cell_type": "markdown",
   "metadata": {},
   "source": [
    "Save the best model and make prediction"
   ]
  },
  {
   "cell_type": "code",
   "execution_count": 258,
   "metadata": {},
   "outputs": [],
   "source": [
    "# Set the rfc to the best combination of parameters\n",
    "rfc_best = grid_obj.best_estimator_\n",
    "\n",
    "# model evaluation of test data set\n",
    "y_test_prob = rfc_best.predict_proba(X_test_selected)[:,1]\n",
    "y_test_pred = rfc_best.predict(X_test_selected)"
   ]
  },
  {
   "cell_type": "markdown",
   "metadata": {},
   "source": [
    "Model evaluation"
   ]
  },
  {
   "cell_type": "code",
   "execution_count": 259,
   "metadata": {},
   "outputs": [
    {
     "name": "stdout",
     "output_type": "stream",
     "text": [
      "cross validation AUC mean: 0.883\n",
      "test data AUC: 0.841\n",
      "recall: 0.605\n",
      "precision: 0.812\n",
      "F1 score: 0.693\n"
     ]
    }
   ],
   "source": [
    "from sklearn.metrics import make_scorer, accuracy_score, recall_score, precision_score, f1_score\n",
    "\n",
    "print(f\"cross validation AUC mean: {grid_obj.best_score_:.3f}\") #mean cross-validated score of the best_estimator\n",
    "print(f\"test data AUC: {roc_auc_score(y_test, y_test_prob):.3f}\")\n",
    "print(f\"recall: {recall_score(y_test, y_test_pred):.3f}\")\n",
    "print(f\"precision: {precision_score(y_test, y_test_pred):.3f}\")\n",
    "print(f\"F1 score: {f1_score(y_test, y_test_pred):.3f}\")"
   ]
  },
  {
   "cell_type": "markdown",
   "metadata": {},
   "source": [
    "## GBM with Random Search"
   ]
  },
  {
   "cell_type": "markdown",
   "metadata": {},
   "source": [
    "GBM is an ensembled modeling approach to train model in sequence on a weighted version of the data. Each model is used to improve the prediction of the previous model by minimize the error"
   ]
  },
  {
   "cell_type": "code",
   "execution_count": 80,
   "metadata": {},
   "outputs": [],
   "source": [
    "from sklearn.ensemble import GradientBoostingClassifier\n",
    "gbm = GradientBoostingClassifier(random_state=0)"
   ]
  },
  {
   "cell_type": "markdown",
   "metadata": {},
   "source": [
    "In contrast to Grid Search, random search does not search all combinations of parameter values. Instead it will search a fixed number of parameter settings which sampled from the specified distributions"
   ]
  },
  {
   "cell_type": "code",
   "execution_count": 81,
   "metadata": {},
   "outputs": [
    {
     "name": "stdout",
     "output_type": "stream",
     "text": [
      "Wall time: 21.8 s\n"
     ]
    }
   ],
   "source": [
    "%%time\n",
    "\n",
    "from sklearn.model_selection import RandomizedSearchCV\n",
    "\n",
    "# Choose some parameter combinations to try\n",
    "param_dist = {\n",
    "              \"max_depth\": [3, None],\n",
    "              \"min_samples_split\": range(2, 11),\n",
    "              \"min_samples_leaf\": range(2, 11),\n",
    "              'subsample': np.arange(0.5, 1, 0.1),\n",
    "              'learning_rate': np.arange(0.01, 0.2, 0.01)\n",
    "}\n",
    "\n",
    "# n_iter controls the number of searches\n",
    "rand_obj = RandomizedSearchCV(gbm, param_distributions=param_dist, cv=10, \n",
    "                              scoring='roc_auc', n_iter=10, random_state=5)\n",
    "\n",
    "rand_obj = rand_obj.fit(X_train_selected, y_train)"
   ]
  },
  {
   "cell_type": "code",
   "execution_count": 82,
   "metadata": {},
   "outputs": [
    {
     "name": "stdout",
     "output_type": "stream",
     "text": [
      "{'subsample': 0.8999999999999999, 'min_samples_split': 7, 'min_samples_leaf': 2, 'max_depth': 3, 'learning_rate': 0.060000000000000005}\n"
     ]
    }
   ],
   "source": [
    "# check the best hyper parameters\n",
    "print(rand_obj.best_params_)"
   ]
  },
  {
   "cell_type": "markdown",
   "metadata": {},
   "source": [
    "Save the best model and make prediction"
   ]
  },
  {
   "cell_type": "code",
   "execution_count": 263,
   "metadata": {},
   "outputs": [],
   "source": [
    "# Set the rfc to the best combination of parameters\n",
    "gbm_best = rand_obj.best_estimator_\n",
    "\n",
    "# model evaluation of test data set\n",
    "y_test_prob = gbm_best.predict_proba(X_test_selected)[:,1]\n",
    "y_test_pred = gbm_best.predict(X_test_selected)"
   ]
  },
  {
   "cell_type": "markdown",
   "metadata": {},
   "source": [
    "Model evaluation"
   ]
  },
  {
   "cell_type": "code",
   "execution_count": 264,
   "metadata": {},
   "outputs": [
    {
     "name": "stdout",
     "output_type": "stream",
     "text": [
      "cross validation AUC mean: 0.887\n",
      "test data AUC: 0.853\n",
      "recall: 0.702\n",
      "precision: 0.800\n",
      "F1 score: 0.748\n"
     ]
    }
   ],
   "source": [
    "print(f\"cross validation AUC mean: {rand_obj.best_score_:.3f}\") #mean cross-validated score of the best_estimator\n",
    "print(f\"test data AUC: {roc_auc_score(y_test, y_test_prob):.3f}\")\n",
    "print(f\"recall: {recall_score(y_test, y_test_pred):.3f}\")\n",
    "print(f\"precision: {precision_score(y_test, y_test_pred):.3f}\")\n",
    "print(f\"F1 score: {f1_score(y_test, y_test_pred):.3f}\")"
   ]
  },
  {
   "cell_type": "markdown",
   "metadata": {},
   "source": [
    "## Model Interpretation"
   ]
  },
  {
   "cell_type": "markdown",
   "metadata": {},
   "source": [
    "Feature importance provides a score that indicates how useful or valuable each feature was in the construction of the model"
   ]
  },
  {
   "cell_type": "code",
   "execution_count": 265,
   "metadata": {},
   "outputs": [
    {
     "data": {
      "text/plain": [
       "<matplotlib.axes._subplots.AxesSubplot at 0x2113c0f3278>"
      ]
     },
     "execution_count": 265,
     "metadata": {},
     "output_type": "execute_result"
    },
    {
     "data": {
      "image/png": "[encoded data removed]",
      "text/plain": [
       "<Figure size 432x288 with 1 Axes>"
      ]
     },
     "metadata": {
      "needs_background": "light"
     },
     "output_type": "display_data"
    }
   ],
   "source": [
    "importance = gbm_best.feature_importances_\n",
    "importance = pd.DataFrame(importance, index=X_train_selected.columns,\n",
    "                          columns=[\"Importance\"]).sort_values(['Importance'], ascending = [False]).reset_index()\n",
    "\n",
    "sns.barplot(x = \"Importance\", \n",
    "            y = \"index\",\n",
    "            data = importance,\n",
    "            color = 'xkcd:lightblue',\n",
    "            dodge=False,\n",
    "            orient = \"h\")"
   ]
  },
  {
   "cell_type": "markdown",
   "metadata": {},
   "source": [
    "The partial dependence plot (PDP) shows the marginal effect of a feature on the predicted outcome of the fitted model"
   ]
  },
  {
   "cell_type": "code",
   "execution_count": 266,
   "metadata": {},
   "outputs": [
    {
     "data": {
      "image/png": "[encoded data removed]",
      "text/plain": [
       "<Figure size 1080x720 with 8 Axes>"
      ]
     },
     "metadata": {
      "needs_background": "light"
     },
     "output_type": "display_data"
    }
   ],
   "source": [
    "from sklearn.ensemble.partial_dependence import plot_partial_dependence\n",
    "fig, axs = plot_partial_dependence(gbm_best, # the fitted model\n",
    "                                   features = range(0, X_train_selected.shape[1]), # column numbers of plots we want to show\n",
    "                                   X = X_train_selected, # raw predictors data\n",
    "                                   feature_names=X_train_selected.columns, \n",
    "                                   figsize=(15, 10),\n",
    "                                   grid_resolution=10) # number of values to plot on x axis"
   ]
  },
  {
   "cell_type": "markdown",
   "metadata": {},
   "source": [
    "## Model Implementation"
   ]
  },
  {
   "cell_type": "markdown",
   "metadata": {},
   "source": [
    "Here we need to install pickle package to save model fo future scoring purpose.\n",
    "<br>\n",
    "*pip install pickle*"
   ]
  },
  {
   "cell_type": "code",
   "execution_count": 267,
   "metadata": {},
   "outputs": [],
   "source": [
    "# save model\n",
    "import pickle\n",
    "\n",
    "filename = 'gbm_best.pkl'\n",
    "with open(filename, \"wb\") as file:\n",
    "    pickle.dump(gbm_best, file)\n",
    "    file.close()"
   ]
  },
  {
   "cell_type": "markdown",
   "metadata": {},
   "source": [
    "Load model to score new data set"
   ]
  },
  {
   "cell_type": "code",
   "execution_count": 268,
   "metadata": {},
   "outputs": [],
   "source": [
    "# load object\n",
    "with open(filename ,'rb') as f:\n",
    "    loaded_model = pickle.load(f) "
   ]
  },
  {
   "cell_type": "markdown",
   "metadata": {},
   "source": [
    "View the model and can use .predict or .predict_proba to run scoring for a new data set"
   ]
  },
  {
   "cell_type": "code",
   "execution_count": 269,
   "metadata": {},
   "outputs": [
    {
     "data": {
      "text/plain": [
       "GradientBoostingClassifier(criterion='friedman_mse', init=None,\n",
       "              learning_rate=0.060000000000000005, loss='deviance',\n",
       "              max_depth=3, max_features=None, max_leaf_nodes=None,\n",
       "              min_impurity_decrease=0.0, min_impurity_split=None,\n",
       "              min_samples_leaf=2, min_samples_split=7,\n",
       "              min_weight_fraction_leaf=0.0, n_estimators=100,\n",
       "              presort='auto', random_state=0, subsample=0.8999999999999999,\n",
       "              verbose=0, warm_start=False)"
      ]
     },
     "execution_count": 269,
     "metadata": {},
     "output_type": "execute_result"
    }
   ],
   "source": [
    "loaded_model"
   ]
  },
  {
   "cell_type": "markdown",
   "metadata": {},
   "source": [
    "# Useful Links"
   ]
  },
  {
   "cell_type": "markdown",
   "metadata": {},
   "source": [
    "* [Python Data Science Handbook\n",
    "](https://github.com/jakevdp/PythonDataScienceHandbook)\n",
    "* [10 Minutes to pandas](http://pandas.pydata.org/pandas-docs/stable/10min.html)\n",
    "* [Comparison with SAS](http://pandas.pydata.org/pandas-docs/stable/comparison_with_sas.html)\n",
    "* [Automate the Boring Stuff with Python](https://automatetheboringstuff.com/)\n",
    "* [The Elements of Statistical Learning](https://web.stanford.edu/~hastie/Papers/ESLII.pdf)\n",
    "* [Data Science Cheatsheets](https://github.com/FavioVazquez/ds-cheatsheets/blob/master/README.md)"
   ]
  }
 ],
 "metadata": {
  "kernelspec": {
   "display_name": "Python 3",
   "language": "python",
   "name": "python3"
  },
  "language_info": {
   "codemirror_mode": {
    "name": "ipython",
    "version": 3
   },
   "file_extension": ".py",
   "mimetype": "text/x-python",
   "name": "python",
   "nbconvert_exporter": "python",
   "pygments_lexer": "ipython3",
   "version": "3.7.0"
  },
  "toc-autonumbering": true,
  "toc-showtags": false
 },
 "nbformat": 4,
 "nbformat_minor": 2
}
